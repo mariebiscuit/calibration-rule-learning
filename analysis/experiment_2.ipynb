{
 "cells": [
  {
   "cell_type": "code",
   "execution_count": 1,
   "metadata": {},
   "outputs": [],
   "source": [
    "import pandas as pd\n",
    "import os, sys\n",
    "os.chdir(\"../\")\n",
    "sys.path.append('./src')\n",
    "from tqdm import tqdm\n",
    "from utils.get_concept_subsets import SUBSETS, READABLE"
   ]
  },
  {
   "cell_type": "code",
   "execution_count": 2,
   "metadata": {},
   "outputs": [],
   "source": [
    "import json\n",
    "from utils.get_concept_subsets import SUBSETS, READABLE"
   ]
  },
  {
   "cell_type": "markdown",
   "metadata": {},
   "source": [
    "# Combine raw files"
   ]
  },
  {
   "cell_type": "code",
   "execution_count": 35,
   "metadata": {},
   "outputs": [],
   "source": [
    "dfs = []\n",
    "directories = ['./results/experiment_2/raw_results/gpt4_boolean_translated', \n",
    "              './results/experiment_2/raw_results/gpt4_fol_translated']\n",
    "\n",
    "for directory in directories:\n",
    "    for file in os.listdir(directory):\n",
    "        if file.endswith('.csv'):\n",
    "            df = pd.read_csv(os.path.join(directory, file), index_col=0)\n",
    "            df['consistency'] = df['rule_evaluation'].astype(str) == df['model_answer'].astype(str)\n",
    "\n",
    "            current_set = 0\n",
    "            sets = []\n",
    "            for i, row in df.iterrows():\n",
    "                if df['model_reply'].iloc[i] != df['model_reply'].iloc[i-1]:\n",
    "                    current_set += 1\n",
    "                sets.append(current_set)\n",
    "            df['set'] = sets\n",
    "\n",
    "            df.to_csv(os.path.join(directory, file))\n",
    "            dfs.append(df)\n",
    "\n",
    "mdf = pd.concat(dfs)\n",
    "mdf.to_csv('./results/experiment_2/compiled_all_rules.csv')"
   ]
  },
  {
   "cell_type": "code",
   "execution_count": 36,
   "metadata": {},
   "outputs": [
    {
     "data": {
      "text/plain": [
       "0.8917629792698587"
      ]
     },
     "execution_count": 36,
     "metadata": {},
     "output_type": "execute_result"
    }
   ],
   "source": [
    "mdf[(mdf['set'] >= 3) & (~mdf['concept_num'].isin(SUBSETS['boolean']))]['consistency'].mean()"
   ]
  },
  {
   "cell_type": "markdown",
   "metadata": {},
   "source": [
    "## Break apart FOL Rules"
   ]
  },
  {
   "cell_type": "code",
   "execution_count": 37,
   "metadata": {},
   "outputs": [],
   "source": [
    "df = pd.read_csv('./results/experiment_2/compiled_all_rules.csv')\n",
    "df = df[~df['concept_num'].isin(SUBSETS['boolean'])]\n",
    "df.to_csv('./results/experiment_2/compiled_fol_rules.csv')\n"
   ]
  },
  {
   "cell_type": "markdown",
   "metadata": {},
   "source": [
    "# Review Manual annotations"
   ]
  },
  {
   "cell_type": "code",
   "execution_count": 51,
   "metadata": {},
   "outputs": [],
   "source": [
    "from src.translate_explanations import evaluate_python_code, process_python_code\n",
    "import numpy as np\n",
    "import math\n",
    "def check_rule_coverage(annotated_df, code_column='manual_code', only_eval_last_set=False):\n",
    "    \n",
    "    # annotated_df = annotated_df.dropna()\n",
    "    hdf = pd.read_csv('./results/experiment_1/human_concept_stats_to_set25.csv')\n",
    "    coverage = []\n",
    "    full_coverage = []\n",
    "    code_evaluations = []\n",
    "    chance = []\n",
    "    human_lq = []\n",
    "\n",
    "    expression = annotated_df['rule_expression'].tolist()\n",
    "\n",
    "    for i, row in tqdm(annotated_df.iterrows(), total=len(annotated_df)):\n",
    "        concept_df = annotated_df[(annotated_df['concept_num'] == row['concept_num']) & (annotated_df['set'] <= 25)]\n",
    "        yesrate = concept_df['answer'].mean()\n",
    "        chance.append((yesrate * yesrate) + ((1-yesrate) * (1-yesrate)))\n",
    "        human_lq.append(hdf[hdf['concept'] == row['concept_num']]['last_quarter_mean'].iloc[0])\n",
    "\n",
    "        if (row[code_column] not in [\"\" or \"NA\"] and not pd.isna(row[code_column])) and ((not only_eval_last_set) or (row['set'] == 25)):\n",
    "            if \"set\" in row[code_column]:\n",
    "                code_evaluations.append(evaluate_python_code(row[code_column], row['object'], int(row['set']), row['concept_num']))\n",
    "                coverage.append((np.array([\n",
    "                    evaluate_python_code(row[code_column], backrow['object'], int(backrow['set']), backrow['concept_num']) for _, backrow in concept_df.iloc[:i, :].iterrows()\n",
    "                    ]) == concept_df.iloc[:i, :].loc[:, 'answer']).mean())\n",
    "                full_coverage.append((np.array([\n",
    "                    evaluate_python_code(row[code_column], backrow['object'], int(backrow['set']), backrow['concept_num']) for _, backrow in concept_df.iterrows()\n",
    "                    ]) == concept_df.loc[:, 'answer']).mean())\n",
    "            else:\n",
    "                code_evaluations.append(evaluate_python_code(row[code_column], row['object']))\n",
    "                # if row['concept_num'] == 'hg100':\n",
    "                #     print((np.array([\n",
    "                #     evaluate_python_code(row[code_column], backrow['object']) for _, backrow in concept_df.iloc[:i, :].iterrows()\n",
    "                #     ]) == concept_df.iloc[:i, :].loc[:, 'answer']).mean())\n",
    "                #     print((np.array([\n",
    "                #         evaluate_python_code(row[code_column], backrow['object']) for _, backrow in concept_df.iloc[:i, :].iterrows()\n",
    "                #     ]) == concept_df.iloc[:i, :].loc[:, 'answer']))\n",
    "                coverage.append((np.array([\n",
    "                    evaluate_python_code(row[code_column], backrow['object']) for _, backrow in concept_df.iloc[:i, :].iterrows()\n",
    "                    ]) == concept_df.iloc[:i, :].loc[:, 'answer']).mean())\n",
    "                full_coverage.append((np.array([\n",
    "                    evaluate_python_code(row[code_column], backrow['object']) for _, backrow in concept_df.iterrows()\n",
    "                    ]) == concept_df.loc[:, 'answer']).mean())\n",
    "                \n",
    "            if row['rule_expression'] == \"\":\n",
    "                expression[i] = process_python_code(row[code_column])\n",
    "        else:\n",
    "            full_coverage.append(-1)\n",
    "            coverage.append(-1)\n",
    "            code_evaluations.append(\"NA\")\n",
    "\n",
    "    annotated_df['code_eval'] = code_evaluations\n",
    "    annotated_df['rule_expression'] = expression\n",
    "    annotated_df['human_lq'] = human_lq\n",
    "    annotated_df['chance'] = chance\n",
    "    annotated_df[\"coverage_\" + code_column] = coverage\n",
    "    annotated_df[\"full_coverage_\" + code_column] = full_coverage\n",
    "    annotated_df['consistency'] = annotated_df['code_eval'].astype(str).apply(lambda x: x.strip().lower()) == annotated_df['model_answer'].astype(str).apply(lambda x: x.strip().lower()) \n",
    "\n",
    "    return annotated_df"
   ]
  },
  {
   "cell_type": "code",
   "execution_count": 101,
   "metadata": {},
   "outputs": [
    {
     "name": "stderr",
     "output_type": "stream",
     "text": [
      "100%|██████████| 2542/2542 [05:40<00:00,  7.46it/s] \n"
     ]
    },
    {
     "data": {
      "text/html": [
       "<div>\n",
       "<style scoped>\n",
       "    .dataframe tbody tr th:only-of-type {\n",
       "        vertical-align: middle;\n",
       "    }\n",
       "\n",
       "    .dataframe tbody tr th {\n",
       "        vertical-align: top;\n",
       "    }\n",
       "\n",
       "    .dataframe thead th {\n",
       "        text-align: right;\n",
       "    }\n",
       "</style>\n",
       "<table border=\"1\" class=\"dataframe\">\n",
       "  <thead>\n",
       "    <tr style=\"text-align: right;\">\n",
       "      <th></th>\n",
       "      <th>concept_num</th>\n",
       "      <th>coverage_manual_code</th>\n",
       "      <th>human_lq</th>\n",
       "      <th>concept</th>\n",
       "      <th>rule_expression</th>\n",
       "    </tr>\n",
       "  </thead>\n",
       "  <tbody>\n",
       "    <tr>\n",
       "      <th>1878</th>\n",
       "      <td>hg78</td>\n",
       "      <td>0.142857</td>\n",
       "      <td>0.916509</td>\n",
       "      <td>blue implies circle</td>\n",
       "      <td>blue and triangle</td>\n",
       "    </tr>\n",
       "    <tr>\n",
       "      <th>1879</th>\n",
       "      <td>hg78</td>\n",
       "      <td>0.142857</td>\n",
       "      <td>0.916509</td>\n",
       "      <td>blue implies circle</td>\n",
       "      <td>blue and triangle</td>\n",
       "    </tr>\n",
       "    <tr>\n",
       "      <th>763</th>\n",
       "      <td>hg11</td>\n",
       "      <td>0.144737</td>\n",
       "      <td>0.984091</td>\n",
       "      <td>not (circle and blue)</td>\n",
       "      <td>large and blue</td>\n",
       "    </tr>\n",
       "    <tr>\n",
       "      <th>762</th>\n",
       "      <td>hg11</td>\n",
       "      <td>0.144737</td>\n",
       "      <td>0.984091</td>\n",
       "      <td>not (circle and blue)</td>\n",
       "      <td>large and blue</td>\n",
       "    </tr>\n",
       "    <tr>\n",
       "      <th>764</th>\n",
       "      <td>hg11</td>\n",
       "      <td>0.144737</td>\n",
       "      <td>0.984091</td>\n",
       "      <td>not (circle and blue)</td>\n",
       "      <td>large and blue</td>\n",
       "    </tr>\n",
       "    <tr>\n",
       "      <th>...</th>\n",
       "      <td>...</td>\n",
       "      <td>...</td>\n",
       "      <td>...</td>\n",
       "      <td>...</td>\n",
       "      <td>...</td>\n",
       "    </tr>\n",
       "    <tr>\n",
       "      <th>867</th>\n",
       "      <td>hg12</td>\n",
       "      <td>1.000000</td>\n",
       "      <td>0.909091</td>\n",
       "      <td>not (circle or blue)</td>\n",
       "      <td>(green and (rectangle or triangle)) or (yellow...</td>\n",
       "    </tr>\n",
       "    <tr>\n",
       "      <th>866</th>\n",
       "      <td>hg12</td>\n",
       "      <td>1.000000</td>\n",
       "      <td>0.909091</td>\n",
       "      <td>not (circle or blue)</td>\n",
       "      <td>(green and (rectangle or triangle)) or (yellow...</td>\n",
       "    </tr>\n",
       "    <tr>\n",
       "      <th>596</th>\n",
       "      <td>hg08</td>\n",
       "      <td>1.000000</td>\n",
       "      <td>0.930526</td>\n",
       "      <td>blue or green</td>\n",
       "      <td>(green or blue)</td>\n",
       "    </tr>\n",
       "    <tr>\n",
       "      <th>2554</th>\n",
       "      <td>hg86</td>\n",
       "      <td>1.000000</td>\n",
       "      <td>0.917184</td>\n",
       "      <td>circle or (triangle implies blue)</td>\n",
       "      <td>(rectangle) or (circle) or (triangle and blue)</td>\n",
       "    </tr>\n",
       "    <tr>\n",
       "      <th>0</th>\n",
       "      <td>hg01</td>\n",
       "      <td>NaN</td>\n",
       "      <td>0.997159</td>\n",
       "      <td>True</td>\n",
       "      <td>small and blue and circle</td>\n",
       "    </tr>\n",
       "  </tbody>\n",
       "</table>\n",
       "<p>2542 rows × 5 columns</p>\n",
       "</div>"
      ],
      "text/plain": [
       "     concept_num  coverage_manual_code  human_lq  \\\n",
       "1878        hg78              0.142857  0.916509   \n",
       "1879        hg78              0.142857  0.916509   \n",
       "763         hg11              0.144737  0.984091   \n",
       "762         hg11              0.144737  0.984091   \n",
       "764         hg11              0.144737  0.984091   \n",
       "...          ...                   ...       ...   \n",
       "867         hg12              1.000000  0.909091   \n",
       "866         hg12              1.000000  0.909091   \n",
       "596         hg08              1.000000  0.930526   \n",
       "2554        hg86              1.000000  0.917184   \n",
       "0           hg01                   NaN  0.997159   \n",
       "\n",
       "                                concept  \\\n",
       "1878                blue implies circle   \n",
       "1879                blue implies circle   \n",
       "763               not (circle and blue)   \n",
       "762               not (circle and blue)   \n",
       "764               not (circle and blue)   \n",
       "...                                 ...   \n",
       "867                not (circle or blue)   \n",
       "866                not (circle or blue)   \n",
       "596                       blue or green   \n",
       "2554  circle or (triangle implies blue)   \n",
       "0                                  True   \n",
       "\n",
       "                                        rule_expression  \n",
       "1878                                  blue and triangle  \n",
       "1879                                  blue and triangle  \n",
       "763                                      large and blue  \n",
       "762                                      large and blue  \n",
       "764                                      large and blue  \n",
       "...                                                 ...  \n",
       "867   (green and (rectangle or triangle)) or (yellow...  \n",
       "866   (green and (rectangle or triangle)) or (yellow...  \n",
       "596                                     (green or blue)  \n",
       "2554    (rectangle) or (circle) or (triangle and blue)   \n",
       "0                             small and blue and circle  \n",
       "\n",
       "[2542 rows x 5 columns]"
      ]
     },
     "execution_count": 101,
     "metadata": {},
     "output_type": "execute_result"
    }
   ],
   "source": [
    "manual_rule_coverage = check_rule_coverage(\n",
    "    pd.read_csv('./results/experiment_2/compiled_bool_rules_annotated.csv')\n",
    "    ).sort_values(['coverage_manual_code'])\n",
    "manual_rule_coverage.to_csv('./results/experiment_2/compiled_bool_rules_annotated_stats.csv')\n",
    "manual_rule_coverage.loc[:, ['concept_num', 'coverage_manual_code', 'human_lq', 'concept', 'rule_expression']]"
   ]
  },
  {
   "cell_type": "code",
   "execution_count": 106,
   "metadata": {},
   "outputs": [
    {
     "name": "stdout",
     "output_type": "stream",
     "text": [
      "Overall accuracy 0.8623131392604249\n",
      "Last quarter accuracy 0.9335728192940191\n",
      "Overall accuracy 0.8414634146341463\n",
      "Last quarter accuracy 0.9035882722338028\n"
     ]
    }
   ],
   "source": [
    "manual_rule_coverage = pd.read_csv('./results/experiment_2/compiled_bool_rules_annotated_stats.csv')\n",
    "manual_rule_coverage['score'] = manual_rule_coverage['answer'] == manual_rule_coverage['model_answer']\n",
    "acc_df = manual_rule_coverage.groupby(['concept']).apply(lambda x: x[x['item_num'] >= (3 * (max(x['item_num']) / 4))]['score'].mean()).reset_index()\n",
    "print(\"Overall accuracy\", manual_rule_coverage['score'].mean())\n",
    "print(\"Last quarter accuracy\", acc_df.loc[:, 0].mean())\n",
    "\n",
    "manual_rule_coverage['score'] = manual_rule_coverage['answer'] == manual_rule_coverage['code_eval']\n",
    "acc_df = manual_rule_coverage.groupby(['concept']).apply(lambda x: x[x['item_num'] >= (3 * (max(x['item_num']) / 4))]['score'].mean()).reset_index()\n",
    "print(\"Overall accuracy\", manual_rule_coverage['score'].mean())\n",
    "print(\"Last quarter accuracy\", acc_df.loc[:, 0].mean())"
   ]
  },
  {
   "cell_type": "code",
   "execution_count": 107,
   "metadata": {},
   "outputs": [
    {
     "data": {
      "text/html": [
       "<div>\n",
       "<style scoped>\n",
       "    .dataframe tbody tr th:only-of-type {\n",
       "        vertical-align: middle;\n",
       "    }\n",
       "\n",
       "    .dataframe tbody tr th {\n",
       "        vertical-align: top;\n",
       "    }\n",
       "\n",
       "    .dataframe thead th {\n",
       "        text-align: right;\n",
       "    }\n",
       "</style>\n",
       "<table border=\"1\" class=\"dataframe\">\n",
       "  <thead>\n",
       "    <tr style=\"text-align: right;\">\n",
       "      <th></th>\n",
       "      <th>concept</th>\n",
       "      <th>Unnamed: 0</th>\n",
       "      <th>item_num</th>\n",
       "      <th>answer</th>\n",
       "      <th>model_answer</th>\n",
       "      <th>set</th>\n",
       "      <th>code_eval</th>\n",
       "      <th>human_lq</th>\n",
       "      <th>chance</th>\n",
       "      <th>coverage_manual_code</th>\n",
       "      <th>full_coverage_manual_code</th>\n",
       "      <th>consistency</th>\n",
       "      <th>score</th>\n",
       "    </tr>\n",
       "  </thead>\n",
       "  <tbody>\n",
       "    <tr>\n",
       "      <th>3</th>\n",
       "      <td>(not blue) implies (not circle)</td>\n",
       "      <td>2092.500000</td>\n",
       "      <td>36.500000</td>\n",
       "      <td>0.743243</td>\n",
       "      <td>0.648649</td>\n",
       "      <td>12.108108</td>\n",
       "      <td>0.648649</td>\n",
       "      <td>0.914787</td>\n",
       "      <td>0.618335</td>\n",
       "      <td>0.780131</td>\n",
       "      <td>0.780131</td>\n",
       "      <td>0.891892</td>\n",
       "      <td>0.770270</td>\n",
       "    </tr>\n",
       "    <tr>\n",
       "      <th>22</th>\n",
       "      <td>circle xor blue</td>\n",
       "      <td>1031.500000</td>\n",
       "      <td>34.500000</td>\n",
       "      <td>0.442857</td>\n",
       "      <td>0.285714</td>\n",
       "      <td>11.900000</td>\n",
       "      <td>0.285714</td>\n",
       "      <td>0.886243</td>\n",
       "      <td>0.506531</td>\n",
       "      <td>0.776531</td>\n",
       "      <td>0.776531</td>\n",
       "      <td>0.914286</td>\n",
       "      <td>0.728571</td>\n",
       "    </tr>\n",
       "    <tr>\n",
       "      <th>8</th>\n",
       "      <td>blue implies circle</td>\n",
       "      <td>1924.833333</td>\n",
       "      <td>46.833333</td>\n",
       "      <td>0.738095</td>\n",
       "      <td>0.654762</td>\n",
       "      <td>13.011905</td>\n",
       "      <td>0.619048</td>\n",
       "      <td>0.916509</td>\n",
       "      <td>0.613379</td>\n",
       "      <td>0.830074</td>\n",
       "      <td>0.830074</td>\n",
       "      <td>0.916667</td>\n",
       "      <td>0.833333</td>\n",
       "    </tr>\n",
       "    <tr>\n",
       "      <th>2</th>\n",
       "      <td>(circle or triangle) implies blue</td>\n",
       "      <td>2225.500000</td>\n",
       "      <td>30.500000</td>\n",
       "      <td>0.516667</td>\n",
       "      <td>0.433333</td>\n",
       "      <td>13.600000</td>\n",
       "      <td>0.366667</td>\n",
       "      <td>0.920387</td>\n",
       "      <td>0.500556</td>\n",
       "      <td>0.733333</td>\n",
       "      <td>0.733333</td>\n",
       "      <td>0.933333</td>\n",
       "      <td>0.816667</td>\n",
       "    </tr>\n",
       "    <tr>\n",
       "      <th>25</th>\n",
       "      <td>large or small</td>\n",
       "      <td>1464.000000</td>\n",
       "      <td>39.000000</td>\n",
       "      <td>0.759494</td>\n",
       "      <td>0.670886</td>\n",
       "      <td>13.101266</td>\n",
       "      <td>0.683544</td>\n",
       "      <td>0.910000</td>\n",
       "      <td>0.634674</td>\n",
       "      <td>0.767986</td>\n",
       "      <td>0.767986</td>\n",
       "      <td>0.936709</td>\n",
       "      <td>0.822785</td>\n",
       "    </tr>\n",
       "    <tr>\n",
       "      <th>9</th>\n",
       "      <td>blue implies size 1</td>\n",
       "      <td>2162.000000</td>\n",
       "      <td>32.000000</td>\n",
       "      <td>0.815385</td>\n",
       "      <td>0.661538</td>\n",
       "      <td>12.430769</td>\n",
       "      <td>0.723077</td>\n",
       "      <td>0.921569</td>\n",
       "      <td>0.698935</td>\n",
       "      <td>0.746982</td>\n",
       "      <td>0.746982</td>\n",
       "      <td>0.938462</td>\n",
       "      <td>0.753846</td>\n",
       "    </tr>\n",
       "    <tr>\n",
       "      <th>24</th>\n",
       "      <td>large or medium</td>\n",
       "      <td>1540.000000</td>\n",
       "      <td>36.000000</td>\n",
       "      <td>0.690141</td>\n",
       "      <td>0.591549</td>\n",
       "      <td>13.802817</td>\n",
       "      <td>0.563380</td>\n",
       "      <td>0.875598</td>\n",
       "      <td>0.572307</td>\n",
       "      <td>0.808371</td>\n",
       "      <td>0.808371</td>\n",
       "      <td>0.943662</td>\n",
       "      <td>0.845070</td>\n",
       "    </tr>\n",
       "    <tr>\n",
       "      <th>30</th>\n",
       "      <td>not (circle xor blue)</td>\n",
       "      <td>1105.000000</td>\n",
       "      <td>38.000000</td>\n",
       "      <td>0.506494</td>\n",
       "      <td>0.428571</td>\n",
       "      <td>13.870130</td>\n",
       "      <td>0.428571</td>\n",
       "      <td>0.805263</td>\n",
       "      <td>0.500084</td>\n",
       "      <td>0.664024</td>\n",
       "      <td>0.664024</td>\n",
       "      <td>0.948052</td>\n",
       "      <td>0.688312</td>\n",
       "    </tr>\n",
       "    <tr>\n",
       "      <th>18</th>\n",
       "      <td>circle or (triangle implies blue)</td>\n",
       "      <td>2514.500000</td>\n",
       "      <td>39.500000</td>\n",
       "      <td>0.787500</td>\n",
       "      <td>0.637500</td>\n",
       "      <td>14.425000</td>\n",
       "      <td>0.637500</td>\n",
       "      <td>0.917184</td>\n",
       "      <td>0.665312</td>\n",
       "      <td>0.789219</td>\n",
       "      <td>0.789219</td>\n",
       "      <td>0.950000</td>\n",
       "      <td>0.800000</td>\n",
       "    </tr>\n",
       "    <tr>\n",
       "      <th>29</th>\n",
       "      <td>not (circle or blue)</td>\n",
       "      <td>881.000000</td>\n",
       "      <td>42.000000</td>\n",
       "      <td>0.517647</td>\n",
       "      <td>0.482353</td>\n",
       "      <td>13.211765</td>\n",
       "      <td>0.505882</td>\n",
       "      <td>0.909091</td>\n",
       "      <td>0.500623</td>\n",
       "      <td>0.846505</td>\n",
       "      <td>0.846505</td>\n",
       "      <td>0.952941</td>\n",
       "      <td>0.847059</td>\n",
       "    </tr>\n",
       "    <tr>\n",
       "      <th>17</th>\n",
       "      <td>circle or (blue and triangle)</td>\n",
       "      <td>2441.000000</td>\n",
       "      <td>33.000000</td>\n",
       "      <td>0.477612</td>\n",
       "      <td>0.492537</td>\n",
       "      <td>12.731343</td>\n",
       "      <td>0.507463</td>\n",
       "      <td>0.918159</td>\n",
       "      <td>0.501002</td>\n",
       "      <td>0.805747</td>\n",
       "      <td>0.805747</td>\n",
       "      <td>0.955224</td>\n",
       "      <td>0.761194</td>\n",
       "    </tr>\n",
       "    <tr>\n",
       "      <th>13</th>\n",
       "      <td>circle and (not blue)</td>\n",
       "      <td>725.000000</td>\n",
       "      <td>36.000000</td>\n",
       "      <td>0.205479</td>\n",
       "      <td>0.178082</td>\n",
       "      <td>13.452055</td>\n",
       "      <td>0.164384</td>\n",
       "      <td>0.997712</td>\n",
       "      <td>0.673485</td>\n",
       "      <td>0.922312</td>\n",
       "      <td>0.922312</td>\n",
       "      <td>0.958904</td>\n",
       "      <td>0.876712</td>\n",
       "    </tr>\n",
       "    <tr>\n",
       "      <th>10</th>\n",
       "      <td>blue or green</td>\n",
       "      <td>574.000000</td>\n",
       "      <td>36.000000</td>\n",
       "      <td>0.726027</td>\n",
       "      <td>0.643836</td>\n",
       "      <td>12.890411</td>\n",
       "      <td>0.630137</td>\n",
       "      <td>0.930526</td>\n",
       "      <td>0.602177</td>\n",
       "      <td>0.849878</td>\n",
       "      <td>0.849878</td>\n",
       "      <td>0.958904</td>\n",
       "      <td>0.821918</td>\n",
       "    </tr>\n",
       "    <tr>\n",
       "      <th>19</th>\n",
       "      <td>circle or blue</td>\n",
       "      <td>420.500000</td>\n",
       "      <td>38.500000</td>\n",
       "      <td>0.525641</td>\n",
       "      <td>0.564103</td>\n",
       "      <td>13.397436</td>\n",
       "      <td>0.576923</td>\n",
       "      <td>0.886957</td>\n",
       "      <td>0.501315</td>\n",
       "      <td>0.866042</td>\n",
       "      <td>0.866042</td>\n",
       "      <td>0.961538</td>\n",
       "      <td>0.820513</td>\n",
       "    </tr>\n",
       "    <tr>\n",
       "      <th>0</th>\n",
       "      <td>(circle and blue) or (triangle and green)</td>\n",
       "      <td>2296.000000</td>\n",
       "      <td>40.000000</td>\n",
       "      <td>0.283951</td>\n",
       "      <td>0.246914</td>\n",
       "      <td>13.728395</td>\n",
       "      <td>0.259259</td>\n",
       "      <td>0.954545</td>\n",
       "      <td>0.593355</td>\n",
       "      <td>0.831428</td>\n",
       "      <td>0.831428</td>\n",
       "      <td>0.962963</td>\n",
       "      <td>0.851852</td>\n",
       "    </tr>\n",
       "    <tr>\n",
       "      <th>21</th>\n",
       "      <td>circle xor (not blue)</td>\n",
       "      <td>1176.861538</td>\n",
       "      <td>32.861538</td>\n",
       "      <td>0.538462</td>\n",
       "      <td>0.584615</td>\n",
       "      <td>12.892308</td>\n",
       "      <td>0.615385</td>\n",
       "      <td>0.794118</td>\n",
       "      <td>0.502959</td>\n",
       "      <td>0.760710</td>\n",
       "      <td>0.760710</td>\n",
       "      <td>0.969231</td>\n",
       "      <td>0.800000</td>\n",
       "    </tr>\n",
       "    <tr>\n",
       "      <th>1</th>\n",
       "      <td>(circle or blue) or  (triangle and green)</td>\n",
       "      <td>2372.000000</td>\n",
       "      <td>35.000000</td>\n",
       "      <td>0.577465</td>\n",
       "      <td>0.366197</td>\n",
       "      <td>13.507042</td>\n",
       "      <td>0.366197</td>\n",
       "      <td>0.886243</td>\n",
       "      <td>0.512002</td>\n",
       "      <td>0.812537</td>\n",
       "      <td>0.812537</td>\n",
       "      <td>0.971831</td>\n",
       "      <td>0.704225</td>\n",
       "    </tr>\n",
       "    <tr>\n",
       "      <th>26</th>\n",
       "      <td>medium</td>\n",
       "      <td>1315.500000</td>\n",
       "      <td>35.500000</td>\n",
       "      <td>0.361111</td>\n",
       "      <td>0.263889</td>\n",
       "      <td>13.597222</td>\n",
       "      <td>0.291667</td>\n",
       "      <td>0.927948</td>\n",
       "      <td>0.538580</td>\n",
       "      <td>0.892747</td>\n",
       "      <td>0.892747</td>\n",
       "      <td>0.972222</td>\n",
       "      <td>0.902778</td>\n",
       "    </tr>\n",
       "    <tr>\n",
       "      <th>31</th>\n",
       "      <td>not circle</td>\n",
       "      <td>336.704545</td>\n",
       "      <td>43.704545</td>\n",
       "      <td>0.636364</td>\n",
       "      <td>0.602273</td>\n",
       "      <td>12.715909</td>\n",
       "      <td>0.625000</td>\n",
       "      <td>0.961957</td>\n",
       "      <td>0.537190</td>\n",
       "      <td>0.948089</td>\n",
       "      <td>0.948089</td>\n",
       "      <td>0.977273</td>\n",
       "      <td>0.965909</td>\n",
       "    </tr>\n",
       "    <tr>\n",
       "      <th>6</th>\n",
       "      <td>True</td>\n",
       "      <td>31.000000</td>\n",
       "      <td>31.000000</td>\n",
       "      <td>1.000000</td>\n",
       "      <td>0.777778</td>\n",
       "      <td>13.761905</td>\n",
       "      <td>0.793651</td>\n",
       "      <td>0.997159</td>\n",
       "      <td>1.000000</td>\n",
       "      <td>0.902554</td>\n",
       "      <td>0.822121</td>\n",
       "      <td>0.984127</td>\n",
       "      <td>0.793651</td>\n",
       "    </tr>\n",
       "    <tr>\n",
       "      <th>11</th>\n",
       "      <td>blue or small</td>\n",
       "      <td>1772.000000</td>\n",
       "      <td>34.000000</td>\n",
       "      <td>0.565217</td>\n",
       "      <td>0.289855</td>\n",
       "      <td>11.463768</td>\n",
       "      <td>0.275362</td>\n",
       "      <td>0.914141</td>\n",
       "      <td>0.508507</td>\n",
       "      <td>0.740601</td>\n",
       "      <td>0.740601</td>\n",
       "      <td>0.985507</td>\n",
       "      <td>0.710145</td>\n",
       "    </tr>\n",
       "    <tr>\n",
       "      <th>12</th>\n",
       "      <td>circle</td>\n",
       "      <td>257.500000</td>\n",
       "      <td>34.500000</td>\n",
       "      <td>0.228571</td>\n",
       "      <td>0.142857</td>\n",
       "      <td>12.114286</td>\n",
       "      <td>0.128571</td>\n",
       "      <td>0.967172</td>\n",
       "      <td>0.647347</td>\n",
       "      <td>0.908367</td>\n",
       "      <td>0.908367</td>\n",
       "      <td>0.985714</td>\n",
       "      <td>0.871429</td>\n",
       "    </tr>\n",
       "    <tr>\n",
       "      <th>23</th>\n",
       "      <td>large</td>\n",
       "      <td>1244.500000</td>\n",
       "      <td>34.500000</td>\n",
       "      <td>0.414286</td>\n",
       "      <td>0.328571</td>\n",
       "      <td>12.285714</td>\n",
       "      <td>0.314286</td>\n",
       "      <td>0.955556</td>\n",
       "      <td>0.514694</td>\n",
       "      <td>0.872245</td>\n",
       "      <td>0.872245</td>\n",
       "      <td>0.985714</td>\n",
       "      <td>0.900000</td>\n",
       "    </tr>\n",
       "    <tr>\n",
       "      <th>32</th>\n",
       "      <td>small</td>\n",
       "      <td>1387.500000</td>\n",
       "      <td>35.500000</td>\n",
       "      <td>0.361111</td>\n",
       "      <td>0.263889</td>\n",
       "      <td>13.986111</td>\n",
       "      <td>0.250000</td>\n",
       "      <td>0.981693</td>\n",
       "      <td>0.538580</td>\n",
       "      <td>0.848573</td>\n",
       "      <td>0.848573</td>\n",
       "      <td>0.986111</td>\n",
       "      <td>0.861111</td>\n",
       "    </tr>\n",
       "    <tr>\n",
       "      <th>20</th>\n",
       "      <td>circle or triangle</td>\n",
       "      <td>498.500000</td>\n",
       "      <td>38.500000</td>\n",
       "      <td>0.717949</td>\n",
       "      <td>0.628205</td>\n",
       "      <td>12.692308</td>\n",
       "      <td>0.615385</td>\n",
       "      <td>0.956818</td>\n",
       "      <td>0.595003</td>\n",
       "      <td>0.925049</td>\n",
       "      <td>0.925049</td>\n",
       "      <td>0.987179</td>\n",
       "      <td>0.897436</td>\n",
       "    </tr>\n",
       "    <tr>\n",
       "      <th>27</th>\n",
       "      <td>medium or small</td>\n",
       "      <td>1618.500000</td>\n",
       "      <td>42.500000</td>\n",
       "      <td>0.651163</td>\n",
       "      <td>0.534884</td>\n",
       "      <td>14.139535</td>\n",
       "      <td>0.546512</td>\n",
       "      <td>0.958678</td>\n",
       "      <td>0.545700</td>\n",
       "      <td>0.855598</td>\n",
       "      <td>0.855598</td>\n",
       "      <td>0.988372</td>\n",
       "      <td>0.895349</td>\n",
       "    </tr>\n",
       "    <tr>\n",
       "      <th>4</th>\n",
       "      <td>(not blue) implies circle</td>\n",
       "      <td>2011.500000</td>\n",
       "      <td>43.500000</td>\n",
       "      <td>0.579545</td>\n",
       "      <td>0.420455</td>\n",
       "      <td>13.931818</td>\n",
       "      <td>0.431818</td>\n",
       "      <td>0.962733</td>\n",
       "      <td>0.512655</td>\n",
       "      <td>0.762009</td>\n",
       "      <td>0.762009</td>\n",
       "      <td>0.988636</td>\n",
       "      <td>0.806818</td>\n",
       "    </tr>\n",
       "    <tr>\n",
       "      <th>28</th>\n",
       "      <td>not (circle and blue)</td>\n",
       "      <td>799.500000</td>\n",
       "      <td>37.500000</td>\n",
       "      <td>0.907895</td>\n",
       "      <td>0.750000</td>\n",
       "      <td>14.447368</td>\n",
       "      <td>0.750000</td>\n",
       "      <td>0.984091</td>\n",
       "      <td>0.832756</td>\n",
       "      <td>0.835699</td>\n",
       "      <td>0.835699</td>\n",
       "      <td>1.000000</td>\n",
       "      <td>0.842105</td>\n",
       "    </tr>\n",
       "    <tr>\n",
       "      <th>16</th>\n",
       "      <td>circle implies blue</td>\n",
       "      <td>1842.000000</td>\n",
       "      <td>35.000000</td>\n",
       "      <td>0.788732</td>\n",
       "      <td>0.647887</td>\n",
       "      <td>12.633803</td>\n",
       "      <td>0.647887</td>\n",
       "      <td>0.946970</td>\n",
       "      <td>0.666733</td>\n",
       "      <td>0.865900</td>\n",
       "      <td>0.865900</td>\n",
       "      <td>1.000000</td>\n",
       "      <td>0.859155</td>\n",
       "    </tr>\n",
       "    <tr>\n",
       "      <th>14</th>\n",
       "      <td>circle and blue</td>\n",
       "      <td>649.500000</td>\n",
       "      <td>38.500000</td>\n",
       "      <td>0.089744</td>\n",
       "      <td>0.064103</td>\n",
       "      <td>13.089744</td>\n",
       "      <td>0.064103</td>\n",
       "      <td>0.950000</td>\n",
       "      <td>0.836621</td>\n",
       "      <td>0.958251</td>\n",
       "      <td>0.958251</td>\n",
       "      <td>1.000000</td>\n",
       "      <td>0.974359</td>\n",
       "    </tr>\n",
       "    <tr>\n",
       "      <th>7</th>\n",
       "      <td>blue</td>\n",
       "      <td>181.500000</td>\n",
       "      <td>40.500000</td>\n",
       "      <td>0.304878</td>\n",
       "      <td>0.231707</td>\n",
       "      <td>13.048780</td>\n",
       "      <td>0.231707</td>\n",
       "      <td>0.969580</td>\n",
       "      <td>0.576145</td>\n",
       "      <td>0.876562</td>\n",
       "      <td>0.876562</td>\n",
       "      <td>1.000000</td>\n",
       "      <td>0.878049</td>\n",
       "    </tr>\n",
       "    <tr>\n",
       "      <th>5</th>\n",
       "      <td>False</td>\n",
       "      <td>101.883117</td>\n",
       "      <td>38.883117</td>\n",
       "      <td>0.000000</td>\n",
       "      <td>0.038961</td>\n",
       "      <td>12.779221</td>\n",
       "      <td>0.038961</td>\n",
       "      <td>0.932500</td>\n",
       "      <td>1.000000</td>\n",
       "      <td>0.983618</td>\n",
       "      <td>0.984820</td>\n",
       "      <td>1.000000</td>\n",
       "      <td>0.961039</td>\n",
       "    </tr>\n",
       "    <tr>\n",
       "      <th>15</th>\n",
       "      <td>circle and not blue</td>\n",
       "      <td>960.000000</td>\n",
       "      <td>36.000000</td>\n",
       "      <td>0.150685</td>\n",
       "      <td>0.150685</td>\n",
       "      <td>13.424658</td>\n",
       "      <td>0.150685</td>\n",
       "      <td>0.965675</td>\n",
       "      <td>0.744042</td>\n",
       "      <td>0.905236</td>\n",
       "      <td>0.905236</td>\n",
       "      <td>1.000000</td>\n",
       "      <td>0.917808</td>\n",
       "    </tr>\n",
       "    <tr>\n",
       "      <th>33</th>\n",
       "      <td>small and blue</td>\n",
       "      <td>1699.500000</td>\n",
       "      <td>37.500000</td>\n",
       "      <td>0.118421</td>\n",
       "      <td>0.118421</td>\n",
       "      <td>13.447368</td>\n",
       "      <td>0.118421</td>\n",
       "      <td>0.947727</td>\n",
       "      <td>0.791205</td>\n",
       "      <td>0.970568</td>\n",
       "      <td>0.970568</td>\n",
       "      <td>1.000000</td>\n",
       "      <td>0.947368</td>\n",
       "    </tr>\n",
       "  </tbody>\n",
       "</table>\n",
       "</div>"
      ],
      "text/plain": [
       "                                      concept   Unnamed: 0   item_num  \\\n",
       "3             (not blue) implies (not circle)  2092.500000  36.500000   \n",
       "22                            circle xor blue  1031.500000  34.500000   \n",
       "8                         blue implies circle  1924.833333  46.833333   \n",
       "2           (circle or triangle) implies blue  2225.500000  30.500000   \n",
       "25                             large or small  1464.000000  39.000000   \n",
       "9                         blue implies size 1  2162.000000  32.000000   \n",
       "24                            large or medium  1540.000000  36.000000   \n",
       "30                      not (circle xor blue)  1105.000000  38.000000   \n",
       "18          circle or (triangle implies blue)  2514.500000  39.500000   \n",
       "29                       not (circle or blue)   881.000000  42.000000   \n",
       "17              circle or (blue and triangle)  2441.000000  33.000000   \n",
       "13                      circle and (not blue)   725.000000  36.000000   \n",
       "10                              blue or green   574.000000  36.000000   \n",
       "19                             circle or blue   420.500000  38.500000   \n",
       "0   (circle and blue) or (triangle and green)  2296.000000  40.000000   \n",
       "21                      circle xor (not blue)  1176.861538  32.861538   \n",
       "1   (circle or blue) or  (triangle and green)  2372.000000  35.000000   \n",
       "26                                     medium  1315.500000  35.500000   \n",
       "31                                 not circle   336.704545  43.704545   \n",
       "6                                        True    31.000000  31.000000   \n",
       "11                              blue or small  1772.000000  34.000000   \n",
       "12                                     circle   257.500000  34.500000   \n",
       "23                                      large  1244.500000  34.500000   \n",
       "32                                      small  1387.500000  35.500000   \n",
       "20                         circle or triangle   498.500000  38.500000   \n",
       "27                            medium or small  1618.500000  42.500000   \n",
       "4                   (not blue) implies circle  2011.500000  43.500000   \n",
       "28                      not (circle and blue)   799.500000  37.500000   \n",
       "16                        circle implies blue  1842.000000  35.000000   \n",
       "14                            circle and blue   649.500000  38.500000   \n",
       "7                                        blue   181.500000  40.500000   \n",
       "5                                       False   101.883117  38.883117   \n",
       "15                        circle and not blue   960.000000  36.000000   \n",
       "33                             small and blue  1699.500000  37.500000   \n",
       "\n",
       "      answer  model_answer        set  code_eval  human_lq    chance  \\\n",
       "3   0.743243      0.648649  12.108108   0.648649  0.914787  0.618335   \n",
       "22  0.442857      0.285714  11.900000   0.285714  0.886243  0.506531   \n",
       "8   0.738095      0.654762  13.011905   0.619048  0.916509  0.613379   \n",
       "2   0.516667      0.433333  13.600000   0.366667  0.920387  0.500556   \n",
       "25  0.759494      0.670886  13.101266   0.683544  0.910000  0.634674   \n",
       "9   0.815385      0.661538  12.430769   0.723077  0.921569  0.698935   \n",
       "24  0.690141      0.591549  13.802817   0.563380  0.875598  0.572307   \n",
       "30  0.506494      0.428571  13.870130   0.428571  0.805263  0.500084   \n",
       "18  0.787500      0.637500  14.425000   0.637500  0.917184  0.665312   \n",
       "29  0.517647      0.482353  13.211765   0.505882  0.909091  0.500623   \n",
       "17  0.477612      0.492537  12.731343   0.507463  0.918159  0.501002   \n",
       "13  0.205479      0.178082  13.452055   0.164384  0.997712  0.673485   \n",
       "10  0.726027      0.643836  12.890411   0.630137  0.930526  0.602177   \n",
       "19  0.525641      0.564103  13.397436   0.576923  0.886957  0.501315   \n",
       "0   0.283951      0.246914  13.728395   0.259259  0.954545  0.593355   \n",
       "21  0.538462      0.584615  12.892308   0.615385  0.794118  0.502959   \n",
       "1   0.577465      0.366197  13.507042   0.366197  0.886243  0.512002   \n",
       "26  0.361111      0.263889  13.597222   0.291667  0.927948  0.538580   \n",
       "31  0.636364      0.602273  12.715909   0.625000  0.961957  0.537190   \n",
       "6   1.000000      0.777778  13.761905   0.793651  0.997159  1.000000   \n",
       "11  0.565217      0.289855  11.463768   0.275362  0.914141  0.508507   \n",
       "12  0.228571      0.142857  12.114286   0.128571  0.967172  0.647347   \n",
       "23  0.414286      0.328571  12.285714   0.314286  0.955556  0.514694   \n",
       "32  0.361111      0.263889  13.986111   0.250000  0.981693  0.538580   \n",
       "20  0.717949      0.628205  12.692308   0.615385  0.956818  0.595003   \n",
       "27  0.651163      0.534884  14.139535   0.546512  0.958678  0.545700   \n",
       "4   0.579545      0.420455  13.931818   0.431818  0.962733  0.512655   \n",
       "28  0.907895      0.750000  14.447368   0.750000  0.984091  0.832756   \n",
       "16  0.788732      0.647887  12.633803   0.647887  0.946970  0.666733   \n",
       "14  0.089744      0.064103  13.089744   0.064103  0.950000  0.836621   \n",
       "7   0.304878      0.231707  13.048780   0.231707  0.969580  0.576145   \n",
       "5   0.000000      0.038961  12.779221   0.038961  0.932500  1.000000   \n",
       "15  0.150685      0.150685  13.424658   0.150685  0.965675  0.744042   \n",
       "33  0.118421      0.118421  13.447368   0.118421  0.947727  0.791205   \n",
       "\n",
       "    coverage_manual_code  full_coverage_manual_code  consistency     score  \n",
       "3               0.780131                   0.780131     0.891892  0.770270  \n",
       "22              0.776531                   0.776531     0.914286  0.728571  \n",
       "8               0.830074                   0.830074     0.916667  0.833333  \n",
       "2               0.733333                   0.733333     0.933333  0.816667  \n",
       "25              0.767986                   0.767986     0.936709  0.822785  \n",
       "9               0.746982                   0.746982     0.938462  0.753846  \n",
       "24              0.808371                   0.808371     0.943662  0.845070  \n",
       "30              0.664024                   0.664024     0.948052  0.688312  \n",
       "18              0.789219                   0.789219     0.950000  0.800000  \n",
       "29              0.846505                   0.846505     0.952941  0.847059  \n",
       "17              0.805747                   0.805747     0.955224  0.761194  \n",
       "13              0.922312                   0.922312     0.958904  0.876712  \n",
       "10              0.849878                   0.849878     0.958904  0.821918  \n",
       "19              0.866042                   0.866042     0.961538  0.820513  \n",
       "0               0.831428                   0.831428     0.962963  0.851852  \n",
       "21              0.760710                   0.760710     0.969231  0.800000  \n",
       "1               0.812537                   0.812537     0.971831  0.704225  \n",
       "26              0.892747                   0.892747     0.972222  0.902778  \n",
       "31              0.948089                   0.948089     0.977273  0.965909  \n",
       "6               0.902554                   0.822121     0.984127  0.793651  \n",
       "11              0.740601                   0.740601     0.985507  0.710145  \n",
       "12              0.908367                   0.908367     0.985714  0.871429  \n",
       "23              0.872245                   0.872245     0.985714  0.900000  \n",
       "32              0.848573                   0.848573     0.986111  0.861111  \n",
       "20              0.925049                   0.925049     0.987179  0.897436  \n",
       "27              0.855598                   0.855598     0.988372  0.895349  \n",
       "4               0.762009                   0.762009     0.988636  0.806818  \n",
       "28              0.835699                   0.835699     1.000000  0.842105  \n",
       "16              0.865900                   0.865900     1.000000  0.859155  \n",
       "14              0.958251                   0.958251     1.000000  0.974359  \n",
       "7               0.876562                   0.876562     1.000000  0.878049  \n",
       "5               0.983618                   0.984820     1.000000  0.961039  \n",
       "15              0.905236                   0.905236     1.000000  0.917808  \n",
       "33              0.970568                   0.970568     1.000000  0.947368  "
      ]
     },
     "execution_count": 107,
     "metadata": {},
     "output_type": "execute_result"
    }
   ],
   "source": [
    "manual_rule_coverage.groupby(['concept']).mean('coverage_manual_code').reset_index().sort_values(['consistency'])"
   ]
  },
  {
   "cell_type": "code",
   "execution_count": 114,
   "metadata": {},
   "outputs": [
    {
     "data": {
      "text/plain": [
       "concept\n",
       "(circle and blue) or (triangle and green)     4\n",
       "(circle or blue) or  (triangle and green)     0\n",
       "(circle or triangle) implies blue             6\n",
       "(not blue) implies (not circle)               3\n",
       "(not blue) implies circle                     2\n",
       "False                                        24\n",
       "True                                          9\n",
       "blue                                          5\n",
       "blue implies circle                           3\n",
       "blue implies size 1                           0\n",
       "blue or green                                10\n",
       "blue or small                                 3\n",
       "circle                                       13\n",
       "circle and (not blue)                        10\n",
       "circle and blue                              14\n",
       "circle and not blue                           2\n",
       "circle implies blue                           0\n",
       "circle or (blue and triangle)                 2\n",
       "circle or (triangle implies blue)             1\n",
       "circle or blue                               10\n",
       "circle or triangle                           15\n",
       "circle xor (not blue)                         2\n",
       "circle xor blue                               0\n",
       "large                                         7\n",
       "large or medium                               7\n",
       "large or small                                3\n",
       "medium                                        6\n",
       "medium or small                              14\n",
       "not (circle and blue)                         4\n",
       "not (circle or blue)                          7\n",
       "not (circle xor blue)                         0\n",
       "not circle                                   20\n",
       "small                                         2\n",
       "small and blue                               18\n",
       "dtype: int64"
      ]
     },
     "execution_count": 114,
     "metadata": {},
     "output_type": "execute_result"
    }
   ],
   "source": [
    "mdf.groupby('concept').apply(lambda x: (x['full_coverage_manual_code'] == 1).sum())"
   ]
  },
  {
   "cell_type": "code",
   "execution_count": 196,
   "metadata": {},
   "outputs": [
    {
     "name": "stdout",
     "output_type": "stream",
     "text": [
      "Arrived at right rule on last set 0.4411764705882353\n",
      "Arrived at right rule on any of last five 0.7647058823529411\n"
     ]
    },
    {
     "data": {
      "text/html": [
       "<div>\n",
       "<style scoped>\n",
       "    .dataframe tbody tr th:only-of-type {\n",
       "        vertical-align: middle;\n",
       "    }\n",
       "\n",
       "    .dataframe tbody tr th {\n",
       "        vertical-align: top;\n",
       "    }\n",
       "\n",
       "    .dataframe thead th {\n",
       "        text-align: right;\n",
       "    }\n",
       "</style>\n",
       "<table border=\"1\" class=\"dataframe\">\n",
       "  <thead>\n",
       "    <tr style=\"text-align: right;\">\n",
       "      <th></th>\n",
       "      <th>concept_num</th>\n",
       "      <th>concept</th>\n",
       "      <th>rule_expression</th>\n",
       "      <th>coverage_manual_code</th>\n",
       "      <th>chance</th>\n",
       "      <th>model_reply</th>\n",
       "      <th>manual_code</th>\n",
       "    </tr>\n",
       "  </thead>\n",
       "  <tbody>\n",
       "    <tr>\n",
       "      <th>1137</th>\n",
       "      <td>hg15</td>\n",
       "      <td>not (circle xor blue)</td>\n",
       "      <td>green or (triangle)</td>\n",
       "      <td>0.532468</td>\n",
       "      <td>0.500084</td>\n",
       "      <td>Based on your examples, I've learned that the ...</td>\n",
       "      <td>def is_rule(obj):\\n    return obj.green or (ob...</td>\n",
       "    </tr>\n",
       "    <tr>\n",
       "      <th>1799</th>\n",
       "      <td>hg25</td>\n",
       "      <td>blue or small</td>\n",
       "      <td>small and (triangle or rectangle)</td>\n",
       "      <td>0.695652</td>\n",
       "      <td>0.508507</td>\n",
       "      <td>Based on your examples, I've learned that the ...</td>\n",
       "      <td>def is_rule(obj):\\n    return obj.small and (o...</td>\n",
       "    </tr>\n",
       "    <tr>\n",
       "      <th>1063</th>\n",
       "      <td>hg14</td>\n",
       "      <td>circle xor blue</td>\n",
       "      <td>(circle and ((large and green) or (medium and ...</td>\n",
       "      <td>0.714286</td>\n",
       "      <td>0.506531</td>\n",
       "      <td>Based on your examples, I've learned that the ...</td>\n",
       "      <td>def is_rule(obj):\\n    return (obj.circle and ...</td>\n",
       "    </tr>\n",
       "    <tr>\n",
       "      <th>1205</th>\n",
       "      <td>hg16</td>\n",
       "      <td>circle xor (not blue)</td>\n",
       "      <td>not (medium and blue) and not (large and blue)</td>\n",
       "      <td>0.738462</td>\n",
       "      <td>0.502959</td>\n",
       "      <td>Based on your examples, I've learned that the ...</td>\n",
       "      <td>def is_rule(obj):\\n    return not (obj.medium ...</td>\n",
       "    </tr>\n",
       "    <tr>\n",
       "      <th>2319</th>\n",
       "      <td>hg83</td>\n",
       "      <td>(circle and blue) or (triangle and green)</td>\n",
       "      <td>(circle or triangle) and (blue or green) and n...</td>\n",
       "      <td>0.777778</td>\n",
       "      <td>0.593355</td>\n",
       "      <td>Based on your examples, I've learned that the ...</td>\n",
       "      <td>def is_rule(obj):\\n    return (obj.circle or o...</td>\n",
       "    </tr>\n",
       "    <tr>\n",
       "      <th>2392</th>\n",
       "      <td>hg84</td>\n",
       "      <td>(circle or blue) or  (triangle and green)</td>\n",
       "      <td>blue or green</td>\n",
       "      <td>0.788732</td>\n",
       "      <td>0.512002</td>\n",
       "      <td>Based on your examples, I've learned that the ...</td>\n",
       "      <td>def is_rule(obj):\\n    return obj.blue or obj....</td>\n",
       "    </tr>\n",
       "    <tr>\n",
       "      <th>1272</th>\n",
       "      <td>hg18</td>\n",
       "      <td>large</td>\n",
       "      <td>large and not circle</td>\n",
       "      <td>0.828571</td>\n",
       "      <td>0.514694</td>\n",
       "      <td>Based on your examples, I've learned that the ...</td>\n",
       "      <td>def is_rule(obj):\\n    return obj.large and no...</td>\n",
       "    </tr>\n",
       "    <tr>\n",
       "      <th>2242</th>\n",
       "      <td>hg82</td>\n",
       "      <td>(circle or triangle) implies blue</td>\n",
       "      <td>blue or (large and yelllow) or ((medium or sma...</td>\n",
       "      <td>0.833333</td>\n",
       "      <td>0.500556</td>\n",
       "      <td>Based on your examples, I've learned that the ...</td>\n",
       "      <td>def is_rule(obj):\\n    return obj.blue or (obj...</td>\n",
       "    </tr>\n",
       "    <tr>\n",
       "      <th>682</th>\n",
       "      <td>hg09</td>\n",
       "      <td>circle and blue</td>\n",
       "      <td>large and blue</td>\n",
       "      <td>0.846154</td>\n",
       "      <td>0.836621</td>\n",
       "      <td>Based on your examples, I've learned that the ...</td>\n",
       "      <td>def is_rule(obj):\\n    return obj.large and ob...</td>\n",
       "    </tr>\n",
       "    <tr>\n",
       "      <th>1498</th>\n",
       "      <td>hg21</td>\n",
       "      <td>large or small</td>\n",
       "      <td>large or (blue or green) and not (medium and b...</td>\n",
       "      <td>0.848101</td>\n",
       "      <td>0.634674</td>\n",
       "      <td>Based on your examples, I've learned that the ...</td>\n",
       "      <td>def is_rule(obj):\\n    return obj.large or (ob...</td>\n",
       "    </tr>\n",
       "    <tr>\n",
       "      <th>833</th>\n",
       "      <td>hg11</td>\n",
       "      <td>not (circle and blue)</td>\n",
       "      <td>not (medium and blue)</td>\n",
       "      <td>0.894737</td>\n",
       "      <td>0.832756</td>\n",
       "      <td>Based on your examples, I've learned that the ...</td>\n",
       "      <td>def is_rule(obj):\\n    return not (obj.medium ...</td>\n",
       "    </tr>\n",
       "    <tr>\n",
       "      <th>2179</th>\n",
       "      <td>hg81</td>\n",
       "      <td>blue implies size 1</td>\n",
       "      <td>green or small or triangle</td>\n",
       "      <td>0.907692</td>\n",
       "      <td>0.698935</td>\n",
       "      <td>Based on your examples, I've learned that the ...</td>\n",
       "      <td>def is_rule(obj):\\n    return obj.green or obj...</td>\n",
       "    </tr>\n",
       "    <tr>\n",
       "      <th>2461</th>\n",
       "      <td>hg85</td>\n",
       "      <td>circle or (blue and triangle)</td>\n",
       "      <td>(circle and (blue or yellow)) or (triangle and...</td>\n",
       "      <td>0.925373</td>\n",
       "      <td>0.501002</td>\n",
       "      <td>Based on your examples, I've learned that the ...</td>\n",
       "      <td>def is_rule(obj):\\n    return (obj.circle and ...</td>\n",
       "    </tr>\n",
       "    <tr>\n",
       "      <th>1955</th>\n",
       "      <td>hg78</td>\n",
       "      <td>blue implies circle</td>\n",
       "      <td>not(blue) and not(triangle and blue)</td>\n",
       "      <td>0.928571</td>\n",
       "      <td>0.613379</td>\n",
       "      <td>Based on your examples, I've learned that the ...</td>\n",
       "      <td>def is_rule(obj):\\n    return not(obj.blue) an...</td>\n",
       "    </tr>\n",
       "    <tr>\n",
       "      <th>918</th>\n",
       "      <td>hg12</td>\n",
       "      <td>not (circle or blue)</td>\n",
       "      <td>triangle or (rectangle and (green or yellow))</td>\n",
       "      <td>0.929412</td>\n",
       "      <td>0.500623</td>\n",
       "      <td>Based on your examples, I've learned that the ...</td>\n",
       "      <td>def is_rule(obj):\\n    return obj.triangle or ...</td>\n",
       "    </tr>\n",
       "    <tr>\n",
       "      <th>1867</th>\n",
       "      <td>hg77</td>\n",
       "      <td>circle implies blue</td>\n",
       "      <td>rectangle or triangle</td>\n",
       "      <td>0.929577</td>\n",
       "      <td>0.666733</td>\n",
       "      <td>Based on your examples, I've learned that the ...</td>\n",
       "      <td>def is_rule(obj):\\n    return obj.rectangle or...</td>\n",
       "    </tr>\n",
       "    <tr>\n",
       "      <th>2039</th>\n",
       "      <td>hg79</td>\n",
       "      <td>(not blue) implies circle</td>\n",
       "      <td>(blue) or (green and circle)</td>\n",
       "      <td>0.931818</td>\n",
       "      <td>0.512655</td>\n",
       "      <td>Based on your examples, I've learned that the ...</td>\n",
       "      <td>def is_rule(obj):\\n    return (obj.blue) or (o...</td>\n",
       "    </tr>\n",
       "    <tr>\n",
       "      <th>608</th>\n",
       "      <td>hg08</td>\n",
       "      <td>blue or green</td>\n",
       "      <td>green or ((blue and triangle) or (blue and rec...</td>\n",
       "      <td>0.945205</td>\n",
       "      <td>0.602177</td>\n",
       "      <td>Based on your examples, I've learned that the ...</td>\n",
       "      <td>def is_rule(obj):\\n    return obj.green or ((o...</td>\n",
       "    </tr>\n",
       "    <tr>\n",
       "      <th>1346</th>\n",
       "      <td>hg19</td>\n",
       "      <td>medium</td>\n",
       "      <td>(medium and (green or blue)) or (yellow and ((...</td>\n",
       "      <td>0.972222</td>\n",
       "      <td>0.538580</td>\n",
       "      <td>Based on your examples, I've learned that the ...</td>\n",
       "      <td>def is_rule(obj):\\n    return (obj.medium and ...</td>\n",
       "    </tr>\n",
       "    <tr>\n",
       "      <th>2117</th>\n",
       "      <td>hg80</td>\n",
       "      <td>(not blue) implies (not circle)</td>\n",
       "      <td>blue or ((green and not circle) or (yellow and...</td>\n",
       "      <td>1.000000</td>\n",
       "      <td>0.618335</td>\n",
       "      <td>Based on your examples, I've learned that the ...</td>\n",
       "      <td>def is_rule(obj):\\n    return obj.blue or ((ob...</td>\n",
       "    </tr>\n",
       "    <tr>\n",
       "      <th>1727</th>\n",
       "      <td>hg24</td>\n",
       "      <td>small and blue</td>\n",
       "      <td>small and blue and (circle or rectangle or tri...</td>\n",
       "      <td>1.000000</td>\n",
       "      <td>0.791205</td>\n",
       "      <td>Based on your examples, I've learned that the ...</td>\n",
       "      <td>def is_rule(obj):\\n    return obj.small and ob...</td>\n",
       "    </tr>\n",
       "    <tr>\n",
       "      <th>61</th>\n",
       "      <td>hg01</td>\n",
       "      <td>True</td>\n",
       "      <td>True</td>\n",
       "      <td>1.000000</td>\n",
       "      <td>1.000000</td>\n",
       "      <td>Based on your examples, I've learned that the ...</td>\n",
       "      <td>def is_rule(obj):\\n    return True</td>\n",
       "    </tr>\n",
       "    <tr>\n",
       "      <th>1566</th>\n",
       "      <td>hg22</td>\n",
       "      <td>large or medium</td>\n",
       "      <td>(large or medium) and not small</td>\n",
       "      <td>1.000000</td>\n",
       "      <td>0.572307</td>\n",
       "      <td>Based on your examples, I've learned that the ...</td>\n",
       "      <td>def is_rule(obj):\\n    return obj.large or obj...</td>\n",
       "    </tr>\n",
       "    <tr>\n",
       "      <th>1416</th>\n",
       "      <td>hg20</td>\n",
       "      <td>small</td>\n",
       "      <td>small and (blue or green or yellow)</td>\n",
       "      <td>1.000000</td>\n",
       "      <td>0.538580</td>\n",
       "      <td>Based on your examples, I've learned that the ...</td>\n",
       "      <td>def is_rule(obj):\\n    return obj.small and (o...</td>\n",
       "    </tr>\n",
       "    <tr>\n",
       "      <th>989</th>\n",
       "      <td>hg13</td>\n",
       "      <td>circle and not blue</td>\n",
       "      <td>(circle and (green or yellow)) or (small and c...</td>\n",
       "      <td>1.000000</td>\n",
       "      <td>0.744042</td>\n",
       "      <td>Based on your examples, I've learned that the ...</td>\n",
       "      <td>def is_rule(obj):\\n    return (obj.circle and ...</td>\n",
       "    </tr>\n",
       "    <tr>\n",
       "      <th>756</th>\n",
       "      <td>hg10</td>\n",
       "      <td>circle and (not blue)</td>\n",
       "      <td>circle and (green or yellow)</td>\n",
       "      <td>1.000000</td>\n",
       "      <td>0.673485</td>\n",
       "      <td>Based on your examples, I've learned that the ...</td>\n",
       "      <td>def is_rule(obj):\\n    return obj.circle and (...</td>\n",
       "    </tr>\n",
       "    <tr>\n",
       "      <th>534</th>\n",
       "      <td>hg07</td>\n",
       "      <td>circle or triangle</td>\n",
       "      <td>triangle or circle</td>\n",
       "      <td>1.000000</td>\n",
       "      <td>0.595003</td>\n",
       "      <td>Based on your examples, I've learned that the ...</td>\n",
       "      <td>def is_rule(obj):\\n    return obj.triangle or ...</td>\n",
       "    </tr>\n",
       "    <tr>\n",
       "      <th>454</th>\n",
       "      <td>hg06</td>\n",
       "      <td>circle or blue</td>\n",
       "      <td>blue or (yellow or green circle)</td>\n",
       "      <td>1.000000</td>\n",
       "      <td>0.501315</td>\n",
       "      <td>Based on your examples, I've learned that the ...</td>\n",
       "      <td>def is_rule(obj):\\n    return obj.blue or ((ob...</td>\n",
       "    </tr>\n",
       "    <tr>\n",
       "      <th>377</th>\n",
       "      <td>hg05</td>\n",
       "      <td>not circle</td>\n",
       "      <td>triangle or rectangle</td>\n",
       "      <td>1.000000</td>\n",
       "      <td>0.537190</td>\n",
       "      <td>Based on your examples, I've learned that the ...</td>\n",
       "      <td>def is_rule(obj):\\n    return obj.triangle or ...</td>\n",
       "    </tr>\n",
       "    <tr>\n",
       "      <th>288</th>\n",
       "      <td>hg04</td>\n",
       "      <td>circle</td>\n",
       "      <td>circle</td>\n",
       "      <td>1.000000</td>\n",
       "      <td>0.647347</td>\n",
       "      <td>Based on your examples, I've learned that the ...</td>\n",
       "      <td>def is_rule(obj):\\n    return obj.circle</td>\n",
       "    </tr>\n",
       "    <tr>\n",
       "      <th>219</th>\n",
       "      <td>hg03</td>\n",
       "      <td>blue</td>\n",
       "      <td>blue</td>\n",
       "      <td>1.000000</td>\n",
       "      <td>0.576145</td>\n",
       "      <td>Based on your examples, I've learned that the ...</td>\n",
       "      <td>def is_rule(obj):\\n    return obj.blue</td>\n",
       "    </tr>\n",
       "    <tr>\n",
       "      <th>138</th>\n",
       "      <td>hg02</td>\n",
       "      <td>False</td>\n",
       "      <td>False</td>\n",
       "      <td>1.000000</td>\n",
       "      <td>1.000000</td>\n",
       "      <td>Based on your examples, I've learned that the ...</td>\n",
       "      <td>def is_rule(obj):\\n    return False</td>\n",
       "    </tr>\n",
       "    <tr>\n",
       "      <th>1652</th>\n",
       "      <td>hg23</td>\n",
       "      <td>medium or small</td>\n",
       "      <td>small or medium</td>\n",
       "      <td>1.000000</td>\n",
       "      <td>0.545700</td>\n",
       "      <td>Based on your examples, I've learned that the ...</td>\n",
       "      <td>def is_rule(obj):\\n    return obj.small or obj...</td>\n",
       "    </tr>\n",
       "    <tr>\n",
       "      <th>2537</th>\n",
       "      <td>hg86</td>\n",
       "      <td>circle or (triangle implies blue)</td>\n",
       "      <td>rectangle or (circle) or (triangle and blue)</td>\n",
       "      <td>1.000000</td>\n",
       "      <td>0.665312</td>\n",
       "      <td>Based on your examples, I've learned that the ...</td>\n",
       "      <td>def is_rule(obj):\\n    return obj.rectangle or...</td>\n",
       "    </tr>\n",
       "  </tbody>\n",
       "</table>\n",
       "</div>"
      ],
      "text/plain": [
       "     concept_num                                    concept  \\\n",
       "1137        hg15                      not (circle xor blue)   \n",
       "1799        hg25                              blue or small   \n",
       "1063        hg14                            circle xor blue   \n",
       "1205        hg16                      circle xor (not blue)   \n",
       "2319        hg83  (circle and blue) or (triangle and green)   \n",
       "2392        hg84  (circle or blue) or  (triangle and green)   \n",
       "1272        hg18                                      large   \n",
       "2242        hg82          (circle or triangle) implies blue   \n",
       "682         hg09                            circle and blue   \n",
       "1498        hg21                             large or small   \n",
       "833         hg11                      not (circle and blue)   \n",
       "2179        hg81                        blue implies size 1   \n",
       "2461        hg85              circle or (blue and triangle)   \n",
       "1955        hg78                        blue implies circle   \n",
       "918         hg12                       not (circle or blue)   \n",
       "1867        hg77                        circle implies blue   \n",
       "2039        hg79                  (not blue) implies circle   \n",
       "608         hg08                              blue or green   \n",
       "1346        hg19                                     medium   \n",
       "2117        hg80            (not blue) implies (not circle)   \n",
       "1727        hg24                             small and blue   \n",
       "61          hg01                                       True   \n",
       "1566        hg22                            large or medium   \n",
       "1416        hg20                                      small   \n",
       "989         hg13                        circle and not blue   \n",
       "756         hg10                      circle and (not blue)   \n",
       "534         hg07                         circle or triangle   \n",
       "454         hg06                             circle or blue   \n",
       "377         hg05                                 not circle   \n",
       "288         hg04                                     circle   \n",
       "219         hg03                                       blue   \n",
       "138         hg02                                      False   \n",
       "1652        hg23                            medium or small   \n",
       "2537        hg86          circle or (triangle implies blue)   \n",
       "\n",
       "                                        rule_expression  coverage_manual_code  \\\n",
       "1137                                green or (triangle)              0.532468   \n",
       "1799                  small and (triangle or rectangle)              0.695652   \n",
       "1063  (circle and ((large and green) or (medium and ...              0.714286   \n",
       "1205     not (medium and blue) and not (large and blue)              0.738462   \n",
       "2319  (circle or triangle) and (blue or green) and n...              0.777778   \n",
       "2392                                      blue or green              0.788732   \n",
       "1272                               large and not circle              0.828571   \n",
       "2242  blue or (large and yelllow) or ((medium or sma...              0.833333   \n",
       "682                                      large and blue              0.846154   \n",
       "1498  large or (blue or green) and not (medium and b...              0.848101   \n",
       "833                               not (medium and blue)              0.894737   \n",
       "2179                         green or small or triangle              0.907692   \n",
       "2461  (circle and (blue or yellow)) or (triangle and...              0.925373   \n",
       "1955               not(blue) and not(triangle and blue)              0.928571   \n",
       "918       triangle or (rectangle and (green or yellow))              0.929412   \n",
       "1867                              rectangle or triangle              0.929577   \n",
       "2039                       (blue) or (green and circle)              0.931818   \n",
       "608   green or ((blue and triangle) or (blue and rec...              0.945205   \n",
       "1346  (medium and (green or blue)) or (yellow and ((...              0.972222   \n",
       "2117  blue or ((green and not circle) or (yellow and...              1.000000   \n",
       "1727  small and blue and (circle or rectangle or tri...              1.000000   \n",
       "61                                                 True              1.000000   \n",
       "1566                    (large or medium) and not small              1.000000   \n",
       "1416                small and (blue or green or yellow)              1.000000   \n",
       "989   (circle and (green or yellow)) or (small and c...              1.000000   \n",
       "756                        circle and (green or yellow)              1.000000   \n",
       "534                                  triangle or circle              1.000000   \n",
       "454                    blue or (yellow or green circle)              1.000000   \n",
       "377                               triangle or rectangle              1.000000   \n",
       "288                                              circle              1.000000   \n",
       "219                                                blue              1.000000   \n",
       "138                                               False              1.000000   \n",
       "1652                                    small or medium              1.000000   \n",
       "2537       rectangle or (circle) or (triangle and blue)              1.000000   \n",
       "\n",
       "        chance                                        model_reply  \\\n",
       "1137  0.500084  Based on your examples, I've learned that the ...   \n",
       "1799  0.508507  Based on your examples, I've learned that the ...   \n",
       "1063  0.506531  Based on your examples, I've learned that the ...   \n",
       "1205  0.502959  Based on your examples, I've learned that the ...   \n",
       "2319  0.593355  Based on your examples, I've learned that the ...   \n",
       "2392  0.512002  Based on your examples, I've learned that the ...   \n",
       "1272  0.514694  Based on your examples, I've learned that the ...   \n",
       "2242  0.500556  Based on your examples, I've learned that the ...   \n",
       "682   0.836621  Based on your examples, I've learned that the ...   \n",
       "1498  0.634674  Based on your examples, I've learned that the ...   \n",
       "833   0.832756  Based on your examples, I've learned that the ...   \n",
       "2179  0.698935  Based on your examples, I've learned that the ...   \n",
       "2461  0.501002  Based on your examples, I've learned that the ...   \n",
       "1955  0.613379  Based on your examples, I've learned that the ...   \n",
       "918   0.500623  Based on your examples, I've learned that the ...   \n",
       "1867  0.666733  Based on your examples, I've learned that the ...   \n",
       "2039  0.512655  Based on your examples, I've learned that the ...   \n",
       "608   0.602177  Based on your examples, I've learned that the ...   \n",
       "1346  0.538580  Based on your examples, I've learned that the ...   \n",
       "2117  0.618335  Based on your examples, I've learned that the ...   \n",
       "1727  0.791205  Based on your examples, I've learned that the ...   \n",
       "61    1.000000  Based on your examples, I've learned that the ...   \n",
       "1566  0.572307  Based on your examples, I've learned that the ...   \n",
       "1416  0.538580  Based on your examples, I've learned that the ...   \n",
       "989   0.744042  Based on your examples, I've learned that the ...   \n",
       "756   0.673485  Based on your examples, I've learned that the ...   \n",
       "534   0.595003  Based on your examples, I've learned that the ...   \n",
       "454   0.501315  Based on your examples, I've learned that the ...   \n",
       "377   0.537190  Based on your examples, I've learned that the ...   \n",
       "288   0.647347  Based on your examples, I've learned that the ...   \n",
       "219   0.576145  Based on your examples, I've learned that the ...   \n",
       "138   1.000000  Based on your examples, I've learned that the ...   \n",
       "1652  0.545700  Based on your examples, I've learned that the ...   \n",
       "2537  0.665312  Based on your examples, I've learned that the ...   \n",
       "\n",
       "                                            manual_code  \n",
       "1137  def is_rule(obj):\\n    return obj.green or (ob...  \n",
       "1799  def is_rule(obj):\\n    return obj.small and (o...  \n",
       "1063  def is_rule(obj):\\n    return (obj.circle and ...  \n",
       "1205  def is_rule(obj):\\n    return not (obj.medium ...  \n",
       "2319  def is_rule(obj):\\n    return (obj.circle or o...  \n",
       "2392  def is_rule(obj):\\n    return obj.blue or obj....  \n",
       "1272  def is_rule(obj):\\n    return obj.large and no...  \n",
       "2242  def is_rule(obj):\\n    return obj.blue or (obj...  \n",
       "682   def is_rule(obj):\\n    return obj.large and ob...  \n",
       "1498  def is_rule(obj):\\n    return obj.large or (ob...  \n",
       "833   def is_rule(obj):\\n    return not (obj.medium ...  \n",
       "2179  def is_rule(obj):\\n    return obj.green or obj...  \n",
       "2461  def is_rule(obj):\\n    return (obj.circle and ...  \n",
       "1955  def is_rule(obj):\\n    return not(obj.blue) an...  \n",
       "918   def is_rule(obj):\\n    return obj.triangle or ...  \n",
       "1867  def is_rule(obj):\\n    return obj.rectangle or...  \n",
       "2039  def is_rule(obj):\\n    return (obj.blue) or (o...  \n",
       "608   def is_rule(obj):\\n    return obj.green or ((o...  \n",
       "1346  def is_rule(obj):\\n    return (obj.medium and ...  \n",
       "2117  def is_rule(obj):\\n    return obj.blue or ((ob...  \n",
       "1727  def is_rule(obj):\\n    return obj.small and ob...  \n",
       "61                   def is_rule(obj):\\n    return True  \n",
       "1566  def is_rule(obj):\\n    return obj.large or obj...  \n",
       "1416  def is_rule(obj):\\n    return obj.small and (o...  \n",
       "989   def is_rule(obj):\\n    return (obj.circle and ...  \n",
       "756   def is_rule(obj):\\n    return obj.circle and (...  \n",
       "534   def is_rule(obj):\\n    return obj.triangle or ...  \n",
       "454   def is_rule(obj):\\n    return obj.blue or ((ob...  \n",
       "377   def is_rule(obj):\\n    return obj.triangle or ...  \n",
       "288            def is_rule(obj):\\n    return obj.circle  \n",
       "219              def is_rule(obj):\\n    return obj.blue  \n",
       "138                 def is_rule(obj):\\n    return False  \n",
       "1652  def is_rule(obj):\\n    return obj.small or obj...  \n",
       "2537  def is_rule(obj):\\n    return obj.rectangle or...  "
      ]
     },
     "execution_count": 196,
     "metadata": {},
     "output_type": "execute_result"
    }
   ],
   "source": [
    "print(\"Consistency\", manual_rule_coverage['consistency'].mean())\n",
    "print(\"Coverage\", manual_rule_coverage.drop_duplicates(['concept', 'set'])['coverage_manual_code'].mean())\n",
    "\n",
    "mdf = manual_rule_coverage.drop_duplicates(['concept', 'set'])\n",
    "print(\"Arrived at right rule on last set\", (mdf[mdf['set'] == 25]['coverage_manual_code'] == 1).mean())\n",
    "print(\"Arrived at right rule on any of last five\", mdf[mdf['set'] >= 20].groupby('concept').apply(lambda x: (x['full_coverage_manual_code'] == 1).sum() > 0).reset_index().loc[:, 0].mean())\n",
    "fdf = mdf[mdf['set'] == 25].sort_values('coverage_manual_code')\n",
    "fdf.loc[:, ['concept_num', 'concept',  'rule_expression', 'coverage_manual_code', 'chance', 'model_reply', 'manual_code', ]]"
   ]
  },
  {
   "cell_type": "code",
   "execution_count": 179,
   "metadata": {},
   "outputs": [
    {
     "data": {
      "text/html": [
       "<div>\n",
       "<style scoped>\n",
       "    .dataframe tbody tr th:only-of-type {\n",
       "        vertical-align: middle;\n",
       "    }\n",
       "\n",
       "    .dataframe tbody tr th {\n",
       "        vertical-align: top;\n",
       "    }\n",
       "\n",
       "    .dataframe thead th {\n",
       "        text-align: right;\n",
       "    }\n",
       "</style>\n",
       "<table border=\"1\" class=\"dataframe\">\n",
       "  <thead>\n",
       "    <tr style=\"text-align: right;\">\n",
       "      <th></th>\n",
       "      <th>concept_num</th>\n",
       "      <th>concept</th>\n",
       "      <th>rule_expression</th>\n",
       "      <th>coverage_manual_code</th>\n",
       "      <th>human_lq</th>\n",
       "      <th>model_reply</th>\n",
       "      <th>manual_code</th>\n",
       "    </tr>\n",
       "  </thead>\n",
       "  <tbody>\n",
       "    <tr>\n",
       "      <th>1064</th>\n",
       "      <td>hg15</td>\n",
       "      <td>not (circle xor blue)</td>\n",
       "      <td>large and circle and blue</td>\n",
       "      <td>0.558442</td>\n",
       "      <td>0.805263</td>\n",
       "      <td>Based on your examples, I've learned that the ...</td>\n",
       "      <td>def is_rule(obj):\\n    return obj.large and ob...</td>\n",
       "    </tr>\n",
       "    <tr>\n",
       "      <th>1066</th>\n",
       "      <td>hg15</td>\n",
       "      <td>not (circle xor blue)</td>\n",
       "      <td>not (blue or green) and not (triangle or circle)</td>\n",
       "      <td>0.571429</td>\n",
       "      <td>0.805263</td>\n",
       "      <td>Based on your examples, I've learned that the ...</td>\n",
       "      <td>def is_rule(obj):\\n    return not (obj.blue or...</td>\n",
       "    </tr>\n",
       "    <tr>\n",
       "      <th>1071</th>\n",
       "      <td>hg15</td>\n",
       "      <td>not (circle xor blue)</td>\n",
       "      <td>(medium and green and triangle) or (large and ...</td>\n",
       "      <td>0.662338</td>\n",
       "      <td>0.805263</td>\n",
       "      <td>Based on your examples, I've learned that the ...</td>\n",
       "      <td>def is_rule(obj):\\n    return (obj.medium and ...</td>\n",
       "    </tr>\n",
       "    <tr>\n",
       "      <th>1072</th>\n",
       "      <td>hg15</td>\n",
       "      <td>not (circle xor blue)</td>\n",
       "      <td>(green and triangle) or (large and circle)</td>\n",
       "      <td>0.584416</td>\n",
       "      <td>0.805263</td>\n",
       "      <td>Based on your examples, I've learned that the ...</td>\n",
       "      <td>def is_rule(obj):\\n    return (obj.green and o...</td>\n",
       "    </tr>\n",
       "    <tr>\n",
       "      <th>1073</th>\n",
       "      <td>hg15</td>\n",
       "      <td>not (circle xor blue)</td>\n",
       "      <td>(green) or (blue and circle)</td>\n",
       "      <td>0.701299</td>\n",
       "      <td>0.805263</td>\n",
       "      <td>Based on your examples, I've learned that the ...</td>\n",
       "      <td>def is_rule(obj):\\n    return (obj.green) or (...</td>\n",
       "    </tr>\n",
       "    <tr>\n",
       "      <th>1078</th>\n",
       "      <td>hg15</td>\n",
       "      <td>not (circle xor blue)</td>\n",
       "      <td>(green and triangle) or (blue and circle)</td>\n",
       "      <td>0.740260</td>\n",
       "      <td>0.805263</td>\n",
       "      <td>Based on your examples, I've learned that the ...</td>\n",
       "      <td>def is_rule(obj):\\n    return (obj.green and o...</td>\n",
       "    </tr>\n",
       "    <tr>\n",
       "      <th>1079</th>\n",
       "      <td>hg15</td>\n",
       "      <td>not (circle xor blue)</td>\n",
       "      <td>(triangle and green) or (circle and blue) or (...</td>\n",
       "      <td>0.831169</td>\n",
       "      <td>0.805263</td>\n",
       "      <td>Based on your examples, I've learned that the ...</td>\n",
       "      <td>def is_rule(obj):\\n    return (obj.triangle an...</td>\n",
       "    </tr>\n",
       "    <tr>\n",
       "      <th>1080</th>\n",
       "      <td>hg15</td>\n",
       "      <td>not (circle xor blue)</td>\n",
       "      <td>(green and triangle) or (blue and circle)</td>\n",
       "      <td>0.740260</td>\n",
       "      <td>0.805263</td>\n",
       "      <td>Based on your examples, I've learned that the ...</td>\n",
       "      <td>def is_rule(obj):\\n    return (obj.green and o...</td>\n",
       "    </tr>\n",
       "    <tr>\n",
       "      <th>1082</th>\n",
       "      <td>hg15</td>\n",
       "      <td>not (circle xor blue)</td>\n",
       "      <td>(green and triangle) or (blue and circle) or (...</td>\n",
       "      <td>0.831169</td>\n",
       "      <td>0.805263</td>\n",
       "      <td>Based on your examples, I've learned that the ...</td>\n",
       "      <td>def is_rule(obj):\\n    return (obj.green and o...</td>\n",
       "    </tr>\n",
       "    <tr>\n",
       "      <th>1085</th>\n",
       "      <td>hg15</td>\n",
       "      <td>not (circle xor blue)</td>\n",
       "      <td>(green and triangle) or (blue and circle) or (...</td>\n",
       "      <td>0.701299</td>\n",
       "      <td>0.805263</td>\n",
       "      <td>Based on your examples, I've learned that the ...</td>\n",
       "      <td>def is_rule(obj):\\n    return (obj.green and o...</td>\n",
       "    </tr>\n",
       "    <tr>\n",
       "      <th>1090</th>\n",
       "      <td>hg15</td>\n",
       "      <td>not (circle xor blue)</td>\n",
       "      <td>(green or blue) and (triangle or circle) and n...</td>\n",
       "      <td>0.480519</td>\n",
       "      <td>0.805263</td>\n",
       "      <td>Based on your examples, I've learned that the ...</td>\n",
       "      <td>def is_rule(obj):\\n    return (obj.green or ob...</td>\n",
       "    </tr>\n",
       "    <tr>\n",
       "      <th>1094</th>\n",
       "      <td>hg15</td>\n",
       "      <td>not (circle xor blue)</td>\n",
       "      <td>(green and not circle) or (blue and large)</td>\n",
       "      <td>0.701299</td>\n",
       "      <td>0.805263</td>\n",
       "      <td>Based on your examples, I've learned that the ...</td>\n",
       "      <td>def is_rule(obj):\\n    return (obj.green and n...</td>\n",
       "    </tr>\n",
       "    <tr>\n",
       "      <th>1096</th>\n",
       "      <td>hg15</td>\n",
       "      <td>not (circle xor blue)</td>\n",
       "      <td>green or ((blue or yellow) and (triangle or re...</td>\n",
       "      <td>0.480519</td>\n",
       "      <td>0.805263</td>\n",
       "      <td>Based on your examples, I've learned that the ...</td>\n",
       "      <td>def is_rule(obj):\\n    return obj.green or ((o...</td>\n",
       "    </tr>\n",
       "    <tr>\n",
       "      <th>1101</th>\n",
       "      <td>hg15</td>\n",
       "      <td>not (circle xor blue)</td>\n",
       "      <td>(green and not circle) or (blue and circle)</td>\n",
       "      <td>0.831169</td>\n",
       "      <td>0.805263</td>\n",
       "      <td>Based on your examples, I've learned that the ...</td>\n",
       "      <td>def is_rule(obj):\\n    return (obj.green and n...</td>\n",
       "    </tr>\n",
       "    <tr>\n",
       "      <th>1104</th>\n",
       "      <td>hg15</td>\n",
       "      <td>not (circle xor blue)</td>\n",
       "      <td>(green and triangle) or (blue and circle)</td>\n",
       "      <td>0.740260</td>\n",
       "      <td>0.805263</td>\n",
       "      <td>Based on your examples, I've learned that the ...</td>\n",
       "      <td>def is_rule(obj):\\n    return (obj.green and o...</td>\n",
       "    </tr>\n",
       "    <tr>\n",
       "      <th>1108</th>\n",
       "      <td>hg15</td>\n",
       "      <td>not (circle xor blue)</td>\n",
       "      <td>(medium and triangle) or (small and blue and c...</td>\n",
       "      <td>0.805195</td>\n",
       "      <td>0.805263</td>\n",
       "      <td>Based on your examples, I've learned that the ...</td>\n",
       "      <td>def is_rule(obj):\\n    return (obj.medium and ...</td>\n",
       "    </tr>\n",
       "    <tr>\n",
       "      <th>1110</th>\n",
       "      <td>hg15</td>\n",
       "      <td>not (circle xor blue)</td>\n",
       "      <td>(green and not circle) or (large and blue)</td>\n",
       "      <td>0.701299</td>\n",
       "      <td>0.805263</td>\n",
       "      <td>Based on your examples, I've learned that the ...</td>\n",
       "      <td>def is_rule(obj):\\n    return (obj.green and n...</td>\n",
       "    </tr>\n",
       "    <tr>\n",
       "      <th>1111</th>\n",
       "      <td>hg15</td>\n",
       "      <td>not (circle xor blue)</td>\n",
       "      <td>(green or blue) and not small</td>\n",
       "      <td>0.519481</td>\n",
       "      <td>0.805263</td>\n",
       "      <td>Based on your examples, I've learned that...\\n...</td>\n",
       "      <td>def is_rule(obj):  \\n    return (obj.green or ...</td>\n",
       "    </tr>\n",
       "    <tr>\n",
       "      <th>1116</th>\n",
       "      <td>hg15</td>\n",
       "      <td>not (circle xor blue)</td>\n",
       "      <td>medium or (green and triangle) or (blue and ci...</td>\n",
       "      <td>0.714286</td>\n",
       "      <td>0.805263</td>\n",
       "      <td>Based on your examples, I've learned that the ...</td>\n",
       "      <td>def is_rule(obj):\\n    return obj.medium or (o...</td>\n",
       "    </tr>\n",
       "    <tr>\n",
       "      <th>1121</th>\n",
       "      <td>hg15</td>\n",
       "      <td>not (circle xor blue)</td>\n",
       "      <td>medium and (green or (yellow and rectangle))</td>\n",
       "      <td>0.623377</td>\n",
       "      <td>0.805263</td>\n",
       "      <td>Based on your examples, I've learned that the ...</td>\n",
       "      <td>def is_rule(obj):\\n    return obj.medium and (...</td>\n",
       "    </tr>\n",
       "    <tr>\n",
       "      <th>1126</th>\n",
       "      <td>hg15</td>\n",
       "      <td>not (circle xor blue)</td>\n",
       "      <td>(triangle or circle) and (green or blue) and n...</td>\n",
       "      <td>0.480519</td>\n",
       "      <td>0.805263</td>\n",
       "      <td>Based on your examples, I've learned that the ...</td>\n",
       "      <td>def is_rule(obj):\\n    return (obj.triangle or...</td>\n",
       "    </tr>\n",
       "    <tr>\n",
       "      <th>1128</th>\n",
       "      <td>hg15</td>\n",
       "      <td>not (circle xor blue)</td>\n",
       "      <td>(green and triangle) or (blue and circle) or (...</td>\n",
       "      <td>0.974026</td>\n",
       "      <td>0.805263</td>\n",
       "      <td>Based on your examples, I've learned that the ...</td>\n",
       "      <td>def is_rule(obj):\\n    return (obj.green and o...</td>\n",
       "    </tr>\n",
       "    <tr>\n",
       "      <th>1131</th>\n",
       "      <td>hg15</td>\n",
       "      <td>not (circle xor blue)</td>\n",
       "      <td>((triangle or circle) and green) or (circle an...</td>\n",
       "      <td>0.610390</td>\n",
       "      <td>0.805263</td>\n",
       "      <td>Based on your examples, I've learned that the ...</td>\n",
       "      <td>def is_rule(obj):\\n    return ((obj.triangle o...</td>\n",
       "    </tr>\n",
       "    <tr>\n",
       "      <th>1134</th>\n",
       "      <td>hg15</td>\n",
       "      <td>not (circle xor blue)</td>\n",
       "      <td>((medium and blue and circle) or ((medium or l...</td>\n",
       "      <td>0.909091</td>\n",
       "      <td>0.805263</td>\n",
       "      <td>Based on your examples, I've learned that the ...</td>\n",
       "      <td>def is_rule(obj):\\n    return ((obj.medium and...</td>\n",
       "    </tr>\n",
       "    <tr>\n",
       "      <th>1137</th>\n",
       "      <td>hg15</td>\n",
       "      <td>not (circle xor blue)</td>\n",
       "      <td>green or (triangle)</td>\n",
       "      <td>0.532468</td>\n",
       "      <td>0.805263</td>\n",
       "      <td>Based on your examples, I've learned that the ...</td>\n",
       "      <td>def is_rule(obj):\\n    return obj.green or (ob...</td>\n",
       "    </tr>\n",
       "  </tbody>\n",
       "</table>\n",
       "</div>"
      ],
      "text/plain": [
       "     concept_num                concept  \\\n",
       "1064        hg15  not (circle xor blue)   \n",
       "1066        hg15  not (circle xor blue)   \n",
       "1071        hg15  not (circle xor blue)   \n",
       "1072        hg15  not (circle xor blue)   \n",
       "1073        hg15  not (circle xor blue)   \n",
       "1078        hg15  not (circle xor blue)   \n",
       "1079        hg15  not (circle xor blue)   \n",
       "1080        hg15  not (circle xor blue)   \n",
       "1082        hg15  not (circle xor blue)   \n",
       "1085        hg15  not (circle xor blue)   \n",
       "1090        hg15  not (circle xor blue)   \n",
       "1094        hg15  not (circle xor blue)   \n",
       "1096        hg15  not (circle xor blue)   \n",
       "1101        hg15  not (circle xor blue)   \n",
       "1104        hg15  not (circle xor blue)   \n",
       "1108        hg15  not (circle xor blue)   \n",
       "1110        hg15  not (circle xor blue)   \n",
       "1111        hg15  not (circle xor blue)   \n",
       "1116        hg15  not (circle xor blue)   \n",
       "1121        hg15  not (circle xor blue)   \n",
       "1126        hg15  not (circle xor blue)   \n",
       "1128        hg15  not (circle xor blue)   \n",
       "1131        hg15  not (circle xor blue)   \n",
       "1134        hg15  not (circle xor blue)   \n",
       "1137        hg15  not (circle xor blue)   \n",
       "\n",
       "                                        rule_expression  coverage_manual_code  \\\n",
       "1064                          large and circle and blue              0.558442   \n",
       "1066   not (blue or green) and not (triangle or circle)              0.571429   \n",
       "1071  (medium and green and triangle) or (large and ...              0.662338   \n",
       "1072         (green and triangle) or (large and circle)              0.584416   \n",
       "1073                       (green) or (blue and circle)              0.701299   \n",
       "1078          (green and triangle) or (blue and circle)              0.740260   \n",
       "1079  (triangle and green) or (circle and blue) or (...              0.831169   \n",
       "1080          (green and triangle) or (blue and circle)              0.740260   \n",
       "1082  (green and triangle) or (blue and circle) or (...              0.831169   \n",
       "1085  (green and triangle) or (blue and circle) or (...              0.701299   \n",
       "1090  (green or blue) and (triangle or circle) and n...              0.480519   \n",
       "1094         (green and not circle) or (blue and large)              0.701299   \n",
       "1096  green or ((blue or yellow) and (triangle or re...              0.480519   \n",
       "1101        (green and not circle) or (blue and circle)              0.831169   \n",
       "1104          (green and triangle) or (blue and circle)              0.740260   \n",
       "1108  (medium and triangle) or (small and blue and c...              0.805195   \n",
       "1110         (green and not circle) or (large and blue)              0.701299   \n",
       "1111                      (green or blue) and not small              0.519481   \n",
       "1116  medium or (green and triangle) or (blue and ci...              0.714286   \n",
       "1121       medium and (green or (yellow and rectangle))              0.623377   \n",
       "1126  (triangle or circle) and (green or blue) and n...              0.480519   \n",
       "1128  (green and triangle) or (blue and circle) or (...              0.974026   \n",
       "1131  ((triangle or circle) and green) or (circle an...              0.610390   \n",
       "1134  ((medium and blue and circle) or ((medium or l...              0.909091   \n",
       "1137                                green or (triangle)              0.532468   \n",
       "\n",
       "      human_lq                                        model_reply  \\\n",
       "1064  0.805263  Based on your examples, I've learned that the ...   \n",
       "1066  0.805263  Based on your examples, I've learned that the ...   \n",
       "1071  0.805263  Based on your examples, I've learned that the ...   \n",
       "1072  0.805263  Based on your examples, I've learned that the ...   \n",
       "1073  0.805263  Based on your examples, I've learned that the ...   \n",
       "1078  0.805263  Based on your examples, I've learned that the ...   \n",
       "1079  0.805263  Based on your examples, I've learned that the ...   \n",
       "1080  0.805263  Based on your examples, I've learned that the ...   \n",
       "1082  0.805263  Based on your examples, I've learned that the ...   \n",
       "1085  0.805263  Based on your examples, I've learned that the ...   \n",
       "1090  0.805263  Based on your examples, I've learned that the ...   \n",
       "1094  0.805263  Based on your examples, I've learned that the ...   \n",
       "1096  0.805263  Based on your examples, I've learned that the ...   \n",
       "1101  0.805263  Based on your examples, I've learned that the ...   \n",
       "1104  0.805263  Based on your examples, I've learned that the ...   \n",
       "1108  0.805263  Based on your examples, I've learned that the ...   \n",
       "1110  0.805263  Based on your examples, I've learned that the ...   \n",
       "1111  0.805263  Based on your examples, I've learned that...\\n...   \n",
       "1116  0.805263  Based on your examples, I've learned that the ...   \n",
       "1121  0.805263  Based on your examples, I've learned that the ...   \n",
       "1126  0.805263  Based on your examples, I've learned that the ...   \n",
       "1128  0.805263  Based on your examples, I've learned that the ...   \n",
       "1131  0.805263  Based on your examples, I've learned that the ...   \n",
       "1134  0.805263  Based on your examples, I've learned that the ...   \n",
       "1137  0.805263  Based on your examples, I've learned that the ...   \n",
       "\n",
       "                                            manual_code  \n",
       "1064  def is_rule(obj):\\n    return obj.large and ob...  \n",
       "1066  def is_rule(obj):\\n    return not (obj.blue or...  \n",
       "1071  def is_rule(obj):\\n    return (obj.medium and ...  \n",
       "1072  def is_rule(obj):\\n    return (obj.green and o...  \n",
       "1073  def is_rule(obj):\\n    return (obj.green) or (...  \n",
       "1078  def is_rule(obj):\\n    return (obj.green and o...  \n",
       "1079  def is_rule(obj):\\n    return (obj.triangle an...  \n",
       "1080  def is_rule(obj):\\n    return (obj.green and o...  \n",
       "1082  def is_rule(obj):\\n    return (obj.green and o...  \n",
       "1085  def is_rule(obj):\\n    return (obj.green and o...  \n",
       "1090  def is_rule(obj):\\n    return (obj.green or ob...  \n",
       "1094  def is_rule(obj):\\n    return (obj.green and n...  \n",
       "1096  def is_rule(obj):\\n    return obj.green or ((o...  \n",
       "1101  def is_rule(obj):\\n    return (obj.green and n...  \n",
       "1104  def is_rule(obj):\\n    return (obj.green and o...  \n",
       "1108  def is_rule(obj):\\n    return (obj.medium and ...  \n",
       "1110  def is_rule(obj):\\n    return (obj.green and n...  \n",
       "1111  def is_rule(obj):  \\n    return (obj.green or ...  \n",
       "1116  def is_rule(obj):\\n    return obj.medium or (o...  \n",
       "1121  def is_rule(obj):\\n    return obj.medium and (...  \n",
       "1126  def is_rule(obj):\\n    return (obj.triangle or...  \n",
       "1128  def is_rule(obj):\\n    return (obj.green and o...  \n",
       "1131  def is_rule(obj):\\n    return ((obj.triangle o...  \n",
       "1134  def is_rule(obj):\\n    return ((obj.medium and...  \n",
       "1137  def is_rule(obj):\\n    return obj.green or (ob...  "
      ]
     },
     "execution_count": 179,
     "metadata": {},
     "output_type": "execute_result"
    }
   ],
   "source": [
    "mdf[mdf['concept_num'] == 'hg15'].sort_values(['item_num']).loc[:, ['concept_num', 'concept',  'rule_expression', 'coverage_manual_code', 'human_lq', 'model_reply', 'manual_code', ]]"
   ]
  },
  {
   "cell_type": "code",
   "execution_count": 192,
   "metadata": {},
   "outputs": [],
   "source": [
    "human_lq = manual_rule_coverage.sort_values(['concept_num', 'item_num']).drop_duplicates(['concept'])['human_lq'].tolist()\n",
    "concept = manual_rule_coverage.sort_values(['concept_num', 'item_num']).drop_duplicates(['concept'])['concept'].tolist()\n",
    "lq_coverage = manual_rule_coverage.sort_values(['concept_num', 'item_num']).groupby(['concept']).apply(lambda x: x[x['item_num'] >= (3 * (max(x['item_num']) / 4))]['coverage_manual_code'].mean()).reset_index().loc[:, 0].tolist()\n",
    "gdf = pd.DataFrame()\n",
    "gdf['human_lq'] = human_lq\n",
    "gdf['concept'] = concept\n",
    "gdf['lq_coverage'] = lq_coverage\n",
    "gdf"
   ]
  },
  {
   "cell_type": "code",
   "execution_count": 167,
   "metadata": {},
   "outputs": [
    {
     "data": {
      "application/vnd.plotly.v1+json": {
       "config": {
        "plotlyServerURL": "https://plot.ly"
       },
       "data": [
        {
         "customdata": [
          [
           "True"
          ],
          [
           "True"
          ],
          [
           "True"
          ],
          [
           "True"
          ],
          [
           "True"
          ],
          [
           "True"
          ],
          [
           "True"
          ],
          [
           "True"
          ],
          [
           "True"
          ],
          [
           "True"
          ],
          [
           "True"
          ],
          [
           "True"
          ],
          [
           "True"
          ],
          [
           "True"
          ],
          [
           "True"
          ],
          [
           "True"
          ],
          [
           "True"
          ],
          [
           "True"
          ],
          [
           "True"
          ],
          [
           "True"
          ],
          [
           "True"
          ],
          [
           "True"
          ],
          [
           "True"
          ],
          [
           "True"
          ],
          [
           "True"
          ]
         ],
         "hovertemplate": "concept=%{customdata[0]}<br>set=%{x}<br>coverage_manual_code=%{y}<extra></extra>",
         "legendgroup": "True",
         "line": {
          "color": "#636efa",
          "dash": "solid"
         },
         "marker": {
          "symbol": "circle"
         },
         "mode": "lines",
         "name": "True",
         "orientation": "v",
         "showlegend": true,
         "type": "scatter",
         "x": [
          1,
          2,
          3,
          4,
          5,
          6,
          7,
          8,
          9,
          10,
          11,
          12,
          13,
          14,
          15,
          16,
          17,
          18,
          19,
          20,
          21,
          22,
          23,
          24,
          25
         ],
         "xaxis": "x",
         "y": [
          null,
          1,
          1,
          0.8333333333333334,
          0.8,
          0.9090909090909092,
          0.7857142857142857,
          1,
          1,
          0.8888888888888888,
          0.9,
          0.9130434782608696,
          1,
          1,
          0.9411764705882352,
          1,
          1,
          0.4615384615384615,
          0.926829268292683,
          0.9782608695652174,
          1,
          0.7678571428571429,
          0.8245614035087719,
          1,
          1
         ],
         "yaxis": "y"
        },
        {
         "customdata": [
          [
           "(not blue) implies (not circle)"
          ],
          [
           "(not blue) implies (not circle)"
          ],
          [
           "(not blue) implies (not circle)"
          ],
          [
           "(not blue) implies (not circle)"
          ],
          [
           "(not blue) implies (not circle)"
          ],
          [
           "(not blue) implies (not circle)"
          ],
          [
           "(not blue) implies (not circle)"
          ],
          [
           "(not blue) implies (not circle)"
          ],
          [
           "(not blue) implies (not circle)"
          ],
          [
           "(not blue) implies (not circle)"
          ],
          [
           "(not blue) implies (not circle)"
          ],
          [
           "(not blue) implies (not circle)"
          ],
          [
           "(not blue) implies (not circle)"
          ],
          [
           "(not blue) implies (not circle)"
          ],
          [
           "(not blue) implies (not circle)"
          ],
          [
           "(not blue) implies (not circle)"
          ],
          [
           "(not blue) implies (not circle)"
          ],
          [
           "(not blue) implies (not circle)"
          ],
          [
           "(not blue) implies (not circle)"
          ],
          [
           "(not blue) implies (not circle)"
          ],
          [
           "(not blue) implies (not circle)"
          ],
          [
           "(not blue) implies (not circle)"
          ],
          [
           "(not blue) implies (not circle)"
          ],
          [
           "(not blue) implies (not circle)"
          ],
          [
           "(not blue) implies (not circle)"
          ]
         ],
         "hovertemplate": "concept=%{customdata[0]}<br>set=%{x}<br>coverage_manual_code=%{y}<extra></extra>",
         "legendgroup": "(not blue) implies (not circle)",
         "line": {
          "color": "#EF553B",
          "dash": "solid"
         },
         "marker": {
          "symbol": "circle"
         },
         "mode": "lines",
         "name": "(not blue) implies (not circle)",
         "orientation": "v",
         "showlegend": true,
         "type": "scatter",
         "x": [
          1,
          2,
          3,
          4,
          5,
          6,
          7,
          8,
          9,
          10,
          11,
          12,
          13,
          14,
          15,
          16,
          17,
          18,
          19,
          20,
          21,
          22,
          23,
          24,
          25
         ],
         "xaxis": "x",
         "y": [
          0.3513513513513513,
          0.7162162162162162,
          0.8243243243243243,
          0.7162162162162162,
          0.8648648648648649,
          0.8243243243243243,
          0.7297297297297297,
          0.8918918918918919,
          0.8378378378378378,
          0.8243243243243243,
          0.8243243243243243,
          0.7972972972972973,
          0.6486486486486487,
          0.4324324324324324,
          0.8648648648648649,
          0.5675675675675675,
          0.8243243243243243,
          1,
          0.972972972972973,
          0.8918918918918919,
          0.8378378378378378,
          0.8918918918918919,
          0.7837837837837838,
          1,
          1
         ],
         "yaxis": "y"
        },
        {
         "customdata": [
          [
           "(not blue) implies circle"
          ],
          [
           "(not blue) implies circle"
          ],
          [
           "(not blue) implies circle"
          ],
          [
           "(not blue) implies circle"
          ],
          [
           "(not blue) implies circle"
          ],
          [
           "(not blue) implies circle"
          ],
          [
           "(not blue) implies circle"
          ],
          [
           "(not blue) implies circle"
          ],
          [
           "(not blue) implies circle"
          ],
          [
           "(not blue) implies circle"
          ],
          [
           "(not blue) implies circle"
          ],
          [
           "(not blue) implies circle"
          ],
          [
           "(not blue) implies circle"
          ],
          [
           "(not blue) implies circle"
          ],
          [
           "(not blue) implies circle"
          ],
          [
           "(not blue) implies circle"
          ],
          [
           "(not blue) implies circle"
          ],
          [
           "(not blue) implies circle"
          ],
          [
           "(not blue) implies circle"
          ],
          [
           "(not blue) implies circle"
          ],
          [
           "(not blue) implies circle"
          ],
          [
           "(not blue) implies circle"
          ],
          [
           "(not blue) implies circle"
          ],
          [
           "(not blue) implies circle"
          ],
          [
           "(not blue) implies circle"
          ]
         ],
         "hovertemplate": "concept=%{customdata[0]}<br>set=%{x}<br>coverage_manual_code=%{y}<extra></extra>",
         "legendgroup": "(not blue) implies circle",
         "line": {
          "color": "#00cc96",
          "dash": "solid"
         },
         "marker": {
          "symbol": "circle"
         },
         "mode": "lines",
         "name": "(not blue) implies circle",
         "orientation": "v",
         "showlegend": true,
         "type": "scatter",
         "x": [
          1,
          2,
          3,
          4,
          5,
          6,
          7,
          8,
          9,
          10,
          11,
          12,
          13,
          14,
          15,
          16,
          17,
          18,
          19,
          20,
          21,
          22,
          23,
          24,
          25
         ],
         "xaxis": "x",
         "y": [
          0.4545454545454545,
          0.4545454545454545,
          0.4545454545454545,
          0.4545454545454545,
          0.5227272727272727,
          0.625,
          0.7840909090909091,
          0.7272727272727273,
          0.8636363636363636,
          0.7840909090909091,
          0.9318181818181818,
          0.7840909090909091,
          0.7840909090909091,
          0.5113636363636364,
          0.7840909090909091,
          0.8636363636363636,
          0.9318181818181818,
          0.7159090909090909,
          0.7840909090909091,
          1,
          0.75,
          0.7613636363636364,
          1,
          0.7159090909090909,
          0.9318181818181818
         ],
         "yaxis": "y"
        },
        {
         "customdata": [
          [
           "circle"
          ],
          [
           "circle"
          ],
          [
           "circle"
          ],
          [
           "circle"
          ],
          [
           "circle"
          ],
          [
           "circle"
          ],
          [
           "circle"
          ],
          [
           "circle"
          ],
          [
           "circle"
          ],
          [
           "circle"
          ],
          [
           "circle"
          ],
          [
           "circle"
          ],
          [
           "circle"
          ],
          [
           "circle"
          ],
          [
           "circle"
          ],
          [
           "circle"
          ],
          [
           "circle"
          ],
          [
           "circle"
          ],
          [
           "circle"
          ],
          [
           "circle"
          ],
          [
           "circle"
          ],
          [
           "circle"
          ],
          [
           "circle"
          ],
          [
           "circle"
          ],
          [
           "circle"
          ]
         ],
         "hovertemplate": "concept=%{customdata[0]}<br>set=%{x}<br>coverage_manual_code=%{y}<extra></extra>",
         "legendgroup": "circle",
         "line": {
          "color": "#ab63fa",
          "dash": "solid"
         },
         "marker": {
          "symbol": "circle"
         },
         "mode": "lines",
         "name": "circle",
         "orientation": "v",
         "showlegend": true,
         "type": "scatter",
         "x": [
          1,
          2,
          3,
          4,
          5,
          6,
          7,
          8,
          9,
          10,
          11,
          12,
          13,
          14,
          15,
          16,
          17,
          18,
          19,
          20,
          21,
          22,
          23,
          24,
          25
         ],
         "xaxis": "x",
         "y": [
          0.8428571428571429,
          0.7428571428571429,
          0.7714285714285715,
          0.7714285714285715,
          0.7714285714285715,
          0.8142857142857143,
          0.8428571428571429,
          0.8714285714285714,
          0.8571428571428571,
          0.9285714285714286,
          0.8571428571428571,
          1,
          1,
          1,
          1,
          1,
          1,
          1,
          1,
          1,
          1,
          1,
          1,
          0.9428571428571428,
          1
         ],
         "yaxis": "y"
        },
        {
         "customdata": [
          [
           "blue implies circle"
          ],
          [
           "blue implies circle"
          ],
          [
           "blue implies circle"
          ],
          [
           "blue implies circle"
          ],
          [
           "blue implies circle"
          ],
          [
           "blue implies circle"
          ],
          [
           "blue implies circle"
          ],
          [
           "blue implies circle"
          ],
          [
           "blue implies circle"
          ],
          [
           "blue implies circle"
          ],
          [
           "blue implies circle"
          ],
          [
           "blue implies circle"
          ],
          [
           "blue implies circle"
          ],
          [
           "blue implies circle"
          ],
          [
           "blue implies circle"
          ],
          [
           "blue implies circle"
          ],
          [
           "blue implies circle"
          ],
          [
           "blue implies circle"
          ],
          [
           "blue implies circle"
          ],
          [
           "blue implies circle"
          ],
          [
           "blue implies circle"
          ],
          [
           "blue implies circle"
          ],
          [
           "blue implies circle"
          ],
          [
           "blue implies circle"
          ]
         ],
         "hovertemplate": "concept=%{customdata[0]}<br>set=%{x}<br>coverage_manual_code=%{y}<extra></extra>",
         "legendgroup": "blue implies circle",
         "line": {
          "color": "#FFA15A",
          "dash": "solid"
         },
         "marker": {
          "symbol": "circle"
         },
         "mode": "lines",
         "name": "blue implies circle",
         "orientation": "v",
         "showlegend": true,
         "type": "scatter",
         "x": [
          1,
          3,
          4,
          5,
          6,
          7,
          8,
          9,
          10,
          11,
          12,
          13,
          14,
          15,
          16,
          17,
          18,
          19,
          20,
          21,
          22,
          23,
          24,
          25
         ],
         "xaxis": "x",
         "y": [
          0.1428571428571428,
          0.6785714285714286,
          0.9285714285714286,
          0.7857142857142857,
          0.9285714285714286,
          0.8095238095238095,
          0.9285714285714286,
          0.8333333333333334,
          0.8928571428571429,
          0.7619047619047619,
          1,
          0.8095238095238095,
          0.9285714285714286,
          0.7380952380952381,
          0.9285714285714286,
          0.7023809523809523,
          1,
          0.9285714285714286,
          0.8690476190476191,
          0.7142857142857143,
          0.9285714285714286,
          0.7976190476190477,
          1,
          0.9285714285714286
         ],
         "yaxis": "y"
        },
        {
         "customdata": [
          [
           "circle implies blue"
          ],
          [
           "circle implies blue"
          ],
          [
           "circle implies blue"
          ],
          [
           "circle implies blue"
          ],
          [
           "circle implies blue"
          ],
          [
           "circle implies blue"
          ],
          [
           "circle implies blue"
          ],
          [
           "circle implies blue"
          ],
          [
           "circle implies blue"
          ],
          [
           "circle implies blue"
          ],
          [
           "circle implies blue"
          ],
          [
           "circle implies blue"
          ],
          [
           "circle implies blue"
          ],
          [
           "circle implies blue"
          ],
          [
           "circle implies blue"
          ],
          [
           "circle implies blue"
          ],
          [
           "circle implies blue"
          ],
          [
           "circle implies blue"
          ],
          [
           "circle implies blue"
          ],
          [
           "circle implies blue"
          ],
          [
           "circle implies blue"
          ],
          [
           "circle implies blue"
          ],
          [
           "circle implies blue"
          ],
          [
           "circle implies blue"
          ],
          [
           "circle implies blue"
          ]
         ],
         "hovertemplate": "concept=%{customdata[0]}<br>set=%{x}<br>coverage_manual_code=%{y}<extra></extra>",
         "legendgroup": "circle implies blue",
         "line": {
          "color": "#19d3f3",
          "dash": "solid"
         },
         "marker": {
          "symbol": "circle"
         },
         "mode": "lines",
         "name": "circle implies blue",
         "orientation": "v",
         "showlegend": true,
         "type": "scatter",
         "x": [
          1,
          2,
          3,
          4,
          5,
          6,
          7,
          8,
          9,
          10,
          11,
          12,
          13,
          14,
          15,
          16,
          17,
          18,
          19,
          20,
          21,
          22,
          23,
          24,
          25
         ],
         "xaxis": "x",
         "y": [
          0.3380281690140845,
          0.380281690140845,
          0.9295774647887324,
          0.9295774647887324,
          0.9295774647887324,
          0.9295774647887324,
          0.9295774647887324,
          0.9295774647887324,
          0.9295774647887324,
          0.9295774647887324,
          0.9295774647887324,
          0.9295774647887324,
          0.9295774647887324,
          0.9295774647887324,
          0.9295774647887324,
          0.9295774647887324,
          0.9295774647887324,
          0.9295774647887324,
          0.9295774647887324,
          0.9295774647887324,
          0.9295774647887324,
          0.9295774647887324,
          0.9295774647887324,
          0.9295774647887324,
          0.9295774647887324
         ],
         "yaxis": "y"
        },
        {
         "customdata": [
          [
           "not circle"
          ],
          [
           "not circle"
          ],
          [
           "not circle"
          ],
          [
           "not circle"
          ],
          [
           "not circle"
          ],
          [
           "not circle"
          ],
          [
           "not circle"
          ],
          [
           "not circle"
          ],
          [
           "not circle"
          ],
          [
           "not circle"
          ],
          [
           "not circle"
          ],
          [
           "not circle"
          ],
          [
           "not circle"
          ],
          [
           "not circle"
          ],
          [
           "not circle"
          ],
          [
           "not circle"
          ],
          [
           "not circle"
          ],
          [
           "not circle"
          ],
          [
           "not circle"
          ],
          [
           "not circle"
          ],
          [
           "not circle"
          ],
          [
           "not circle"
          ],
          [
           "not circle"
          ],
          [
           "not circle"
          ],
          [
           "not circle"
          ]
         ],
         "hovertemplate": "concept=%{customdata[0]}<br>set=%{x}<br>coverage_manual_code=%{y}<extra></extra>",
         "legendgroup": "not circle",
         "line": {
          "color": "#FF6692",
          "dash": "solid"
         },
         "marker": {
          "symbol": "circle"
         },
         "mode": "lines",
         "name": "not circle",
         "orientation": "v",
         "showlegend": true,
         "type": "scatter",
         "x": [
          1,
          2,
          3,
          4,
          5,
          6,
          7,
          8,
          9,
          10,
          11,
          12,
          13,
          14,
          15,
          16,
          17,
          18,
          19,
          20,
          21,
          22,
          23,
          24,
          25
         ],
         "xaxis": "x",
         "y": [
          0.4431818181818182,
          0.8409090909090909,
          0.6704545454545454,
          1,
          1,
          1,
          1,
          1,
          1,
          1,
          1,
          1,
          1,
          1,
          1,
          1,
          0.8863636363636364,
          1,
          1,
          1,
          1,
          1,
          0.8863636363636364,
          1,
          1
         ],
         "yaxis": "y"
        },
        {
         "customdata": [
          [
           "circle or (blue and triangle)"
          ],
          [
           "circle or (blue and triangle)"
          ],
          [
           "circle or (blue and triangle)"
          ],
          [
           "circle or (blue and triangle)"
          ],
          [
           "circle or (blue and triangle)"
          ],
          [
           "circle or (blue and triangle)"
          ],
          [
           "circle or (blue and triangle)"
          ],
          [
           "circle or (blue and triangle)"
          ],
          [
           "circle or (blue and triangle)"
          ],
          [
           "circle or (blue and triangle)"
          ],
          [
           "circle or (blue and triangle)"
          ],
          [
           "circle or (blue and triangle)"
          ],
          [
           "circle or (blue and triangle)"
          ],
          [
           "circle or (blue and triangle)"
          ],
          [
           "circle or (blue and triangle)"
          ],
          [
           "circle or (blue and triangle)"
          ],
          [
           "circle or (blue and triangle)"
          ],
          [
           "circle or (blue and triangle)"
          ],
          [
           "circle or (blue and triangle)"
          ],
          [
           "circle or (blue and triangle)"
          ],
          [
           "circle or (blue and triangle)"
          ],
          [
           "circle or (blue and triangle)"
          ],
          [
           "circle or (blue and triangle)"
          ],
          [
           "circle or (blue and triangle)"
          ],
          [
           "circle or (blue and triangle)"
          ]
         ],
         "hovertemplate": "concept=%{customdata[0]}<br>set=%{x}<br>coverage_manual_code=%{y}<extra></extra>",
         "legendgroup": "circle or (blue and triangle)",
         "line": {
          "color": "#B6E880",
          "dash": "solid"
         },
         "marker": {
          "symbol": "circle"
         },
         "mode": "lines",
         "name": "circle or (blue and triangle)",
         "orientation": "v",
         "showlegend": true,
         "type": "scatter",
         "x": [
          1,
          2,
          3,
          4,
          5,
          6,
          7,
          8,
          9,
          10,
          11,
          12,
          13,
          14,
          15,
          16,
          17,
          18,
          19,
          20,
          21,
          22,
          23,
          24,
          25
         ],
         "xaxis": "x",
         "y": [
          0.5223880597014925,
          0.5522388059701493,
          0.6865671641791045,
          0.6865671641791045,
          0.8059701492537313,
          0.6865671641791045,
          0.5970149253731343,
          0.7611940298507462,
          0.9253731343283582,
          0.7611940298507462,
          1,
          0.8805970149253731,
          0.8208955223880597,
          0.8656716417910447,
          0.7611940298507462,
          0.8208955223880597,
          0.9104477611940298,
          0.9552238805970148,
          0.8805970149253731,
          0.9552238805970148,
          0.7611940298507462,
          1,
          0.8208955223880597,
          0.7611940298507462,
          0.9253731343283582
         ],
         "yaxis": "y"
        },
        {
         "customdata": [
          [
           "blue or small"
          ],
          [
           "blue or small"
          ],
          [
           "blue or small"
          ],
          [
           "blue or small"
          ],
          [
           "blue or small"
          ],
          [
           "blue or small"
          ],
          [
           "blue or small"
          ],
          [
           "blue or small"
          ],
          [
           "blue or small"
          ],
          [
           "blue or small"
          ],
          [
           "blue or small"
          ],
          [
           "blue or small"
          ],
          [
           "blue or small"
          ],
          [
           "blue or small"
          ],
          [
           "blue or small"
          ],
          [
           "blue or small"
          ],
          [
           "blue or small"
          ],
          [
           "blue or small"
          ],
          [
           "blue or small"
          ],
          [
           "blue or small"
          ],
          [
           "blue or small"
          ],
          [
           "blue or small"
          ],
          [
           "blue or small"
          ],
          [
           "blue or small"
          ],
          [
           "blue or small"
          ]
         ],
         "hovertemplate": "concept=%{customdata[0]}<br>set=%{x}<br>coverage_manual_code=%{y}<extra></extra>",
         "legendgroup": "blue or small",
         "line": {
          "color": "#FF97FF",
          "dash": "solid"
         },
         "marker": {
          "symbol": "circle"
         },
         "mode": "lines",
         "name": "blue or small",
         "orientation": "v",
         "showlegend": true,
         "type": "scatter",
         "x": [
          1,
          2,
          3,
          4,
          5,
          6,
          7,
          8,
          9,
          10,
          11,
          12,
          13,
          14,
          15,
          16,
          17,
          18,
          19,
          20,
          21,
          22,
          23,
          24,
          25
         ],
         "xaxis": "x",
         "y": [
          0.463768115942029,
          0.7536231884057971,
          0.6956521739130435,
          0.7101449275362319,
          0.6956521739130435,
          0.7101449275362319,
          0.7971014492753623,
          0.6956521739130435,
          0.6956521739130435,
          0.7971014492753623,
          0.6956521739130435,
          0.7536231884057971,
          0.6811594202898551,
          1,
          0.6811594202898551,
          0.6956521739130435,
          0.7681159420289855,
          0.7971014492753623,
          0.7971014492753623,
          1,
          1,
          0.7971014492753623,
          0.7971014492753623,
          0.7971014492753623,
          0.6956521739130435
         ],
         "yaxis": "y"
        },
        {
         "customdata": [
          [
           "circle or blue"
          ],
          [
           "circle or blue"
          ],
          [
           "circle or blue"
          ],
          [
           "circle or blue"
          ],
          [
           "circle or blue"
          ],
          [
           "circle or blue"
          ],
          [
           "circle or blue"
          ],
          [
           "circle or blue"
          ],
          [
           "circle or blue"
          ],
          [
           "circle or blue"
          ],
          [
           "circle or blue"
          ],
          [
           "circle or blue"
          ],
          [
           "circle or blue"
          ],
          [
           "circle or blue"
          ],
          [
           "circle or blue"
          ],
          [
           "circle or blue"
          ],
          [
           "circle or blue"
          ],
          [
           "circle or blue"
          ],
          [
           "circle or blue"
          ],
          [
           "circle or blue"
          ],
          [
           "circle or blue"
          ],
          [
           "circle or blue"
          ],
          [
           "circle or blue"
          ],
          [
           "circle or blue"
          ],
          [
           "circle or blue"
          ]
         ],
         "hovertemplate": "concept=%{customdata[0]}<br>set=%{x}<br>coverage_manual_code=%{y}<extra></extra>",
         "legendgroup": "circle or blue",
         "line": {
          "color": "#FECB52",
          "dash": "solid"
         },
         "marker": {
          "symbol": "circle"
         },
         "mode": "lines",
         "name": "circle or blue",
         "orientation": "v",
         "showlegend": true,
         "type": "scatter",
         "x": [
          1,
          2,
          3,
          4,
          5,
          6,
          7,
          8,
          9,
          10,
          11,
          12,
          13,
          14,
          15,
          16,
          17,
          18,
          19,
          20,
          21,
          22,
          23,
          24,
          25
         ],
         "xaxis": "x",
         "y": [
          0.5897435897435898,
          0.8589743589743589,
          0.7435897435897436,
          0.5512820512820513,
          0.782051282051282,
          0.9230769230769232,
          0.782051282051282,
          0.935897435897436,
          0.9102564102564102,
          1,
          0.8461538461538461,
          0.7435897435897436,
          0.8461538461538461,
          1,
          1,
          1,
          0.8076923076923077,
          1,
          1,
          1,
          0.8076923076923077,
          1,
          0.7435897435897436,
          1,
          1
         ],
         "yaxis": "y"
        },
        {
         "customdata": [
          [
           "small and blue"
          ],
          [
           "small and blue"
          ],
          [
           "small and blue"
          ],
          [
           "small and blue"
          ],
          [
           "small and blue"
          ],
          [
           "small and blue"
          ],
          [
           "small and blue"
          ],
          [
           "small and blue"
          ],
          [
           "small and blue"
          ],
          [
           "small and blue"
          ],
          [
           "small and blue"
          ],
          [
           "small and blue"
          ],
          [
           "small and blue"
          ],
          [
           "small and blue"
          ],
          [
           "small and blue"
          ],
          [
           "small and blue"
          ],
          [
           "small and blue"
          ],
          [
           "small and blue"
          ],
          [
           "small and blue"
          ],
          [
           "small and blue"
          ],
          [
           "small and blue"
          ],
          [
           "small and blue"
          ],
          [
           "small and blue"
          ],
          [
           "small and blue"
          ],
          [
           "small and blue"
          ]
         ],
         "hovertemplate": "concept=%{customdata[0]}<br>set=%{x}<br>coverage_manual_code=%{y}<extra></extra>",
         "legendgroup": "small and blue",
         "line": {
          "color": "#636efa",
          "dash": "solid"
         },
         "marker": {
          "symbol": "circle"
         },
         "mode": "lines",
         "name": "small and blue",
         "orientation": "v",
         "showlegend": true,
         "type": "scatter",
         "x": [
          1,
          2,
          3,
          4,
          5,
          6,
          7,
          8,
          9,
          10,
          11,
          12,
          13,
          14,
          15,
          16,
          17,
          18,
          19,
          20,
          21,
          22,
          23,
          24,
          25
         ],
         "xaxis": "x",
         "y": [
          0.75,
          0.881578947368421,
          0.8947368421052632,
          1,
          1,
          1,
          1,
          1,
          1,
          1,
          1,
          1,
          1,
          1,
          1,
          0.986842105263158,
          1,
          0.986842105263158,
          1,
          1,
          1,
          1,
          0.9473684210526316,
          0.986842105263158,
          1
         ],
         "yaxis": "y"
        },
        {
         "customdata": [
          [
           "circle and not blue"
          ],
          [
           "circle and not blue"
          ],
          [
           "circle and not blue"
          ],
          [
           "circle and not blue"
          ],
          [
           "circle and not blue"
          ],
          [
           "circle and not blue"
          ],
          [
           "circle and not blue"
          ],
          [
           "circle and not blue"
          ],
          [
           "circle and not blue"
          ],
          [
           "circle and not blue"
          ],
          [
           "circle and not blue"
          ],
          [
           "circle and not blue"
          ],
          [
           "circle and not blue"
          ],
          [
           "circle and not blue"
          ],
          [
           "circle and not blue"
          ],
          [
           "circle and not blue"
          ],
          [
           "circle and not blue"
          ],
          [
           "circle and not blue"
          ],
          [
           "circle and not blue"
          ],
          [
           "circle and not blue"
          ],
          [
           "circle and not blue"
          ],
          [
           "circle and not blue"
          ],
          [
           "circle and not blue"
          ],
          [
           "circle and not blue"
          ],
          [
           "circle and not blue"
          ]
         ],
         "hovertemplate": "concept=%{customdata[0]}<br>set=%{x}<br>coverage_manual_code=%{y}<extra></extra>",
         "legendgroup": "circle and not blue",
         "line": {
          "color": "#EF553B",
          "dash": "solid"
         },
         "marker": {
          "symbol": "circle"
         },
         "mode": "lines",
         "name": "circle and not blue",
         "orientation": "v",
         "showlegend": true,
         "type": "scatter",
         "x": [
          1,
          2,
          3,
          4,
          5,
          6,
          7,
          8,
          9,
          10,
          11,
          12,
          13,
          14,
          15,
          16,
          17,
          18,
          19,
          20,
          21,
          22,
          23,
          24,
          25
         ],
         "xaxis": "x",
         "y": [
          0.726027397260274,
          0.8493150684931506,
          0.8493150684931506,
          0.863013698630137,
          0.8904109589041096,
          0.863013698630137,
          0.863013698630137,
          0.8904109589041096,
          0.9315068493150684,
          0.8493150684931506,
          0.9315068493150684,
          0.8904109589041096,
          0.8904109589041096,
          1,
          0.9315068493150684,
          0.9315068493150684,
          0.958904109589041,
          0.9315068493150684,
          0.9315068493150684,
          0.9315068493150684,
          0.8904109589041096,
          0.9315068493150684,
          0.9041095890410958,
          0.9178082191780822,
          1
         ],
         "yaxis": "y"
        },
        {
         "customdata": [
          [
           "medium or small"
          ],
          [
           "medium or small"
          ],
          [
           "medium or small"
          ],
          [
           "medium or small"
          ],
          [
           "medium or small"
          ],
          [
           "medium or small"
          ],
          [
           "medium or small"
          ],
          [
           "medium or small"
          ],
          [
           "medium or small"
          ],
          [
           "medium or small"
          ],
          [
           "medium or small"
          ],
          [
           "medium or small"
          ],
          [
           "medium or small"
          ],
          [
           "medium or small"
          ],
          [
           "medium or small"
          ],
          [
           "medium or small"
          ],
          [
           "medium or small"
          ],
          [
           "medium or small"
          ],
          [
           "medium or small"
          ],
          [
           "medium or small"
          ],
          [
           "medium or small"
          ],
          [
           "medium or small"
          ],
          [
           "medium or small"
          ],
          [
           "medium or small"
          ],
          [
           "medium or small"
          ]
         ],
         "hovertemplate": "concept=%{customdata[0]}<br>set=%{x}<br>coverage_manual_code=%{y}<extra></extra>",
         "legendgroup": "medium or small",
         "line": {
          "color": "#00cc96",
          "dash": "solid"
         },
         "marker": {
          "symbol": "circle"
         },
         "mode": "lines",
         "name": "medium or small",
         "orientation": "v",
         "showlegend": true,
         "type": "scatter",
         "x": [
          1,
          2,
          3,
          4,
          5,
          6,
          7,
          8,
          9,
          10,
          11,
          12,
          13,
          14,
          15,
          16,
          17,
          18,
          19,
          20,
          21,
          22,
          23,
          24,
          25
         ],
         "xaxis": "x",
         "y": [
          0.3488372093023256,
          0.3953488372093023,
          0.3953488372093023,
          0.7906976744186046,
          0.5697674418604651,
          0.8953488372093024,
          0.7790697674418605,
          0.5697674418604651,
          1,
          0.7790697674418605,
          1,
          1,
          1,
          1,
          1,
          1,
          0.8023255813953488,
          1,
          1,
          0.7906976744186046,
          1,
          1,
          1,
          1,
          1
         ],
         "yaxis": "y"
        },
        {
         "customdata": [
          [
           "circle or triangle"
          ],
          [
           "circle or triangle"
          ],
          [
           "circle or triangle"
          ],
          [
           "circle or triangle"
          ],
          [
           "circle or triangle"
          ],
          [
           "circle or triangle"
          ],
          [
           "circle or triangle"
          ],
          [
           "circle or triangle"
          ],
          [
           "circle or triangle"
          ],
          [
           "circle or triangle"
          ],
          [
           "circle or triangle"
          ],
          [
           "circle or triangle"
          ],
          [
           "circle or triangle"
          ],
          [
           "circle or triangle"
          ],
          [
           "circle or triangle"
          ],
          [
           "circle or triangle"
          ],
          [
           "circle or triangle"
          ],
          [
           "circle or triangle"
          ],
          [
           "circle or triangle"
          ],
          [
           "circle or triangle"
          ],
          [
           "circle or triangle"
          ],
          [
           "circle or triangle"
          ],
          [
           "circle or triangle"
          ],
          [
           "circle or triangle"
          ],
          [
           "circle or triangle"
          ]
         ],
         "hovertemplate": "concept=%{customdata[0]}<br>set=%{x}<br>coverage_manual_code=%{y}<extra></extra>",
         "legendgroup": "circle or triangle",
         "line": {
          "color": "#ab63fa",
          "dash": "solid"
         },
         "marker": {
          "symbol": "circle"
         },
         "mode": "lines",
         "name": "circle or triangle",
         "orientation": "v",
         "showlegend": true,
         "type": "scatter",
         "x": [
          1,
          2,
          3,
          4,
          5,
          6,
          7,
          8,
          9,
          10,
          11,
          12,
          13,
          14,
          15,
          16,
          17,
          18,
          19,
          20,
          21,
          22,
          23,
          24,
          25
         ],
         "xaxis": "x",
         "y": [
          0.3076923076923077,
          0.7051282051282052,
          1,
          0.935897435897436,
          1,
          1,
          1,
          1,
          1,
          1,
          1,
          0.8717948717948718,
          1,
          0.9615384615384616,
          1,
          0.8717948717948718,
          0.8717948717948718,
          1,
          0.7307692307692307,
          1,
          0.7307692307692307,
          0.8205128205128205,
          1,
          1,
          1
         ],
         "yaxis": "y"
        },
        {
         "customdata": [
          [
           "blue or green"
          ],
          [
           "blue or green"
          ],
          [
           "blue or green"
          ],
          [
           "blue or green"
          ],
          [
           "blue or green"
          ],
          [
           "blue or green"
          ],
          [
           "blue or green"
          ],
          [
           "blue or green"
          ],
          [
           "blue or green"
          ],
          [
           "blue or green"
          ],
          [
           "blue or green"
          ],
          [
           "blue or green"
          ],
          [
           "blue or green"
          ],
          [
           "blue or green"
          ],
          [
           "blue or green"
          ],
          [
           "blue or green"
          ],
          [
           "blue or green"
          ],
          [
           "blue or green"
          ],
          [
           "blue or green"
          ],
          [
           "blue or green"
          ],
          [
           "blue or green"
          ],
          [
           "blue or green"
          ],
          [
           "blue or green"
          ],
          [
           "blue or green"
          ],
          [
           "blue or green"
          ]
         ],
         "hovertemplate": "concept=%{customdata[0]}<br>set=%{x}<br>coverage_manual_code=%{y}<extra></extra>",
         "legendgroup": "blue or green",
         "line": {
          "color": "#FFA15A",
          "dash": "solid"
         },
         "marker": {
          "symbol": "circle"
         },
         "mode": "lines",
         "name": "blue or green",
         "orientation": "v",
         "showlegend": true,
         "type": "scatter",
         "x": [
          1,
          2,
          3,
          4,
          5,
          6,
          7,
          8,
          9,
          10,
          11,
          12,
          13,
          14,
          15,
          16,
          17,
          18,
          19,
          20,
          21,
          22,
          23,
          24,
          25
         ],
         "xaxis": "x",
         "y": [
          0.4931506849315068,
          0.3287671232876712,
          0.6986301369863014,
          0.8356164383561644,
          0.5616438356164384,
          0.7397260273972602,
          0.8356164383561644,
          1,
          1,
          0.7808219178082192,
          0.821917808219178,
          1,
          1,
          0.7808219178082192,
          1,
          1,
          1,
          1,
          0.9041095890410958,
          0.821917808219178,
          1,
          0.9041095890410958,
          0.9452054794520548,
          1,
          0.9452054794520548
         ],
         "yaxis": "y"
        },
        {
         "customdata": [
          [
           "large or small"
          ],
          [
           "large or small"
          ],
          [
           "large or small"
          ],
          [
           "large or small"
          ],
          [
           "large or small"
          ],
          [
           "large or small"
          ],
          [
           "large or small"
          ],
          [
           "large or small"
          ],
          [
           "large or small"
          ],
          [
           "large or small"
          ],
          [
           "large or small"
          ],
          [
           "large or small"
          ],
          [
           "large or small"
          ],
          [
           "large or small"
          ],
          [
           "large or small"
          ],
          [
           "large or small"
          ],
          [
           "large or small"
          ],
          [
           "large or small"
          ],
          [
           "large or small"
          ],
          [
           "large or small"
          ],
          [
           "large or small"
          ],
          [
           "large or small"
          ],
          [
           "large or small"
          ],
          [
           "large or small"
          ],
          [
           "large or small"
          ]
         ],
         "hovertemplate": "concept=%{customdata[0]}<br>set=%{x}<br>coverage_manual_code=%{y}<extra></extra>",
         "legendgroup": "large or small",
         "line": {
          "color": "#19d3f3",
          "dash": "solid"
         },
         "marker": {
          "symbol": "circle"
         },
         "mode": "lines",
         "name": "large or small",
         "orientation": "v",
         "showlegend": true,
         "type": "scatter",
         "x": [
          1,
          2,
          3,
          4,
          5,
          6,
          7,
          8,
          9,
          10,
          11,
          12,
          13,
          14,
          15,
          16,
          17,
          18,
          19,
          20,
          21,
          22,
          23,
          24,
          25
         ],
         "xaxis": "x",
         "y": [
          0.2278481012658227,
          0.3291139240506329,
          0.5063291139240507,
          0.7468354430379747,
          0.7848101265822784,
          0.6708860759493671,
          0.7468354430379747,
          0.7341772151898734,
          0.6582278481012658,
          0.8860759493670886,
          0.7088607594936709,
          1,
          0.8227848101265823,
          0.6708860759493671,
          1,
          1,
          0.8227848101265823,
          0.2911392405063291,
          0.9240506329113924,
          0.8227848101265823,
          0.9113924050632912,
          0.7721518987341772,
          0.8227848101265823,
          0.7088607594936709,
          0.8481012658227848
         ],
         "yaxis": "y"
        },
        {
         "customdata": [
          [
           "small"
          ],
          [
           "small"
          ],
          [
           "small"
          ],
          [
           "small"
          ],
          [
           "small"
          ],
          [
           "small"
          ],
          [
           "small"
          ],
          [
           "small"
          ],
          [
           "small"
          ],
          [
           "small"
          ],
          [
           "small"
          ],
          [
           "small"
          ],
          [
           "small"
          ],
          [
           "small"
          ],
          [
           "small"
          ],
          [
           "small"
          ],
          [
           "small"
          ],
          [
           "small"
          ],
          [
           "small"
          ],
          [
           "small"
          ],
          [
           "small"
          ],
          [
           "small"
          ],
          [
           "small"
          ],
          [
           "small"
          ],
          [
           "small"
          ]
         ],
         "hovertemplate": "concept=%{customdata[0]}<br>set=%{x}<br>coverage_manual_code=%{y}<extra></extra>",
         "legendgroup": "small",
         "line": {
          "color": "#FF6692",
          "dash": "solid"
         },
         "marker": {
          "symbol": "circle"
         },
         "mode": "lines",
         "name": "small",
         "orientation": "v",
         "showlegend": true,
         "type": "scatter",
         "x": [
          1,
          2,
          3,
          4,
          5,
          6,
          7,
          8,
          9,
          10,
          11,
          12,
          13,
          14,
          15,
          16,
          17,
          18,
          19,
          20,
          21,
          22,
          23,
          24,
          25
         ],
         "xaxis": "x",
         "y": [
          0.5972222222222222,
          0.7638888888888888,
          0.7777777777777778,
          0.8472222222222222,
          0.7638888888888888,
          0.8472222222222222,
          0.8472222222222222,
          0.8472222222222222,
          0.8472222222222222,
          0.7638888888888888,
          0.8472222222222222,
          0.9027777777777778,
          0.8472222222222222,
          0.9027777777777778,
          0.875,
          0.875,
          0.8472222222222222,
          0.875,
          0.875,
          0.875,
          0.8472222222222222,
          0.8611111111111112,
          0.9583333333333334,
          1,
          1
         ],
         "yaxis": "y"
        },
        {
         "customdata": [
          [
           "circle and blue"
          ],
          [
           "circle and blue"
          ],
          [
           "circle and blue"
          ],
          [
           "circle and blue"
          ],
          [
           "circle and blue"
          ],
          [
           "circle and blue"
          ],
          [
           "circle and blue"
          ],
          [
           "circle and blue"
          ],
          [
           "circle and blue"
          ],
          [
           "circle and blue"
          ],
          [
           "circle and blue"
          ],
          [
           "circle and blue"
          ],
          [
           "circle and blue"
          ],
          [
           "circle and blue"
          ],
          [
           "circle and blue"
          ],
          [
           "circle and blue"
          ],
          [
           "circle and blue"
          ],
          [
           "circle and blue"
          ],
          [
           "circle and blue"
          ],
          [
           "circle and blue"
          ],
          [
           "circle and blue"
          ],
          [
           "circle and blue"
          ],
          [
           "circle and blue"
          ],
          [
           "circle and blue"
          ],
          [
           "circle and blue"
          ]
         ],
         "hovertemplate": "concept=%{customdata[0]}<br>set=%{x}<br>coverage_manual_code=%{y}<extra></extra>",
         "legendgroup": "circle and blue",
         "line": {
          "color": "#B6E880",
          "dash": "solid"
         },
         "marker": {
          "symbol": "circle"
         },
         "mode": "lines",
         "name": "circle and blue",
         "orientation": "v",
         "showlegend": true,
         "type": "scatter",
         "x": [
          1,
          2,
          3,
          4,
          5,
          6,
          7,
          8,
          9,
          10,
          11,
          12,
          13,
          14,
          15,
          16,
          17,
          18,
          19,
          20,
          21,
          22,
          23,
          24,
          25
         ],
         "xaxis": "x",
         "y": [
          0.9102564102564102,
          0.9102564102564102,
          0.9102564102564102,
          0.9230769230769232,
          0.9230769230769232,
          0.9230769230769232,
          0.9230769230769232,
          0.9230769230769232,
          0.8461538461538461,
          1,
          1,
          1,
          1,
          1,
          1,
          1,
          1,
          1,
          1,
          1,
          1,
          1,
          0.9615384615384616,
          1,
          0.8461538461538461
         ],
         "yaxis": "y"
        },
        {
         "customdata": [
          [
           "medium"
          ],
          [
           "medium"
          ],
          [
           "medium"
          ],
          [
           "medium"
          ],
          [
           "medium"
          ],
          [
           "medium"
          ],
          [
           "medium"
          ],
          [
           "medium"
          ],
          [
           "medium"
          ],
          [
           "medium"
          ],
          [
           "medium"
          ],
          [
           "medium"
          ],
          [
           "medium"
          ],
          [
           "medium"
          ],
          [
           "medium"
          ],
          [
           "medium"
          ],
          [
           "medium"
          ],
          [
           "medium"
          ],
          [
           "medium"
          ],
          [
           "medium"
          ],
          [
           "medium"
          ],
          [
           "medium"
          ],
          [
           "medium"
          ],
          [
           "medium"
          ],
          [
           "medium"
          ]
         ],
         "hovertemplate": "concept=%{customdata[0]}<br>set=%{x}<br>coverage_manual_code=%{y}<extra></extra>",
         "legendgroup": "medium",
         "line": {
          "color": "#FF97FF",
          "dash": "solid"
         },
         "marker": {
          "symbol": "circle"
         },
         "mode": "lines",
         "name": "medium",
         "orientation": "v",
         "showlegend": true,
         "type": "scatter",
         "x": [
          1,
          2,
          3,
          4,
          5,
          6,
          7,
          8,
          9,
          10,
          11,
          12,
          13,
          14,
          15,
          16,
          17,
          18,
          19,
          20,
          21,
          22,
          23,
          24,
          25
         ],
         "xaxis": "x",
         "y": [
          0.6527777777777778,
          0.5972222222222222,
          0.6805555555555556,
          0.5972222222222222,
          0.7638888888888888,
          0.75,
          0.9027777777777778,
          0.9722222222222222,
          1,
          0.9305555555555556,
          0.9722222222222222,
          1,
          0.9444444444444444,
          1,
          0.8333333333333334,
          0.375,
          0.9722222222222222,
          0.8611111111111112,
          1,
          0.9722222222222222,
          1,
          1,
          0.9722222222222222,
          0.9305555555555556,
          0.9722222222222222
         ],
         "yaxis": "y"
        },
        {
         "customdata": [
          [
           "large"
          ],
          [
           "large"
          ],
          [
           "large"
          ],
          [
           "large"
          ],
          [
           "large"
          ],
          [
           "large"
          ],
          [
           "large"
          ],
          [
           "large"
          ],
          [
           "large"
          ],
          [
           "large"
          ],
          [
           "large"
          ],
          [
           "large"
          ],
          [
           "large"
          ],
          [
           "large"
          ],
          [
           "large"
          ],
          [
           "large"
          ],
          [
           "large"
          ],
          [
           "large"
          ],
          [
           "large"
          ],
          [
           "large"
          ],
          [
           "large"
          ],
          [
           "large"
          ],
          [
           "large"
          ],
          [
           "large"
          ],
          [
           "large"
          ]
         ],
         "hovertemplate": "concept=%{customdata[0]}<br>set=%{x}<br>coverage_manual_code=%{y}<extra></extra>",
         "legendgroup": "large",
         "line": {
          "color": "#FECB52",
          "dash": "solid"
         },
         "marker": {
          "symbol": "circle"
         },
         "mode": "lines",
         "name": "large",
         "orientation": "v",
         "showlegend": true,
         "type": "scatter",
         "x": [
          1,
          2,
          3,
          4,
          5,
          6,
          7,
          8,
          9,
          10,
          11,
          12,
          13,
          14,
          15,
          16,
          17,
          18,
          19,
          20,
          21,
          22,
          23,
          24,
          25
         ],
         "xaxis": "x",
         "y": [
          0.7142857142857143,
          0.5428571428571428,
          0.7142857142857143,
          0.8714285714285714,
          0.9142857142857144,
          0.8714285714285714,
          0.9571428571428572,
          0.8714285714285714,
          0.8857142857142857,
          1,
          0.7571428571428571,
          1,
          0.9714285714285714,
          1,
          1,
          0.8285714285714286,
          0.8285714285714286,
          0.6,
          1,
          1,
          0.8714285714285714,
          0.8714285714285714,
          1,
          0.8714285714285714,
          0.8285714285714286
         ],
         "yaxis": "y"
        },
        {
         "customdata": [
          [
           "circle and (not blue)"
          ],
          [
           "circle and (not blue)"
          ],
          [
           "circle and (not blue)"
          ],
          [
           "circle and (not blue)"
          ],
          [
           "circle and (not blue)"
          ],
          [
           "circle and (not blue)"
          ],
          [
           "circle and (not blue)"
          ],
          [
           "circle and (not blue)"
          ],
          [
           "circle and (not blue)"
          ],
          [
           "circle and (not blue)"
          ],
          [
           "circle and (not blue)"
          ],
          [
           "circle and (not blue)"
          ],
          [
           "circle and (not blue)"
          ],
          [
           "circle and (not blue)"
          ],
          [
           "circle and (not blue)"
          ],
          [
           "circle and (not blue)"
          ],
          [
           "circle and (not blue)"
          ],
          [
           "circle and (not blue)"
          ],
          [
           "circle and (not blue)"
          ],
          [
           "circle and (not blue)"
          ],
          [
           "circle and (not blue)"
          ],
          [
           "circle and (not blue)"
          ],
          [
           "circle and (not blue)"
          ],
          [
           "circle and (not blue)"
          ],
          [
           "circle and (not blue)"
          ]
         ],
         "hovertemplate": "concept=%{customdata[0]}<br>set=%{x}<br>coverage_manual_code=%{y}<extra></extra>",
         "legendgroup": "circle and (not blue)",
         "line": {
          "color": "#636efa",
          "dash": "solid"
         },
         "marker": {
          "symbol": "circle"
         },
         "mode": "lines",
         "name": "circle and (not blue)",
         "orientation": "v",
         "showlegend": true,
         "type": "scatter",
         "x": [
          1,
          2,
          3,
          4,
          5,
          6,
          7,
          8,
          9,
          10,
          11,
          12,
          13,
          14,
          15,
          16,
          17,
          18,
          19,
          20,
          21,
          22,
          23,
          24,
          25
         ],
         "xaxis": "x",
         "y": [
          0.7123287671232876,
          0.7808219178082192,
          0.863013698630137,
          0.863013698630137,
          0.863013698630137,
          1,
          0.8904109589041096,
          1,
          0.9726027397260274,
          1,
          1,
          0.8904109589041096,
          1,
          0.9041095890410958,
          0.9041095890410958,
          0.821917808219178,
          1,
          0.863013698630137,
          1,
          0.8904109589041096,
          1,
          1,
          0.9041095890410958,
          0.9041095890410958,
          1
         ],
         "yaxis": "y"
        },
        {
         "customdata": [
          [
           "circle xor (not blue)"
          ],
          [
           "circle xor (not blue)"
          ],
          [
           "circle xor (not blue)"
          ],
          [
           "circle xor (not blue)"
          ],
          [
           "circle xor (not blue)"
          ],
          [
           "circle xor (not blue)"
          ],
          [
           "circle xor (not blue)"
          ],
          [
           "circle xor (not blue)"
          ],
          [
           "circle xor (not blue)"
          ],
          [
           "circle xor (not blue)"
          ],
          [
           "circle xor (not blue)"
          ],
          [
           "circle xor (not blue)"
          ],
          [
           "circle xor (not blue)"
          ],
          [
           "circle xor (not blue)"
          ],
          [
           "circle xor (not blue)"
          ],
          [
           "circle xor (not blue)"
          ],
          [
           "circle xor (not blue)"
          ],
          [
           "circle xor (not blue)"
          ],
          [
           "circle xor (not blue)"
          ],
          [
           "circle xor (not blue)"
          ],
          [
           "circle xor (not blue)"
          ],
          [
           "circle xor (not blue)"
          ],
          [
           "circle xor (not blue)"
          ],
          [
           "circle xor (not blue)"
          ]
         ],
         "hovertemplate": "concept=%{customdata[0]}<br>set=%{x}<br>coverage_manual_code=%{y}<extra></extra>",
         "legendgroup": "circle xor (not blue)",
         "line": {
          "color": "#EF553B",
          "dash": "solid"
         },
         "marker": {
          "symbol": "circle"
         },
         "mode": "lines",
         "name": "circle xor (not blue)",
         "orientation": "v",
         "showlegend": true,
         "type": "scatter",
         "x": [
          1,
          2,
          3,
          5,
          6,
          7,
          8,
          9,
          10,
          11,
          12,
          13,
          14,
          15,
          16,
          17,
          18,
          19,
          20,
          21,
          22,
          23,
          24,
          25
         ],
         "xaxis": "x",
         "y": [
          0.5384615384615384,
          0.5384615384615384,
          0.5384615384615384,
          0.6307692307692307,
          0.6923076923076923,
          0.7692307692307693,
          0.7230769230769231,
          0.8461538461538461,
          0.8153846153846154,
          0.8,
          0.8461538461538461,
          0.8769230769230769,
          0.7538461538461538,
          0.6923076923076923,
          1,
          0.9076923076923076,
          0.8,
          1,
          0.9230769230769232,
          0.8461538461538461,
          0.5692307692307692,
          0.5384615384615384,
          0.8,
          0.7384615384615385
         ],
         "yaxis": "y"
        },
        {
         "customdata": [
          [
           "not (circle and blue)"
          ],
          [
           "not (circle and blue)"
          ],
          [
           "not (circle and blue)"
          ],
          [
           "not (circle and blue)"
          ],
          [
           "not (circle and blue)"
          ],
          [
           "not (circle and blue)"
          ],
          [
           "not (circle and blue)"
          ],
          [
           "not (circle and blue)"
          ],
          [
           "not (circle and blue)"
          ],
          [
           "not (circle and blue)"
          ],
          [
           "not (circle and blue)"
          ],
          [
           "not (circle and blue)"
          ],
          [
           "not (circle and blue)"
          ],
          [
           "not (circle and blue)"
          ],
          [
           "not (circle and blue)"
          ],
          [
           "not (circle and blue)"
          ],
          [
           "not (circle and blue)"
          ],
          [
           "not (circle and blue)"
          ],
          [
           "not (circle and blue)"
          ],
          [
           "not (circle and blue)"
          ],
          [
           "not (circle and blue)"
          ],
          [
           "not (circle and blue)"
          ],
          [
           "not (circle and blue)"
          ],
          [
           "not (circle and blue)"
          ],
          [
           "not (circle and blue)"
          ]
         ],
         "hovertemplate": "concept=%{customdata[0]}<br>set=%{x}<br>coverage_manual_code=%{y}<extra></extra>",
         "legendgroup": "not (circle and blue)",
         "line": {
          "color": "#00cc96",
          "dash": "solid"
         },
         "marker": {
          "symbol": "circle"
         },
         "mode": "lines",
         "name": "not (circle and blue)",
         "orientation": "v",
         "showlegend": true,
         "type": "scatter",
         "x": [
          1,
          2,
          3,
          4,
          5,
          6,
          7,
          8,
          9,
          10,
          11,
          12,
          13,
          14,
          15,
          16,
          17,
          18,
          19,
          20,
          21,
          22,
          23,
          24,
          25
         ],
         "xaxis": "x",
         "y": [
          0.1447368421052631,
          0.4736842105263157,
          0.5657894736842105,
          0.6578947368421053,
          0.6052631578947368,
          0.8157894736842105,
          0.8157894736842105,
          0.8157894736842105,
          0.8157894736842105,
          0.8157894736842105,
          0.8552631578947368,
          0.9473684210526316,
          0.8157894736842105,
          0.9473684210526316,
          1,
          0.8157894736842105,
          0.8157894736842105,
          0.9473684210526316,
          0.8157894736842105,
          1,
          0.986842105263158,
          1,
          0.9473684210526316,
          1,
          0.8947368421052632
         ],
         "yaxis": "y"
        },
        {
         "customdata": [
          [
           "not (circle xor blue)"
          ],
          [
           "not (circle xor blue)"
          ],
          [
           "not (circle xor blue)"
          ],
          [
           "not (circle xor blue)"
          ],
          [
           "not (circle xor blue)"
          ],
          [
           "not (circle xor blue)"
          ],
          [
           "not (circle xor blue)"
          ],
          [
           "not (circle xor blue)"
          ],
          [
           "not (circle xor blue)"
          ],
          [
           "not (circle xor blue)"
          ],
          [
           "not (circle xor blue)"
          ],
          [
           "not (circle xor blue)"
          ],
          [
           "not (circle xor blue)"
          ],
          [
           "not (circle xor blue)"
          ],
          [
           "not (circle xor blue)"
          ],
          [
           "not (circle xor blue)"
          ],
          [
           "not (circle xor blue)"
          ],
          [
           "not (circle xor blue)"
          ],
          [
           "not (circle xor blue)"
          ],
          [
           "not (circle xor blue)"
          ],
          [
           "not (circle xor blue)"
          ],
          [
           "not (circle xor blue)"
          ],
          [
           "not (circle xor blue)"
          ],
          [
           "not (circle xor blue)"
          ],
          [
           "not (circle xor blue)"
          ]
         ],
         "hovertemplate": "concept=%{customdata[0]}<br>set=%{x}<br>coverage_manual_code=%{y}<extra></extra>",
         "legendgroup": "not (circle xor blue)",
         "line": {
          "color": "#ab63fa",
          "dash": "solid"
         },
         "marker": {
          "symbol": "circle"
         },
         "mode": "lines",
         "name": "not (circle xor blue)",
         "orientation": "v",
         "showlegend": true,
         "type": "scatter",
         "x": [
          1,
          2,
          3,
          4,
          5,
          6,
          7,
          8,
          9,
          10,
          11,
          12,
          13,
          14,
          15,
          16,
          17,
          18,
          19,
          20,
          21,
          22,
          23,
          24,
          25
         ],
         "xaxis": "x",
         "y": [
          0.5584415584415584,
          0.5714285714285714,
          0.6623376623376623,
          0.5844155844155844,
          0.7012987012987013,
          0.7402597402597403,
          0.8311688311688312,
          0.7402597402597403,
          0.8311688311688312,
          0.7012987012987013,
          0.4805194805194805,
          0.7012987012987013,
          0.4805194805194805,
          0.8311688311688312,
          0.7402597402597403,
          0.8051948051948052,
          0.7012987012987013,
          0.5194805194805194,
          0.7142857142857143,
          0.6233766233766234,
          0.4805194805194805,
          0.974025974025974,
          0.6103896103896104,
          0.9090909090909092,
          0.5324675324675324
         ],
         "yaxis": "y"
        },
        {
         "customdata": [
          [
           "circle xor blue"
          ],
          [
           "circle xor blue"
          ],
          [
           "circle xor blue"
          ],
          [
           "circle xor blue"
          ],
          [
           "circle xor blue"
          ],
          [
           "circle xor blue"
          ],
          [
           "circle xor blue"
          ],
          [
           "circle xor blue"
          ],
          [
           "circle xor blue"
          ],
          [
           "circle xor blue"
          ],
          [
           "circle xor blue"
          ],
          [
           "circle xor blue"
          ],
          [
           "circle xor blue"
          ],
          [
           "circle xor blue"
          ],
          [
           "circle xor blue"
          ],
          [
           "circle xor blue"
          ],
          [
           "circle xor blue"
          ],
          [
           "circle xor blue"
          ],
          [
           "circle xor blue"
          ],
          [
           "circle xor blue"
          ],
          [
           "circle xor blue"
          ],
          [
           "circle xor blue"
          ],
          [
           "circle xor blue"
          ],
          [
           "circle xor blue"
          ],
          [
           "circle xor blue"
          ]
         ],
         "hovertemplate": "concept=%{customdata[0]}<br>set=%{x}<br>coverage_manual_code=%{y}<extra></extra>",
         "legendgroup": "circle xor blue",
         "line": {
          "color": "#FFA15A",
          "dash": "solid"
         },
         "marker": {
          "symbol": "circle"
         },
         "mode": "lines",
         "name": "circle xor blue",
         "orientation": "v",
         "showlegend": true,
         "type": "scatter",
         "x": [
          1,
          2,
          3,
          4,
          5,
          6,
          7,
          8,
          9,
          10,
          11,
          12,
          13,
          14,
          15,
          16,
          17,
          18,
          19,
          20,
          21,
          22,
          23,
          24,
          25
         ],
         "xaxis": "x",
         "y": [
          0.7285714285714285,
          0.5857142857142857,
          0.5857142857142857,
          0.6714285714285714,
          0.6428571428571429,
          0.8714285714285714,
          0.7571428571428571,
          0.7571428571428571,
          0.8142857142857143,
          0.7285714285714285,
          0.7714285714285715,
          0.7142857142857143,
          0.6428571428571429,
          0.8,
          0.8285714285714286,
          0.7,
          0.8714285714285714,
          0.9142857142857144,
          0.8571428571428571,
          0.9571428571428572,
          0.8428571428571429,
          0.3,
          0.9428571428571428,
          0.9571428571428572,
          0.7142857142857143
         ],
         "yaxis": "y"
        },
        {
         "customdata": [
          [
           "not (circle or blue)"
          ],
          [
           "not (circle or blue)"
          ],
          [
           "not (circle or blue)"
          ],
          [
           "not (circle or blue)"
          ],
          [
           "not (circle or blue)"
          ],
          [
           "not (circle or blue)"
          ],
          [
           "not (circle or blue)"
          ],
          [
           "not (circle or blue)"
          ],
          [
           "not (circle or blue)"
          ],
          [
           "not (circle or blue)"
          ],
          [
           "not (circle or blue)"
          ],
          [
           "not (circle or blue)"
          ],
          [
           "not (circle or blue)"
          ],
          [
           "not (circle or blue)"
          ],
          [
           "not (circle or blue)"
          ],
          [
           "not (circle or blue)"
          ],
          [
           "not (circle or blue)"
          ],
          [
           "not (circle or blue)"
          ],
          [
           "not (circle or blue)"
          ],
          [
           "not (circle or blue)"
          ],
          [
           "not (circle or blue)"
          ],
          [
           "not (circle or blue)"
          ],
          [
           "not (circle or blue)"
          ],
          [
           "not (circle or blue)"
          ],
          [
           "not (circle or blue)"
          ]
         ],
         "hovertemplate": "concept=%{customdata[0]}<br>set=%{x}<br>coverage_manual_code=%{y}<extra></extra>",
         "legendgroup": "not (circle or blue)",
         "line": {
          "color": "#19d3f3",
          "dash": "solid"
         },
         "marker": {
          "symbol": "circle"
         },
         "mode": "lines",
         "name": "not (circle or blue)",
         "orientation": "v",
         "showlegend": true,
         "type": "scatter",
         "x": [
          1,
          2,
          3,
          4,
          5,
          6,
          7,
          8,
          9,
          10,
          11,
          12,
          13,
          14,
          15,
          16,
          17,
          18,
          19,
          20,
          21,
          22,
          23,
          24,
          25
         ],
         "xaxis": "x",
         "y": [
          0.4,
          0.4823529411764706,
          0.6705882352941176,
          0.788235294117647,
          0.6705882352941176,
          0.7647058823529411,
          0.6941176470588235,
          1,
          1,
          0.8470588235294118,
          0.8470588235294118,
          0.7647058823529411,
          1,
          0.8470588235294118,
          0.8470588235294118,
          1,
          0.8117647058823529,
          0.976470588235294,
          0.976470588235294,
          1,
          1,
          0.788235294117647,
          0.8470588235294118,
          1,
          0.9294117647058824
         ],
         "yaxis": "y"
        },
        {
         "customdata": [
          [
           "blue"
          ],
          [
           "blue"
          ],
          [
           "blue"
          ],
          [
           "blue"
          ],
          [
           "blue"
          ],
          [
           "blue"
          ],
          [
           "blue"
          ],
          [
           "blue"
          ],
          [
           "blue"
          ],
          [
           "blue"
          ],
          [
           "blue"
          ],
          [
           "blue"
          ],
          [
           "blue"
          ],
          [
           "blue"
          ],
          [
           "blue"
          ],
          [
           "blue"
          ],
          [
           "blue"
          ],
          [
           "blue"
          ],
          [
           "blue"
          ],
          [
           "blue"
          ],
          [
           "blue"
          ],
          [
           "blue"
          ],
          [
           "blue"
          ],
          [
           "blue"
          ],
          [
           "blue"
          ]
         ],
         "hovertemplate": "concept=%{customdata[0]}<br>set=%{x}<br>coverage_manual_code=%{y}<extra></extra>",
         "legendgroup": "blue",
         "line": {
          "color": "#FF6692",
          "dash": "solid"
         },
         "marker": {
          "symbol": "circle"
         },
         "mode": "lines",
         "name": "blue",
         "orientation": "v",
         "showlegend": true,
         "type": "scatter",
         "x": [
          1,
          2,
          3,
          4,
          5,
          6,
          7,
          8,
          9,
          10,
          11,
          12,
          13,
          14,
          15,
          16,
          17,
          18,
          19,
          20,
          21,
          22,
          23,
          24,
          25
         ],
         "xaxis": "x",
         "y": [
          0.5487804878048781,
          0.8048780487804879,
          0.8048780487804879,
          0.8048780487804879,
          0.9146341463414634,
          0.9146341463414634,
          0.8048780487804879,
          0.9146341463414634,
          0.8902439024390244,
          0.8048780487804879,
          0.8902439024390244,
          0.8048780487804879,
          0.8902439024390244,
          0.8902439024390244,
          0.8902439024390244,
          0.975609756097561,
          1,
          1,
          0.9146341463414634,
          0.9390243902439024,
          0.9146341463414634,
          1,
          0.9146341463414634,
          1,
          1
         ],
         "yaxis": "y"
        },
        {
         "customdata": [
          [
           "blue implies size 1"
          ],
          [
           "blue implies size 1"
          ],
          [
           "blue implies size 1"
          ],
          [
           "blue implies size 1"
          ],
          [
           "blue implies size 1"
          ],
          [
           "blue implies size 1"
          ],
          [
           "blue implies size 1"
          ],
          [
           "blue implies size 1"
          ],
          [
           "blue implies size 1"
          ],
          [
           "blue implies size 1"
          ],
          [
           "blue implies size 1"
          ],
          [
           "blue implies size 1"
          ],
          [
           "blue implies size 1"
          ],
          [
           "blue implies size 1"
          ],
          [
           "blue implies size 1"
          ],
          [
           "blue implies size 1"
          ],
          [
           "blue implies size 1"
          ],
          [
           "blue implies size 1"
          ],
          [
           "blue implies size 1"
          ],
          [
           "blue implies size 1"
          ],
          [
           "blue implies size 1"
          ],
          [
           "blue implies size 1"
          ],
          [
           "blue implies size 1"
          ],
          [
           "blue implies size 1"
          ],
          [
           "blue implies size 1"
          ]
         ],
         "hovertemplate": "concept=%{customdata[0]}<br>set=%{x}<br>coverage_manual_code=%{y}<extra></extra>",
         "legendgroup": "blue implies size 1",
         "line": {
          "color": "#B6E880",
          "dash": "solid"
         },
         "marker": {
          "symbol": "circle"
         },
         "mode": "lines",
         "name": "blue implies size 1",
         "orientation": "v",
         "showlegend": true,
         "type": "scatter",
         "x": [
          1,
          2,
          3,
          4,
          5,
          6,
          7,
          8,
          9,
          10,
          11,
          12,
          13,
          14,
          15,
          16,
          17,
          18,
          19,
          20,
          21,
          22,
          23,
          24,
          25
         ],
         "xaxis": "x",
         "y": [
          0.3230769230769231,
          0.7230769230769231,
          0.6153846153846154,
          0.6615384615384615,
          0.5538461538461539,
          0.676923076923077,
          0.8769230769230769,
          0.8153846153846154,
          0.8461538461538461,
          0.953846153846154,
          0.8769230769230769,
          0.8461538461538461,
          0.8461538461538461,
          0.9230769230769232,
          0.7384615384615385,
          0.8769230769230769,
          0.6153846153846154,
          0.8615384615384616,
          0.8461538461538461,
          0.8153846153846154,
          0.8461538461538461,
          0.4923076923076923,
          0.8461538461538461,
          0.8461538461538461,
          0.9076923076923076
         ],
         "yaxis": "y"
        },
        {
         "customdata": [
          [
           "circle or (triangle implies blue)"
          ],
          [
           "circle or (triangle implies blue)"
          ],
          [
           "circle or (triangle implies blue)"
          ],
          [
           "circle or (triangle implies blue)"
          ],
          [
           "circle or (triangle implies blue)"
          ],
          [
           "circle or (triangle implies blue)"
          ],
          [
           "circle or (triangle implies blue)"
          ],
          [
           "circle or (triangle implies blue)"
          ],
          [
           "circle or (triangle implies blue)"
          ],
          [
           "circle or (triangle implies blue)"
          ],
          [
           "circle or (triangle implies blue)"
          ],
          [
           "circle or (triangle implies blue)"
          ],
          [
           "circle or (triangle implies blue)"
          ],
          [
           "circle or (triangle implies blue)"
          ],
          [
           "circle or (triangle implies blue)"
          ],
          [
           "circle or (triangle implies blue)"
          ],
          [
           "circle or (triangle implies blue)"
          ],
          [
           "circle or (triangle implies blue)"
          ],
          [
           "circle or (triangle implies blue)"
          ],
          [
           "circle or (triangle implies blue)"
          ],
          [
           "circle or (triangle implies blue)"
          ],
          [
           "circle or (triangle implies blue)"
          ],
          [
           "circle or (triangle implies blue)"
          ],
          [
           "circle or (triangle implies blue)"
          ],
          [
           "circle or (triangle implies blue)"
          ]
         ],
         "hovertemplate": "concept=%{customdata[0]}<br>set=%{x}<br>coverage_manual_code=%{y}<extra></extra>",
         "legendgroup": "circle or (triangle implies blue)",
         "line": {
          "color": "#FF97FF",
          "dash": "solid"
         },
         "marker": {
          "symbol": "circle"
         },
         "mode": "lines",
         "name": "circle or (triangle implies blue)",
         "orientation": "v",
         "showlegend": true,
         "type": "scatter",
         "x": [
          1,
          2,
          3,
          4,
          5,
          6,
          7,
          8,
          9,
          10,
          11,
          12,
          13,
          14,
          15,
          16,
          17,
          18,
          19,
          20,
          21,
          22,
          23,
          24,
          25
         ],
         "xaxis": "x",
         "y": [
          0.2875,
          0.325,
          0.4125,
          0.45,
          0.6875,
          0.7375,
          0.8875,
          0.8875,
          0.8875,
          0.7375,
          0.625,
          0.8875,
          0.8875,
          0.7375,
          0.825,
          0.8875,
          0.8875,
          0.8875,
          0.775,
          0.8875,
          0.9125,
          0.9125,
          0.9375,
          0.8875,
          1
         ],
         "yaxis": "y"
        },
        {
         "customdata": [
          [
           "(circle or blue) or  (triangle and green)"
          ],
          [
           "(circle or blue) or  (triangle and green)"
          ],
          [
           "(circle or blue) or  (triangle and green)"
          ],
          [
           "(circle or blue) or  (triangle and green)"
          ],
          [
           "(circle or blue) or  (triangle and green)"
          ],
          [
           "(circle or blue) or  (triangle and green)"
          ],
          [
           "(circle or blue) or  (triangle and green)"
          ],
          [
           "(circle or blue) or  (triangle and green)"
          ],
          [
           "(circle or blue) or  (triangle and green)"
          ],
          [
           "(circle or blue) or  (triangle and green)"
          ],
          [
           "(circle or blue) or  (triangle and green)"
          ],
          [
           "(circle or blue) or  (triangle and green)"
          ],
          [
           "(circle or blue) or  (triangle and green)"
          ],
          [
           "(circle or blue) or  (triangle and green)"
          ],
          [
           "(circle or blue) or  (triangle and green)"
          ],
          [
           "(circle or blue) or  (triangle and green)"
          ],
          [
           "(circle or blue) or  (triangle and green)"
          ],
          [
           "(circle or blue) or  (triangle and green)"
          ],
          [
           "(circle or blue) or  (triangle and green)"
          ],
          [
           "(circle or blue) or  (triangle and green)"
          ],
          [
           "(circle or blue) or  (triangle and green)"
          ],
          [
           "(circle or blue) or  (triangle and green)"
          ],
          [
           "(circle or blue) or  (triangle and green)"
          ],
          [
           "(circle or blue) or  (triangle and green)"
          ],
          [
           "(circle or blue) or  (triangle and green)"
          ]
         ],
         "hovertemplate": "concept=%{customdata[0]}<br>set=%{x}<br>coverage_manual_code=%{y}<extra></extra>",
         "legendgroup": "(circle or blue) or  (triangle and green)",
         "line": {
          "color": "#FECB52",
          "dash": "solid"
         },
         "marker": {
          "symbol": "circle"
         },
         "mode": "lines",
         "name": "(circle or blue) or  (triangle and green)",
         "orientation": "v",
         "showlegend": true,
         "type": "scatter",
         "x": [
          1,
          2,
          3,
          4,
          5,
          6,
          7,
          8,
          9,
          10,
          11,
          12,
          13,
          14,
          15,
          16,
          17,
          18,
          19,
          20,
          21,
          22,
          23,
          24,
          25
         ],
         "xaxis": "x",
         "y": [
          0.4225352112676056,
          0.5211267605633803,
          0.676056338028169,
          0.7887323943661971,
          0.9154929577464788,
          0.676056338028169,
          0.9154929577464788,
          0.9154929577464788,
          0.4647887323943662,
          0.8309859154929577,
          0.8309859154929577,
          0.8732394366197183,
          0.9154929577464788,
          0.704225352112676,
          0.9154929577464788,
          0.7746478873239436,
          0.8309859154929577,
          0.8732394366197183,
          0.8591549295774648,
          0.7887323943661971,
          0.8309859154929577,
          0.7746478873239436,
          0.7887323943661971,
          0.8873239436619719,
          0.7887323943661971
         ],
         "yaxis": "y"
        },
        {
         "customdata": [
          [
           "(circle and blue) or (triangle and green)"
          ],
          [
           "(circle and blue) or (triangle and green)"
          ],
          [
           "(circle and blue) or (triangle and green)"
          ],
          [
           "(circle and blue) or (triangle and green)"
          ],
          [
           "(circle and blue) or (triangle and green)"
          ],
          [
           "(circle and blue) or (triangle and green)"
          ],
          [
           "(circle and blue) or (triangle and green)"
          ],
          [
           "(circle and blue) or (triangle and green)"
          ],
          [
           "(circle and blue) or (triangle and green)"
          ],
          [
           "(circle and blue) or (triangle and green)"
          ],
          [
           "(circle and blue) or (triangle and green)"
          ],
          [
           "(circle and blue) or (triangle and green)"
          ],
          [
           "(circle and blue) or (triangle and green)"
          ],
          [
           "(circle and blue) or (triangle and green)"
          ],
          [
           "(circle and blue) or (triangle and green)"
          ],
          [
           "(circle and blue) or (triangle and green)"
          ],
          [
           "(circle and blue) or (triangle and green)"
          ],
          [
           "(circle and blue) or (triangle and green)"
          ],
          [
           "(circle and blue) or (triangle and green)"
          ],
          [
           "(circle and blue) or (triangle and green)"
          ],
          [
           "(circle and blue) or (triangle and green)"
          ],
          [
           "(circle and blue) or (triangle and green)"
          ],
          [
           "(circle and blue) or (triangle and green)"
          ],
          [
           "(circle and blue) or (triangle and green)"
          ],
          [
           "(circle and blue) or (triangle and green)"
          ]
         ],
         "hovertemplate": "concept=%{customdata[0]}<br>set=%{x}<br>coverage_manual_code=%{y}<extra></extra>",
         "legendgroup": "(circle and blue) or (triangle and green)",
         "line": {
          "color": "#636efa",
          "dash": "solid"
         },
         "marker": {
          "symbol": "circle"
         },
         "mode": "lines",
         "name": "(circle and blue) or (triangle and green)",
         "orientation": "v",
         "showlegend": true,
         "type": "scatter",
         "x": [
          1,
          2,
          3,
          4,
          5,
          6,
          7,
          8,
          9,
          10,
          11,
          12,
          13,
          14,
          15,
          16,
          17,
          18,
          19,
          20,
          21,
          22,
          23,
          24,
          25
         ],
         "xaxis": "x",
         "y": [
          0.7160493827160493,
          0.7160493827160493,
          0.8271604938271605,
          0.9012345679012346,
          0.8271604938271605,
          1,
          0.9506172839506172,
          0.9506172839506172,
          0.7407407407407407,
          0.654320987654321,
          0.9012345679012346,
          0.7777777777777778,
          0.7777777777777778,
          1,
          1,
          0.8641975308641975,
          1,
          0.8395061728395061,
          0.7654320987654321,
          0.8518518518518519,
          0.7777777777777778,
          0.7654320987654321,
          0.7777777777777778,
          0.7777777777777778,
          0.7777777777777778
         ],
         "yaxis": "y"
        },
        {
         "customdata": [
          [
           "False"
          ],
          [
           "False"
          ],
          [
           "False"
          ],
          [
           "False"
          ],
          [
           "False"
          ],
          [
           "False"
          ],
          [
           "False"
          ],
          [
           "False"
          ],
          [
           "False"
          ],
          [
           "False"
          ],
          [
           "False"
          ],
          [
           "False"
          ],
          [
           "False"
          ],
          [
           "False"
          ],
          [
           "False"
          ],
          [
           "False"
          ],
          [
           "False"
          ],
          [
           "False"
          ],
          [
           "False"
          ],
          [
           "False"
          ],
          [
           "False"
          ],
          [
           "False"
          ],
          [
           "False"
          ],
          [
           "False"
          ],
          [
           "False"
          ]
         ],
         "hovertemplate": "concept=%{customdata[0]}<br>set=%{x}<br>coverage_manual_code=%{y}<extra></extra>",
         "legendgroup": "False",
         "line": {
          "color": "#EF553B",
          "dash": "solid"
         },
         "marker": {
          "symbol": "circle"
         },
         "mode": "lines",
         "name": "False",
         "orientation": "v",
         "showlegend": true,
         "type": "scatter",
         "x": [
          1,
          2,
          3,
          4,
          5,
          6,
          7,
          8,
          9,
          10,
          11,
          12,
          13,
          14,
          15,
          16,
          17,
          18,
          19,
          20,
          21,
          22,
          23,
          24,
          25
         ],
         "xaxis": "x",
         "y": [
          0.746031746031746,
          1,
          1,
          1,
          1,
          1,
          1,
          1,
          1,
          1,
          1,
          1,
          1,
          1,
          1,
          1,
          1,
          1,
          1,
          1,
          1,
          1,
          1,
          1,
          1
         ],
         "yaxis": "y"
        },
        {
         "customdata": [
          [
           "(circle or triangle) implies blue"
          ],
          [
           "(circle or triangle) implies blue"
          ],
          [
           "(circle or triangle) implies blue"
          ],
          [
           "(circle or triangle) implies blue"
          ],
          [
           "(circle or triangle) implies blue"
          ],
          [
           "(circle or triangle) implies blue"
          ],
          [
           "(circle or triangle) implies blue"
          ],
          [
           "(circle or triangle) implies blue"
          ],
          [
           "(circle or triangle) implies blue"
          ],
          [
           "(circle or triangle) implies blue"
          ],
          [
           "(circle or triangle) implies blue"
          ],
          [
           "(circle or triangle) implies blue"
          ],
          [
           "(circle or triangle) implies blue"
          ],
          [
           "(circle or triangle) implies blue"
          ],
          [
           "(circle or triangle) implies blue"
          ],
          [
           "(circle or triangle) implies blue"
          ],
          [
           "(circle or triangle) implies blue"
          ],
          [
           "(circle or triangle) implies blue"
          ],
          [
           "(circle or triangle) implies blue"
          ],
          [
           "(circle or triangle) implies blue"
          ],
          [
           "(circle or triangle) implies blue"
          ],
          [
           "(circle or triangle) implies blue"
          ],
          [
           "(circle or triangle) implies blue"
          ],
          [
           "(circle or triangle) implies blue"
          ]
         ],
         "hovertemplate": "concept=%{customdata[0]}<br>set=%{x}<br>coverage_manual_code=%{y}<extra></extra>",
         "legendgroup": "(circle or triangle) implies blue",
         "line": {
          "color": "#00cc96",
          "dash": "solid"
         },
         "marker": {
          "symbol": "circle"
         },
         "mode": "lines",
         "name": "(circle or triangle) implies blue",
         "orientation": "v",
         "showlegend": true,
         "type": "scatter",
         "x": [
          2,
          3,
          4,
          5,
          6,
          7,
          8,
          9,
          10,
          11,
          12,
          13,
          14,
          15,
          16,
          17,
          18,
          19,
          20,
          21,
          22,
          23,
          24,
          25
         ],
         "xaxis": "x",
         "y": [
          0.5666666666666667,
          0.5666666666666667,
          0.5666666666666667,
          0.5666666666666667,
          0.6,
          0.5666666666666667,
          0.5833333333333334,
          0.5666666666666667,
          0.7666666666666667,
          0.6333333333333333,
          0.8333333333333334,
          0.6666666666666666,
          1,
          1,
          1,
          1,
          1,
          0.8666666666666667,
          0.6666666666666666,
          0.7666666666666667,
          0.9,
          0.5666666666666667,
          1,
          0.8333333333333334
         ],
         "yaxis": "y"
        },
        {
         "customdata": [
          [
           "large or medium"
          ],
          [
           "large or medium"
          ],
          [
           "large or medium"
          ],
          [
           "large or medium"
          ],
          [
           "large or medium"
          ],
          [
           "large or medium"
          ],
          [
           "large or medium"
          ],
          [
           "large or medium"
          ],
          [
           "large or medium"
          ],
          [
           "large or medium"
          ],
          [
           "large or medium"
          ],
          [
           "large or medium"
          ],
          [
           "large or medium"
          ],
          [
           "large or medium"
          ],
          [
           "large or medium"
          ],
          [
           "large or medium"
          ],
          [
           "large or medium"
          ],
          [
           "large or medium"
          ],
          [
           "large or medium"
          ],
          [
           "large or medium"
          ],
          [
           "large or medium"
          ],
          [
           "large or medium"
          ],
          [
           "large or medium"
          ],
          [
           "large or medium"
          ]
         ],
         "hovertemplate": "concept=%{customdata[0]}<br>set=%{x}<br>coverage_manual_code=%{y}<extra></extra>",
         "legendgroup": "large or medium",
         "line": {
          "color": "#ab63fa",
          "dash": "solid"
         },
         "marker": {
          "symbol": "circle"
         },
         "mode": "lines",
         "name": "large or medium",
         "orientation": "v",
         "showlegend": true,
         "type": "scatter",
         "x": [
          2,
          3,
          4,
          5,
          6,
          7,
          8,
          9,
          10,
          11,
          12,
          13,
          14,
          15,
          16,
          17,
          18,
          19,
          20,
          21,
          22,
          23,
          24,
          25
         ],
         "xaxis": "x",
         "y": [
          0.323943661971831,
          0.3661971830985915,
          0.647887323943662,
          0.4647887323943662,
          0.5492957746478874,
          0.647887323943662,
          0.647887323943662,
          0.9859154929577464,
          0.8873239436619719,
          0.647887323943662,
          0.943661971830986,
          1,
          1,
          1,
          1,
          0.8309859154929577,
          1,
          0.8732394366197183,
          0.8591549295774648,
          0.943661971830986,
          0.8450704225352113,
          0.704225352112676,
          1,
          1
         ],
         "yaxis": "y"
        }
       ],
       "layout": {
        "legend": {
         "title": {
          "text": "concept"
         },
         "tracegroupgap": 0
        },
        "margin": {
         "t": 60
        },
        "template": {
         "data": {
          "bar": [
           {
            "error_x": {
             "color": "#2a3f5f"
            },
            "error_y": {
             "color": "#2a3f5f"
            },
            "marker": {
             "line": {
              "color": "#E5ECF6",
              "width": 0.5
             },
             "pattern": {
              "fillmode": "overlay",
              "size": 10,
              "solidity": 0.2
             }
            },
            "type": "bar"
           }
          ],
          "barpolar": [
           {
            "marker": {
             "line": {
              "color": "#E5ECF6",
              "width": 0.5
             },
             "pattern": {
              "fillmode": "overlay",
              "size": 10,
              "solidity": 0.2
             }
            },
            "type": "barpolar"
           }
          ],
          "carpet": [
           {
            "aaxis": {
             "endlinecolor": "#2a3f5f",
             "gridcolor": "white",
             "linecolor": "white",
             "minorgridcolor": "white",
             "startlinecolor": "#2a3f5f"
            },
            "baxis": {
             "endlinecolor": "#2a3f5f",
             "gridcolor": "white",
             "linecolor": "white",
             "minorgridcolor": "white",
             "startlinecolor": "#2a3f5f"
            },
            "type": "carpet"
           }
          ],
          "choropleth": [
           {
            "colorbar": {
             "outlinewidth": 0,
             "ticks": ""
            },
            "type": "choropleth"
           }
          ],
          "contour": [
           {
            "colorbar": {
             "outlinewidth": 0,
             "ticks": ""
            },
            "colorscale": [
             [
              0,
              "#0d0887"
             ],
             [
              0.1111111111111111,
              "#46039f"
             ],
             [
              0.2222222222222222,
              "#7201a8"
             ],
             [
              0.3333333333333333,
              "#9c179e"
             ],
             [
              0.4444444444444444,
              "#bd3786"
             ],
             [
              0.5555555555555556,
              "#d8576b"
             ],
             [
              0.6666666666666666,
              "#ed7953"
             ],
             [
              0.7777777777777778,
              "#fb9f3a"
             ],
             [
              0.8888888888888888,
              "#fdca26"
             ],
             [
              1,
              "#f0f921"
             ]
            ],
            "type": "contour"
           }
          ],
          "contourcarpet": [
           {
            "colorbar": {
             "outlinewidth": 0,
             "ticks": ""
            },
            "type": "contourcarpet"
           }
          ],
          "heatmap": [
           {
            "colorbar": {
             "outlinewidth": 0,
             "ticks": ""
            },
            "colorscale": [
             [
              0,
              "#0d0887"
             ],
             [
              0.1111111111111111,
              "#46039f"
             ],
             [
              0.2222222222222222,
              "#7201a8"
             ],
             [
              0.3333333333333333,
              "#9c179e"
             ],
             [
              0.4444444444444444,
              "#bd3786"
             ],
             [
              0.5555555555555556,
              "#d8576b"
             ],
             [
              0.6666666666666666,
              "#ed7953"
             ],
             [
              0.7777777777777778,
              "#fb9f3a"
             ],
             [
              0.8888888888888888,
              "#fdca26"
             ],
             [
              1,
              "#f0f921"
             ]
            ],
            "type": "heatmap"
           }
          ],
          "heatmapgl": [
           {
            "colorbar": {
             "outlinewidth": 0,
             "ticks": ""
            },
            "colorscale": [
             [
              0,
              "#0d0887"
             ],
             [
              0.1111111111111111,
              "#46039f"
             ],
             [
              0.2222222222222222,
              "#7201a8"
             ],
             [
              0.3333333333333333,
              "#9c179e"
             ],
             [
              0.4444444444444444,
              "#bd3786"
             ],
             [
              0.5555555555555556,
              "#d8576b"
             ],
             [
              0.6666666666666666,
              "#ed7953"
             ],
             [
              0.7777777777777778,
              "#fb9f3a"
             ],
             [
              0.8888888888888888,
              "#fdca26"
             ],
             [
              1,
              "#f0f921"
             ]
            ],
            "type": "heatmapgl"
           }
          ],
          "histogram": [
           {
            "marker": {
             "pattern": {
              "fillmode": "overlay",
              "size": 10,
              "solidity": 0.2
             }
            },
            "type": "histogram"
           }
          ],
          "histogram2d": [
           {
            "colorbar": {
             "outlinewidth": 0,
             "ticks": ""
            },
            "colorscale": [
             [
              0,
              "#0d0887"
             ],
             [
              0.1111111111111111,
              "#46039f"
             ],
             [
              0.2222222222222222,
              "#7201a8"
             ],
             [
              0.3333333333333333,
              "#9c179e"
             ],
             [
              0.4444444444444444,
              "#bd3786"
             ],
             [
              0.5555555555555556,
              "#d8576b"
             ],
             [
              0.6666666666666666,
              "#ed7953"
             ],
             [
              0.7777777777777778,
              "#fb9f3a"
             ],
             [
              0.8888888888888888,
              "#fdca26"
             ],
             [
              1,
              "#f0f921"
             ]
            ],
            "type": "histogram2d"
           }
          ],
          "histogram2dcontour": [
           {
            "colorbar": {
             "outlinewidth": 0,
             "ticks": ""
            },
            "colorscale": [
             [
              0,
              "#0d0887"
             ],
             [
              0.1111111111111111,
              "#46039f"
             ],
             [
              0.2222222222222222,
              "#7201a8"
             ],
             [
              0.3333333333333333,
              "#9c179e"
             ],
             [
              0.4444444444444444,
              "#bd3786"
             ],
             [
              0.5555555555555556,
              "#d8576b"
             ],
             [
              0.6666666666666666,
              "#ed7953"
             ],
             [
              0.7777777777777778,
              "#fb9f3a"
             ],
             [
              0.8888888888888888,
              "#fdca26"
             ],
             [
              1,
              "#f0f921"
             ]
            ],
            "type": "histogram2dcontour"
           }
          ],
          "mesh3d": [
           {
            "colorbar": {
             "outlinewidth": 0,
             "ticks": ""
            },
            "type": "mesh3d"
           }
          ],
          "parcoords": [
           {
            "line": {
             "colorbar": {
              "outlinewidth": 0,
              "ticks": ""
             }
            },
            "type": "parcoords"
           }
          ],
          "pie": [
           {
            "automargin": true,
            "type": "pie"
           }
          ],
          "scatter": [
           {
            "fillpattern": {
             "fillmode": "overlay",
             "size": 10,
             "solidity": 0.2
            },
            "type": "scatter"
           }
          ],
          "scatter3d": [
           {
            "line": {
             "colorbar": {
              "outlinewidth": 0,
              "ticks": ""
             }
            },
            "marker": {
             "colorbar": {
              "outlinewidth": 0,
              "ticks": ""
             }
            },
            "type": "scatter3d"
           }
          ],
          "scattercarpet": [
           {
            "marker": {
             "colorbar": {
              "outlinewidth": 0,
              "ticks": ""
             }
            },
            "type": "scattercarpet"
           }
          ],
          "scattergeo": [
           {
            "marker": {
             "colorbar": {
              "outlinewidth": 0,
              "ticks": ""
             }
            },
            "type": "scattergeo"
           }
          ],
          "scattergl": [
           {
            "marker": {
             "colorbar": {
              "outlinewidth": 0,
              "ticks": ""
             }
            },
            "type": "scattergl"
           }
          ],
          "scattermapbox": [
           {
            "marker": {
             "colorbar": {
              "outlinewidth": 0,
              "ticks": ""
             }
            },
            "type": "scattermapbox"
           }
          ],
          "scatterpolar": [
           {
            "marker": {
             "colorbar": {
              "outlinewidth": 0,
              "ticks": ""
             }
            },
            "type": "scatterpolar"
           }
          ],
          "scatterpolargl": [
           {
            "marker": {
             "colorbar": {
              "outlinewidth": 0,
              "ticks": ""
             }
            },
            "type": "scatterpolargl"
           }
          ],
          "scatterternary": [
           {
            "marker": {
             "colorbar": {
              "outlinewidth": 0,
              "ticks": ""
             }
            },
            "type": "scatterternary"
           }
          ],
          "surface": [
           {
            "colorbar": {
             "outlinewidth": 0,
             "ticks": ""
            },
            "colorscale": [
             [
              0,
              "#0d0887"
             ],
             [
              0.1111111111111111,
              "#46039f"
             ],
             [
              0.2222222222222222,
              "#7201a8"
             ],
             [
              0.3333333333333333,
              "#9c179e"
             ],
             [
              0.4444444444444444,
              "#bd3786"
             ],
             [
              0.5555555555555556,
              "#d8576b"
             ],
             [
              0.6666666666666666,
              "#ed7953"
             ],
             [
              0.7777777777777778,
              "#fb9f3a"
             ],
             [
              0.8888888888888888,
              "#fdca26"
             ],
             [
              1,
              "#f0f921"
             ]
            ],
            "type": "surface"
           }
          ],
          "table": [
           {
            "cells": {
             "fill": {
              "color": "#EBF0F8"
             },
             "line": {
              "color": "white"
             }
            },
            "header": {
             "fill": {
              "color": "#C8D4E3"
             },
             "line": {
              "color": "white"
             }
            },
            "type": "table"
           }
          ]
         },
         "layout": {
          "annotationdefaults": {
           "arrowcolor": "#2a3f5f",
           "arrowhead": 0,
           "arrowwidth": 1
          },
          "autotypenumbers": "strict",
          "coloraxis": {
           "colorbar": {
            "outlinewidth": 0,
            "ticks": ""
           }
          },
          "colorscale": {
           "diverging": [
            [
             0,
             "#8e0152"
            ],
            [
             0.1,
             "#c51b7d"
            ],
            [
             0.2,
             "#de77ae"
            ],
            [
             0.3,
             "#f1b6da"
            ],
            [
             0.4,
             "#fde0ef"
            ],
            [
             0.5,
             "#f7f7f7"
            ],
            [
             0.6,
             "#e6f5d0"
            ],
            [
             0.7,
             "#b8e186"
            ],
            [
             0.8,
             "#7fbc41"
            ],
            [
             0.9,
             "#4d9221"
            ],
            [
             1,
             "#276419"
            ]
           ],
           "sequential": [
            [
             0,
             "#0d0887"
            ],
            [
             0.1111111111111111,
             "#46039f"
            ],
            [
             0.2222222222222222,
             "#7201a8"
            ],
            [
             0.3333333333333333,
             "#9c179e"
            ],
            [
             0.4444444444444444,
             "#bd3786"
            ],
            [
             0.5555555555555556,
             "#d8576b"
            ],
            [
             0.6666666666666666,
             "#ed7953"
            ],
            [
             0.7777777777777778,
             "#fb9f3a"
            ],
            [
             0.8888888888888888,
             "#fdca26"
            ],
            [
             1,
             "#f0f921"
            ]
           ],
           "sequentialminus": [
            [
             0,
             "#0d0887"
            ],
            [
             0.1111111111111111,
             "#46039f"
            ],
            [
             0.2222222222222222,
             "#7201a8"
            ],
            [
             0.3333333333333333,
             "#9c179e"
            ],
            [
             0.4444444444444444,
             "#bd3786"
            ],
            [
             0.5555555555555556,
             "#d8576b"
            ],
            [
             0.6666666666666666,
             "#ed7953"
            ],
            [
             0.7777777777777778,
             "#fb9f3a"
            ],
            [
             0.8888888888888888,
             "#fdca26"
            ],
            [
             1,
             "#f0f921"
            ]
           ]
          },
          "colorway": [
           "#636efa",
           "#EF553B",
           "#00cc96",
           "#ab63fa",
           "#FFA15A",
           "#19d3f3",
           "#FF6692",
           "#B6E880",
           "#FF97FF",
           "#FECB52"
          ],
          "font": {
           "color": "#2a3f5f"
          },
          "geo": {
           "bgcolor": "white",
           "lakecolor": "white",
           "landcolor": "#E5ECF6",
           "showlakes": true,
           "showland": true,
           "subunitcolor": "white"
          },
          "hoverlabel": {
           "align": "left"
          },
          "hovermode": "closest",
          "mapbox": {
           "style": "light"
          },
          "paper_bgcolor": "white",
          "plot_bgcolor": "#E5ECF6",
          "polar": {
           "angularaxis": {
            "gridcolor": "white",
            "linecolor": "white",
            "ticks": ""
           },
           "bgcolor": "#E5ECF6",
           "radialaxis": {
            "gridcolor": "white",
            "linecolor": "white",
            "ticks": ""
           }
          },
          "scene": {
           "xaxis": {
            "backgroundcolor": "#E5ECF6",
            "gridcolor": "white",
            "gridwidth": 2,
            "linecolor": "white",
            "showbackground": true,
            "ticks": "",
            "zerolinecolor": "white"
           },
           "yaxis": {
            "backgroundcolor": "#E5ECF6",
            "gridcolor": "white",
            "gridwidth": 2,
            "linecolor": "white",
            "showbackground": true,
            "ticks": "",
            "zerolinecolor": "white"
           },
           "zaxis": {
            "backgroundcolor": "#E5ECF6",
            "gridcolor": "white",
            "gridwidth": 2,
            "linecolor": "white",
            "showbackground": true,
            "ticks": "",
            "zerolinecolor": "white"
           }
          },
          "shapedefaults": {
           "line": {
            "color": "#2a3f5f"
           }
          },
          "ternary": {
           "aaxis": {
            "gridcolor": "white",
            "linecolor": "white",
            "ticks": ""
           },
           "baxis": {
            "gridcolor": "white",
            "linecolor": "white",
            "ticks": ""
           },
           "bgcolor": "#E5ECF6",
           "caxis": {
            "gridcolor": "white",
            "linecolor": "white",
            "ticks": ""
           }
          },
          "title": {
           "x": 0.05
          },
          "xaxis": {
           "automargin": true,
           "gridcolor": "white",
           "linecolor": "white",
           "ticks": "",
           "title": {
            "standoff": 15
           },
           "zerolinecolor": "white",
           "zerolinewidth": 2
          },
          "yaxis": {
           "automargin": true,
           "gridcolor": "white",
           "linecolor": "white",
           "ticks": "",
           "title": {
            "standoff": 15
           },
           "zerolinecolor": "white",
           "zerolinewidth": 2
          }
         }
        },
        "width": 1000,
        "xaxis": {
         "anchor": "y",
         "domain": [
          0,
          1
         ],
         "title": {
          "text": "set"
         }
        },
        "yaxis": {
         "anchor": "x",
         "domain": [
          0,
          1
         ],
         "title": {
          "text": "coverage_manual_code"
         }
        }
       }
      }
     },
     "metadata": {},
     "output_type": "display_data"
    }
   ],
   "source": [
    "import plotly.express as px\n",
    "px.line(manual_rule_coverage.drop_duplicates(['concept', 'set']).sort_values(by=['set']), x='set', y='coverage_manual_code', color='concept', hover_data='concept', width=1000)"
   ]
  },
  {
   "cell_type": "markdown",
   "metadata": {},
   "source": [
    "# FOL Rule"
   ]
  },
  {
   "cell_type": "code",
   "execution_count": 4,
   "metadata": {},
   "outputs": [
    {
     "data": {
      "text/plain": [
       "array(['hg88', 'hg87', 'hg46', 'hg89', 'hg94', 'hg44', 'hg73', 'hg75',\n",
       "       'hg62', 'hg29', 'hg31', 'hg55', 'hg44', 'hg72', 'hg61', 'hg64'],\n",
       "      dtype='<U5')"
      ]
     },
     "execution_count": 4,
     "metadata": {},
     "output_type": "execute_result"
    }
   ],
   "source": [
    "import numpy as np\n",
    "np.random.choice(SUBSETS['fol'], 16)\n",
    "\"\"\"\n",
    "# array(['hg88', 'hg87', 'hg46', 'hg89', 'hg94', 'hg44', 'hg73', 'hg75',\n",
    "       'hg62', 'hg29', 'hg31', 'hg55', 'hg44', 'hg72', 'hg61', 'hg64'],\n",
    "      dtype='<U5')\n",
    "\"\"\""
   ]
  },
  {
   "cell_type": "markdown",
   "metadata": {},
   "source": [
    "### FOL Annotated Subset"
   ]
  },
  {
   "cell_type": "code",
   "execution_count": null,
   "metadata": {},
   "outputs": [],
   "source": [
    "manual_rule_coverage = check_rule_coverage(\n",
    "    pd.read_csv('./results/experiment_2/compiled_fol_rules_annotated_subset.csv')\n",
    "    ).sort_values(['coverage_manual_code'])\n",
    "manual_rule_coverage = manual_rule_coverage[manual_rule_coverage['to_annotate']]\n",
    "manual_rule_coverage.loc[:, ['concept_num', 'coverage_manual_code', 'human_lq', 'concept', 'rule_expression']]\n",
    "manual_rule_coverage.to_csv('./results/experiment_2/compiled_fol_rules_annotated_subset_stats.csv')"
   ]
  },
  {
   "cell_type": "code",
   "execution_count": 61,
   "metadata": {},
   "outputs": [
    {
     "name": "stdout",
     "output_type": "stream",
     "text": [
      "Average Coverage (excluding first sets) 0.6781448340668781\n",
      "Average Consistency (excluding no-replies) 0.9554695062923524\n",
      "Arrived at right rule on last set 0.0\n",
      "Arrived at right rule on any of last five 0.0\n"
     ]
    },
    {
     "data": {
      "text/html": [
       "<div>\n",
       "<style scoped>\n",
       "    .dataframe tbody tr th:only-of-type {\n",
       "        vertical-align: middle;\n",
       "    }\n",
       "\n",
       "    .dataframe tbody tr th {\n",
       "        vertical-align: top;\n",
       "    }\n",
       "\n",
       "    .dataframe thead th {\n",
       "        text-align: right;\n",
       "    }\n",
       "</style>\n",
       "<table border=\"1\" class=\"dataframe\">\n",
       "  <thead>\n",
       "    <tr style=\"text-align: right;\">\n",
       "      <th></th>\n",
       "      <th>concept_num</th>\n",
       "      <th>concept</th>\n",
       "      <th>rule_expression</th>\n",
       "      <th>coverage_manual_code</th>\n",
       "      <th>chance</th>\n",
       "      <th>model_reply</th>\n",
       "      <th>manual_code</th>\n",
       "    </tr>\n",
       "  </thead>\n",
       "  <tbody>\n",
       "    <tr>\n",
       "      <th>69</th>\n",
       "      <td>hg26</td>\n",
       "      <td>one of the largest or smallest</td>\n",
       "      <td>(large and green) or (large and circle) or (gr...</td>\n",
       "      <td>0.423077</td>\n",
       "      <td>0.795858</td>\n",
       "      <td>Based on your examples, I've learned that the ...</td>\n",
       "      <td>def is_rule(obj):\\n    return (obj.large and o...</td>\n",
       "    </tr>\n",
       "    <tr>\n",
       "      <th>198</th>\n",
       "      <td>hg103</td>\n",
       "      <td>exactly one blue object in the set</td>\n",
       "      <td>(triangle or rectangle) and (small or medium)</td>\n",
       "      <td>0.557143</td>\n",
       "      <td>0.549634</td>\n",
       "      <td>Based on your examples, I've learned that the ...</td>\n",
       "      <td>def is_rule(obj):\\n    return (obj.triangle or...</td>\n",
       "    </tr>\n",
       "    <tr>\n",
       "      <th>439</th>\n",
       "      <td>hg98</td>\n",
       "      <td>the unique smallest object</td>\n",
       "      <td>(small and not yellow) or (medium and blue) or...</td>\n",
       "      <td>0.666667</td>\n",
       "      <td>0.659735</td>\n",
       "      <td>Based on your examples, I've learned that the ...</td>\n",
       "      <td>def is_rule(obj):\\n    return (obj.small and n...</td>\n",
       "    </tr>\n",
       "    <tr>\n",
       "      <th>469</th>\n",
       "      <td>hg17</td>\n",
       "      <td>there is a triangle in the set</td>\n",
       "      <td>not(small or blue) or ((small and yellow and t...</td>\n",
       "      <td>0.679012</td>\n",
       "      <td>0.604329</td>\n",
       "      <td>Based on your examples, I've learned that the ...</td>\n",
       "      <td>def is_rule(obj):\\n    return not(obj.small or...</td>\n",
       "    </tr>\n",
       "    <tr>\n",
       "      <th>474</th>\n",
       "      <td>hg71</td>\n",
       "      <td>does not exist another object with same shape ...</td>\n",
       "      <td>small or green or rectangle</td>\n",
       "      <td>0.679487</td>\n",
       "      <td>0.739645</td>\n",
       "      <td>Based on your examples, I've learned that the ...</td>\n",
       "      <td>def is_rule(obj):\\n    return obj.small or obj...</td>\n",
       "    </tr>\n",
       "    <tr>\n",
       "      <th>501</th>\n",
       "      <td>hg96</td>\n",
       "      <td>the unique object</td>\n",
       "      <td>rectangle</td>\n",
       "      <td>0.680000</td>\n",
       "      <td>0.875556</td>\n",
       "      <td>Based on your examples, I've learned that the ...</td>\n",
       "      <td>def is_rule(obj):\\n    return obj.rectangle</td>\n",
       "    </tr>\n",
       "    <tr>\n",
       "      <th>602</th>\n",
       "      <td>hg35</td>\n",
       "      <td>larger than some other object</td>\n",
       "      <td>(large and blue) or (medium and yellow) or ((t...</td>\n",
       "      <td>0.705882</td>\n",
       "      <td>0.500433</td>\n",
       "      <td>Based on your examples, I've learned that the ...</td>\n",
       "      <td>def is_rule(obj):\\n    return (obj.large and o...</td>\n",
       "    </tr>\n",
       "    <tr>\n",
       "      <th>658</th>\n",
       "      <td>hg106</td>\n",
       "      <td>exactly one blue object that is the same shape...</td>\n",
       "      <td>(large and green and rectangle) or (small and ...</td>\n",
       "      <td>0.730769</td>\n",
       "      <td>0.673899</td>\n",
       "      <td>Based on your examples, I've learned that the ...</td>\n",
       "      <td>def is_rule(obj):\\n    return (obj.large and o...</td>\n",
       "    </tr>\n",
       "    <tr>\n",
       "      <th>687</th>\n",
       "      <td>hg99</td>\n",
       "      <td>one of the smallest</td>\n",
       "      <td>small and not yellow</td>\n",
       "      <td>0.738462</td>\n",
       "      <td>0.501065</td>\n",
       "      <td>Based on your examples, I've learned that the ...</td>\n",
       "      <td>def is_rule(obj):\\n    return obj.small and no...</td>\n",
       "    </tr>\n",
       "    <tr>\n",
       "      <th>705</th>\n",
       "      <td>hg108</td>\n",
       "      <td>all other objects of the same shape are blue</td>\n",
       "      <td>(green and not rectangle) or blue or (yellow a...</td>\n",
       "      <td>0.742424</td>\n",
       "      <td>0.537190</td>\n",
       "      <td>Based on your examples, I've learned that the ...</td>\n",
       "      <td>def is_rule(obj):\\n    return (obj.green and n...</td>\n",
       "    </tr>\n",
       "    <tr>\n",
       "      <th>749</th>\n",
       "      <td>hg105</td>\n",
       "      <td>exactly one blue object that is the same shape</td>\n",
       "      <td>blue or rectangle</td>\n",
       "      <td>0.750000</td>\n",
       "      <td>0.500386</td>\n",
       "      <td>Based on your examples, I've learned that the ...</td>\n",
       "      <td>def is_rule(obj):\\n    return obj.blue or obj....</td>\n",
       "    </tr>\n",
       "    <tr>\n",
       "      <th>762</th>\n",
       "      <td>hg72</td>\n",
       "      <td>same shape as another object that is blue</td>\n",
       "      <td>(triangle or rectangle) and (blue or yellow) a...</td>\n",
       "      <td>0.750000</td>\n",
       "      <td>0.683172</td>\n",
       "      <td>Based on your examples, I've learned that the ...</td>\n",
       "      <td>def is_rule(obj):\\n    return (obj.triangle or...</td>\n",
       "    </tr>\n",
       "    <tr>\n",
       "      <th>999</th>\n",
       "      <td>hg37</td>\n",
       "      <td>same shape as a blue object</td>\n",
       "      <td>(blue) or (small and yellow and triangle)</td>\n",
       "      <td>0.885714</td>\n",
       "      <td>0.568980</td>\n",
       "      <td>Based on your examples, I've learned that the ...</td>\n",
       "      <td>def is_rule(obj):\\n    return (obj.blue) or (o...</td>\n",
       "    </tr>\n",
       "    <tr>\n",
       "      <th>1012</th>\n",
       "      <td>hg41</td>\n",
       "      <td>green or same shape as a blue object</td>\n",
       "      <td>not (small and yellow and circle) and not (lar...</td>\n",
       "      <td>0.904110</td>\n",
       "      <td>0.707262</td>\n",
       "      <td>Based on your examples, I've learned that the ...</td>\n",
       "      <td>def is_rule(obj):\\n    return not (obj.small a...</td>\n",
       "    </tr>\n",
       "    <tr>\n",
       "      <th>1026</th>\n",
       "      <td>hg34</td>\n",
       "      <td>blue or (larger or equal in size to all other ...</td>\n",
       "      <td>large or blue</td>\n",
       "      <td>0.913043</td>\n",
       "      <td>0.555556</td>\n",
       "      <td>Based on your examples, I've learned that the ...</td>\n",
       "      <td>def is_rule(obj):\\n    return obj.large or obj...</td>\n",
       "    </tr>\n",
       "  </tbody>\n",
       "</table>\n",
       "</div>"
      ],
      "text/plain": [
       "     concept_num                                            concept  \\\n",
       "69          hg26                     one of the largest or smallest   \n",
       "198        hg103                 exactly one blue object in the set   \n",
       "439         hg98                         the unique smallest object   \n",
       "469         hg17                     there is a triangle in the set   \n",
       "474         hg71  does not exist another object with same shape ...   \n",
       "501         hg96                                  the unique object   \n",
       "602         hg35                      larger than some other object   \n",
       "658        hg106  exactly one blue object that is the same shape...   \n",
       "687         hg99                                one of the smallest   \n",
       "705        hg108       all other objects of the same shape are blue   \n",
       "749        hg105     exactly one blue object that is the same shape   \n",
       "762         hg72          same shape as another object that is blue   \n",
       "999         hg37                        same shape as a blue object   \n",
       "1012        hg41               green or same shape as a blue object   \n",
       "1026        hg34  blue or (larger or equal in size to all other ...   \n",
       "\n",
       "                                        rule_expression  coverage_manual_code  \\\n",
       "69    (large and green) or (large and circle) or (gr...              0.423077   \n",
       "198       (triangle or rectangle) and (small or medium)              0.557143   \n",
       "439   (small and not yellow) or (medium and blue) or...              0.666667   \n",
       "469   not(small or blue) or ((small and yellow and t...              0.679012   \n",
       "474                         small or green or rectangle              0.679487   \n",
       "501                                           rectangle              0.680000   \n",
       "602   (large and blue) or (medium and yellow) or ((t...              0.705882   \n",
       "658   (large and green and rectangle) or (small and ...              0.730769   \n",
       "687                                small and not yellow              0.738462   \n",
       "705   (green and not rectangle) or blue or (yellow a...              0.742424   \n",
       "749                                   blue or rectangle              0.750000   \n",
       "762   (triangle or rectangle) and (blue or yellow) a...              0.750000   \n",
       "999           (blue) or (small and yellow and triangle)              0.885714   \n",
       "1012  not (small and yellow and circle) and not (lar...              0.904110   \n",
       "1026                                      large or blue              0.913043   \n",
       "\n",
       "        chance                                        model_reply  \\\n",
       "69    0.795858  Based on your examples, I've learned that the ...   \n",
       "198   0.549634  Based on your examples, I've learned that the ...   \n",
       "439   0.659735  Based on your examples, I've learned that the ...   \n",
       "469   0.604329  Based on your examples, I've learned that the ...   \n",
       "474   0.739645  Based on your examples, I've learned that the ...   \n",
       "501   0.875556  Based on your examples, I've learned that the ...   \n",
       "602   0.500433  Based on your examples, I've learned that the ...   \n",
       "658   0.673899  Based on your examples, I've learned that the ...   \n",
       "687   0.501065  Based on your examples, I've learned that the ...   \n",
       "705   0.537190  Based on your examples, I've learned that the ...   \n",
       "749   0.500386  Based on your examples, I've learned that the ...   \n",
       "762   0.683172  Based on your examples, I've learned that the ...   \n",
       "999   0.568980  Based on your examples, I've learned that the ...   \n",
       "1012  0.707262  Based on your examples, I've learned that the ...   \n",
       "1026  0.555556  Based on your examples, I've learned that the ...   \n",
       "\n",
       "                                            manual_code  \n",
       "69    def is_rule(obj):\\n    return (obj.large and o...  \n",
       "198   def is_rule(obj):\\n    return (obj.triangle or...  \n",
       "439   def is_rule(obj):\\n    return (obj.small and n...  \n",
       "469   def is_rule(obj):\\n    return not(obj.small or...  \n",
       "474   def is_rule(obj):\\n    return obj.small or obj...  \n",
       "501         def is_rule(obj):\\n    return obj.rectangle  \n",
       "602   def is_rule(obj):\\n    return (obj.large and o...  \n",
       "658   def is_rule(obj):\\n    return (obj.large and o...  \n",
       "687   def is_rule(obj):\\n    return obj.small and no...  \n",
       "705   def is_rule(obj):\\n    return (obj.green and n...  \n",
       "749   def is_rule(obj):\\n    return obj.blue or obj....  \n",
       "762   def is_rule(obj):\\n    return (obj.triangle or...  \n",
       "999   def is_rule(obj):\\n    return (obj.blue) or (o...  \n",
       "1012  def is_rule(obj):\\n    return not (obj.small a...  \n",
       "1026  def is_rule(obj):\\n    return obj.large or obj...  "
      ]
     },
     "execution_count": 61,
     "metadata": {},
     "output_type": "execute_result"
    }
   ],
   "source": [
    "manual_rule_coverage = pd.read_csv('./results/experiment_2/compiled_fol_rules_annotated_subset_stats.csv')\n",
    "mdf = manual_rule_coverage.drop_duplicates(['concept', 'set'])\n",
    "print(\"Average Coverage (excluding first sets)\", manual_rule_coverage[manual_rule_coverage['coverage_manual_code'] >= 0]['coverage_manual_code'].mean())\n",
    "print(\"Average Consistency (excluding no-replies)\", manual_rule_coverage.dropna()['consistency'].mean())\n",
    "print(\"Arrived at right rule on last set\", (mdf[mdf['set'] == 25]['coverage_manual_code'] == 1).mean())\n",
    "print(\"Arrived at right rule on any of last five\", mdf[mdf['set'] >= 20].groupby('concept').apply(lambda x: (x['full_coverage_manual_code'] == 1).sum() > 0).reset_index().loc[:, 0].mean())\n",
    "fdf = mdf[mdf['set'] == 25].sort_values('coverage_manual_code')\n",
    "fdf.loc[:, ['concept_num', 'concept',  'rule_expression', 'coverage_manual_code', 'chance', 'model_reply', 'manual_code', ]]"
   ]
  },
  {
   "cell_type": "code",
   "execution_count": null,
   "metadata": {},
   "outputs": [],
   "source": [
    "manual_rule_coverage[manual_rule_coverage['coverage_manual_code'] >= 0].loc[:, ['concept', 'coverage_manual_code']].groupby(['concept']).mean()"
   ]
  },
  {
   "cell_type": "markdown",
   "metadata": {},
   "source": [
    "###  FOL Annotated Last Sets"
   ]
  },
  {
   "cell_type": "code",
   "execution_count": 52,
   "metadata": {},
   "outputs": [
    {
     "name": "stderr",
     "output_type": "stream",
     "text": [
      "  4%|▎         | 217/5905 [00:00<00:02, 2123.23it/s]"
     ]
    },
    {
     "name": "stdout",
     "output_type": "stream",
     "text": [
      "0.5797101449275363\n",
      "0     False\n",
      "1     False\n",
      "2      True\n",
      "3      True\n",
      "4      True\n",
      "      ...  \n",
      "64    False\n",
      "65    False\n",
      "66     True\n",
      "67     True\n",
      "68     True\n",
      "Name: answer, Length: 69, dtype: bool\n"
     ]
    },
    {
     "name": "stderr",
     "output_type": "stream",
     "text": [
      "100%|██████████| 5905/5905 [02:06<00:00, 46.64it/s]  \n"
     ]
    },
    {
     "data": {
      "text/html": [
       "<div>\n",
       "<style scoped>\n",
       "    .dataframe tbody tr th:only-of-type {\n",
       "        vertical-align: middle;\n",
       "    }\n",
       "\n",
       "    .dataframe tbody tr th {\n",
       "        vertical-align: top;\n",
       "    }\n",
       "\n",
       "    .dataframe thead th {\n",
       "        text-align: right;\n",
       "    }\n",
       "</style>\n",
       "<table border=\"1\" class=\"dataframe\">\n",
       "  <thead>\n",
       "    <tr style=\"text-align: right;\">\n",
       "      <th></th>\n",
       "      <th>concept_num</th>\n",
       "      <th>coverage_manual_code</th>\n",
       "      <th>human_lq</th>\n",
       "      <th>concept</th>\n",
       "      <th>rule_expression</th>\n",
       "    </tr>\n",
       "  </thead>\n",
       "  <tbody>\n",
       "    <tr>\n",
       "      <th>2731</th>\n",
       "      <td>hg47</td>\n",
       "      <td>0.207317</td>\n",
       "      <td>0.724638</td>\n",
       "      <td>(same shape as one of the largest) or blue</td>\n",
       "      <td>medium and (same color as last `True’ object) ...</td>\n",
       "    </tr>\n",
       "    <tr>\n",
       "      <th>2735</th>\n",
       "      <td>hg47</td>\n",
       "      <td>0.207317</td>\n",
       "      <td>0.724638</td>\n",
       "      <td>(same shape as one of the largest) or blue</td>\n",
       "      <td>medium and (same color as last `True’ object) ...</td>\n",
       "    </tr>\n",
       "    <tr>\n",
       "      <th>2095</th>\n",
       "      <td>hg39</td>\n",
       "      <td>0.223684</td>\n",
       "      <td>0.872500</td>\n",
       "      <td>same shape as a blue or green object</td>\n",
       "      <td>((small and circle) or (small and rectangle)) ...</td>\n",
       "    </tr>\n",
       "    <tr>\n",
       "      <th>1130</th>\n",
       "      <td>hg26</td>\n",
       "      <td>0.230769</td>\n",
       "      <td>0.857143</td>\n",
       "      <td>one of the largest or smallest</td>\n",
       "      <td>(medium and green) or (medium and blue)</td>\n",
       "    </tr>\n",
       "    <tr>\n",
       "      <th>5304</th>\n",
       "      <td>hg91</td>\n",
       "      <td>0.244444</td>\n",
       "      <td>0.851779</td>\n",
       "      <td>same shape as an object that is blue or green</td>\n",
       "      <td>small and blue and (rectangle or triangle)</td>\n",
       "    </tr>\n",
       "    <tr>\n",
       "      <th>...</th>\n",
       "      <td>...</td>\n",
       "      <td>...</td>\n",
       "      <td>...</td>\n",
       "      <td>...</td>\n",
       "      <td>...</td>\n",
       "    </tr>\n",
       "    <tr>\n",
       "      <th>3171</th>\n",
       "      <td>hg53</td>\n",
       "      <td>0.953846</td>\n",
       "      <td>0.959079</td>\n",
       "      <td>the unique object that is (blue and circle)</td>\n",
       "      <td>small and blue and triangle</td>\n",
       "    </tr>\n",
       "    <tr>\n",
       "      <th>3108</th>\n",
       "      <td>hg52</td>\n",
       "      <td>0.962025</td>\n",
       "      <td>0.909091</td>\n",
       "      <td>(blue or green) and no other object is blue or...</td>\n",
       "      <td>small and blue and circle</td>\n",
       "    </tr>\n",
       "    <tr>\n",
       "      <th>3107</th>\n",
       "      <td>hg52</td>\n",
       "      <td>0.962025</td>\n",
       "      <td>0.909091</td>\n",
       "      <td>(blue or green) and no other object is blue or...</td>\n",
       "      <td>small and blue and circle</td>\n",
       "    </tr>\n",
       "    <tr>\n",
       "      <th>3260</th>\n",
       "      <td>hg54</td>\n",
       "      <td>0.977778</td>\n",
       "      <td>0.947464</td>\n",
       "      <td>(blue or circle) and no other object is (blue ...</td>\n",
       "      <td>small and blue and triangle</td>\n",
       "    </tr>\n",
       "    <tr>\n",
       "      <th>3170</th>\n",
       "      <td>hg53</td>\n",
       "      <td>0.984615</td>\n",
       "      <td>0.959079</td>\n",
       "      <td>the unique object that is (blue and circle)</td>\n",
       "      <td>small and blue and circle</td>\n",
       "    </tr>\n",
       "  </tbody>\n",
       "</table>\n",
       "<p>252 rows × 5 columns</p>\n",
       "</div>"
      ],
      "text/plain": [
       "     concept_num  coverage_manual_code  human_lq  \\\n",
       "2731        hg47              0.207317  0.724638   \n",
       "2735        hg47              0.207317  0.724638   \n",
       "2095        hg39              0.223684  0.872500   \n",
       "1130        hg26              0.230769  0.857143   \n",
       "5304        hg91              0.244444  0.851779   \n",
       "...          ...                   ...       ...   \n",
       "3171        hg53              0.953846  0.959079   \n",
       "3108        hg52              0.962025  0.909091   \n",
       "3107        hg52              0.962025  0.909091   \n",
       "3260        hg54              0.977778  0.947464   \n",
       "3170        hg53              0.984615  0.959079   \n",
       "\n",
       "                                                concept  \\\n",
       "2731         (same shape as one of the largest) or blue   \n",
       "2735         (same shape as one of the largest) or blue   \n",
       "2095               same shape as a blue or green object   \n",
       "1130                     one of the largest or smallest   \n",
       "5304      same shape as an object that is blue or green   \n",
       "...                                                 ...   \n",
       "3171        the unique object that is (blue and circle)   \n",
       "3108  (blue or green) and no other object is blue or...   \n",
       "3107  (blue or green) and no other object is blue or...   \n",
       "3260  (blue or circle) and no other object is (blue ...   \n",
       "3170        the unique object that is (blue and circle)   \n",
       "\n",
       "                                        rule_expression  \n",
       "2731  medium and (same color as last `True’ object) ...  \n",
       "2735  medium and (same color as last `True’ object) ...  \n",
       "2095  ((small and circle) or (small and rectangle)) ...  \n",
       "1130            (medium and green) or (medium and blue)  \n",
       "5304         small and blue and (rectangle or triangle)  \n",
       "...                                                 ...  \n",
       "3171                        small and blue and triangle  \n",
       "3108                          small and blue and circle  \n",
       "3107                          small and blue and circle  \n",
       "3260                        small and blue and triangle  \n",
       "3170                          small and blue and circle  \n",
       "\n",
       "[252 rows x 5 columns]"
      ]
     },
     "execution_count": 52,
     "metadata": {},
     "output_type": "execute_result"
    }
   ],
   "source": [
    "manual_rule_coverage = check_rule_coverage(\n",
    "    pd.read_csv('./results/experiment_2/compiled_fol_rules_annotated_last_sets.csv'), only_eval_last_set=True\n",
    "    ).sort_values(['coverage_manual_code'])\n",
    "manual_rule_coverage = manual_rule_coverage[manual_rule_coverage['to_annotate']]\n",
    "manual_rule_coverage.to_csv('./results/experiment_2/compiled_fol_rules_annotated_last_sets_stats.csv')\n",
    "manual_rule_coverage.loc[:, ['concept_num', 'coverage_manual_code', 'human_lq', 'concept', 'rule_expression']]"
   ]
  },
  {
   "cell_type": "code",
   "execution_count": 58,
   "metadata": {},
   "outputs": [
    {
     "name": "stdout",
     "output_type": "stream",
     "text": [
      "Arrived at right rule on last set 0.0\n"
     ]
    },
    {
     "data": {
      "text/html": [
       "<div>\n",
       "<style scoped>\n",
       "    .dataframe tbody tr th:only-of-type {\n",
       "        vertical-align: middle;\n",
       "    }\n",
       "\n",
       "    .dataframe tbody tr th {\n",
       "        vertical-align: top;\n",
       "    }\n",
       "\n",
       "    .dataframe thead th {\n",
       "        text-align: right;\n",
       "    }\n",
       "</style>\n",
       "<table border=\"1\" class=\"dataframe\">\n",
       "  <thead>\n",
       "    <tr style=\"text-align: right;\">\n",
       "      <th></th>\n",
       "      <th>concept_num</th>\n",
       "      <th>concept</th>\n",
       "      <th>rule_expression</th>\n",
       "      <th>coverage_manual_code</th>\n",
       "      <th>chance</th>\n",
       "      <th>model_reply</th>\n",
       "      <th>manual_code</th>\n",
       "    </tr>\n",
       "  </thead>\n",
       "  <tbody>\n",
       "    <tr>\n",
       "      <th>2731</th>\n",
       "      <td>hg47</td>\n",
       "      <td>(same shape as one of the largest) or blue</td>\n",
       "      <td>medium and (same color as last `True’ object) ...</td>\n",
       "      <td>0.207317</td>\n",
       "      <td>0.685901</td>\n",
       "      <td>Based on your examples, I've learned that the ...</td>\n",
       "      <td>def is_rule(obj):\\n    return obj.medium and (...</td>\n",
       "    </tr>\n",
       "    <tr>\n",
       "      <th>2095</th>\n",
       "      <td>hg39</td>\n",
       "      <td>same shape as a blue or green object</td>\n",
       "      <td>((small and circle) or (small and rectangle)) ...</td>\n",
       "      <td>0.223684</td>\n",
       "      <td>0.771468</td>\n",
       "      <td>Based on your examples, I've learned that the ...</td>\n",
       "      <td>def is_rule(obj):\\n    return ((obj.small and ...</td>\n",
       "    </tr>\n",
       "    <tr>\n",
       "      <th>1130</th>\n",
       "      <td>hg26</td>\n",
       "      <td>one of the largest or smallest</td>\n",
       "      <td>(medium and green) or (medium and blue)</td>\n",
       "      <td>0.230769</td>\n",
       "      <td>0.795858</td>\n",
       "      <td>Based on your examples, I've learned that the ...</td>\n",
       "      <td>def is_rule(obj):\\n    return (obj.medium and ...</td>\n",
       "    </tr>\n",
       "    <tr>\n",
       "      <th>5304</th>\n",
       "      <td>hg91</td>\n",
       "      <td>same shape as an object that is blue or green</td>\n",
       "      <td>small and blue and (rectangle or triangle)</td>\n",
       "      <td>0.244444</td>\n",
       "      <td>0.785432</td>\n",
       "      <td>Based on your examples, I've learned that the ...</td>\n",
       "      <td>def is_rule(obj):\\n    return obj.small and ob...</td>\n",
       "    </tr>\n",
       "    <tr>\n",
       "      <th>2174</th>\n",
       "      <td>hg40</td>\n",
       "      <td>(not blue) and same shape as a blue object</td>\n",
       "      <td>not (small and yellow and circle) and not (lar...</td>\n",
       "      <td>0.265823</td>\n",
       "      <td>0.621855</td>\n",
       "      <td>Based on your examples, I've learned that the ...</td>\n",
       "      <td>def is_rule(obj):\\n    return not (obj.small a...</td>\n",
       "    </tr>\n",
       "    <tr>\n",
       "      <th>...</th>\n",
       "      <td>...</td>\n",
       "      <td>...</td>\n",
       "      <td>...</td>\n",
       "      <td>...</td>\n",
       "      <td>...</td>\n",
       "      <td>...</td>\n",
       "      <td>...</td>\n",
       "    </tr>\n",
       "    <tr>\n",
       "      <th>5384</th>\n",
       "      <td>hg92</td>\n",
       "      <td>unique blue object</td>\n",
       "      <td>small and blue and (rectangle or triangle)</td>\n",
       "      <td>0.820513</td>\n",
       "      <td>0.757725</td>\n",
       "      <td>Based on your examples, I've learned that the ...</td>\n",
       "      <td>def is_rule(obj):\\n    return obj.small and ob...</td>\n",
       "    </tr>\n",
       "    <tr>\n",
       "      <th>3029</th>\n",
       "      <td>hg51</td>\n",
       "      <td>unique circle</td>\n",
       "      <td>large and blue and triangle</td>\n",
       "      <td>0.822785</td>\n",
       "      <td>0.798109</td>\n",
       "      <td>Based on your examples, I've learned that the ...</td>\n",
       "      <td>def is_rule(obj):\\n    return obj.large and ob...</td>\n",
       "    </tr>\n",
       "    <tr>\n",
       "      <th>3263</th>\n",
       "      <td>hg54</td>\n",
       "      <td>(blue or circle) and no other object is (blue ...</td>\n",
       "      <td>blue and large</td>\n",
       "      <td>0.866667</td>\n",
       "      <td>0.956543</td>\n",
       "      <td>Based on your examples, I've learned that the ...</td>\n",
       "      <td>def is_rule(obj):\\n    return obj.blue and obj...</td>\n",
       "    </tr>\n",
       "    <tr>\n",
       "      <th>3172</th>\n",
       "      <td>hg53</td>\n",
       "      <td>the unique object that is (blue and circle)</td>\n",
       "      <td>small and blue and triangle</td>\n",
       "      <td>0.953846</td>\n",
       "      <td>0.940355</td>\n",
       "      <td>Based on your examples, I've learned that the ...</td>\n",
       "      <td>def is_rule(obj):\\n    return obj.small and ob...</td>\n",
       "    </tr>\n",
       "    <tr>\n",
       "      <th>3108</th>\n",
       "      <td>hg52</td>\n",
       "      <td>(blue or green) and no other object is blue or...</td>\n",
       "      <td>small and blue and circle</td>\n",
       "      <td>0.962025</td>\n",
       "      <td>0.950649</td>\n",
       "      <td>Based on your examples, I've learned that the ...</td>\n",
       "      <td>def is_rule(obj):\\n    return obj.small and ob...</td>\n",
       "    </tr>\n",
       "  </tbody>\n",
       "</table>\n",
       "<p>75 rows × 7 columns</p>\n",
       "</div>"
      ],
      "text/plain": [
       "     concept_num                                            concept  \\\n",
       "2731        hg47         (same shape as one of the largest) or blue   \n",
       "2095        hg39               same shape as a blue or green object   \n",
       "1130        hg26                     one of the largest or smallest   \n",
       "5304        hg91      same shape as an object that is blue or green   \n",
       "2174        hg40         (not blue) and same shape as a blue object   \n",
       "...          ...                                                ...   \n",
       "5384        hg92                                 unique blue object   \n",
       "3029        hg51                                      unique circle   \n",
       "3263        hg54  (blue or circle) and no other object is (blue ...   \n",
       "3172        hg53        the unique object that is (blue and circle)   \n",
       "3108        hg52  (blue or green) and no other object is blue or...   \n",
       "\n",
       "                                        rule_expression  coverage_manual_code  \\\n",
       "2731  medium and (same color as last `True’ object) ...              0.207317   \n",
       "2095  ((small and circle) or (small and rectangle)) ...              0.223684   \n",
       "1130            (medium and green) or (medium and blue)              0.230769   \n",
       "5304         small and blue and (rectangle or triangle)              0.244444   \n",
       "2174  not (small and yellow and circle) and not (lar...              0.265823   \n",
       "...                                                 ...                   ...   \n",
       "5384         small and blue and (rectangle or triangle)              0.820513   \n",
       "3029                        large and blue and triangle              0.822785   \n",
       "3263                                     blue and large              0.866667   \n",
       "3172                        small and blue and triangle              0.953846   \n",
       "3108                          small and blue and circle              0.962025   \n",
       "\n",
       "        chance                                        model_reply  \\\n",
       "2731  0.685901  Based on your examples, I've learned that the ...   \n",
       "2095  0.771468  Based on your examples, I've learned that the ...   \n",
       "1130  0.795858  Based on your examples, I've learned that the ...   \n",
       "5304  0.785432  Based on your examples, I've learned that the ...   \n",
       "2174  0.621855  Based on your examples, I've learned that the ...   \n",
       "...        ...                                                ...   \n",
       "5384  0.757725  Based on your examples, I've learned that the ...   \n",
       "3029  0.798109  Based on your examples, I've learned that the ...   \n",
       "3263  0.956543  Based on your examples, I've learned that the ...   \n",
       "3172  0.940355  Based on your examples, I've learned that the ...   \n",
       "3108  0.950649  Based on your examples, I've learned that the ...   \n",
       "\n",
       "                                            manual_code  \n",
       "2731  def is_rule(obj):\\n    return obj.medium and (...  \n",
       "2095  def is_rule(obj):\\n    return ((obj.small and ...  \n",
       "1130  def is_rule(obj):\\n    return (obj.medium and ...  \n",
       "5304  def is_rule(obj):\\n    return obj.small and ob...  \n",
       "2174  def is_rule(obj):\\n    return not (obj.small a...  \n",
       "...                                                 ...  \n",
       "5384  def is_rule(obj):\\n    return obj.small and ob...  \n",
       "3029  def is_rule(obj):\\n    return obj.large and ob...  \n",
       "3263  def is_rule(obj):\\n    return obj.blue and obj...  \n",
       "3172  def is_rule(obj):\\n    return obj.small and ob...  \n",
       "3108  def is_rule(obj):\\n    return obj.small and ob...  \n",
       "\n",
       "[75 rows x 7 columns]"
      ]
     },
     "execution_count": 58,
     "metadata": {},
     "output_type": "execute_result"
    }
   ],
   "source": [
    "mdf = manual_rule_coverage.drop_duplicates(['concept', 'set'])\n",
    "print(\"Arrived at right rule on last set\", (mdf[mdf['set'] == 25]['coverage_manual_code'] == 1).mean())\n",
    "fdf = mdf[mdf['set'] == 25].sort_values('coverage_manual_code')\n",
    "fdf.loc[:, ['concept_num', 'concept',  'rule_expression', 'coverage_manual_code', 'chance', 'model_reply', 'manual_code', ]]"
   ]
  },
  {
   "cell_type": "markdown",
   "metadata": {},
   "source": [
    "# PTG16 Model Hypotheses"
   ]
  },
  {
   "cell_type": "code",
   "execution_count": 73,
   "metadata": {},
   "outputs": [],
   "source": [
    "def convert_bayesian_model_file(in_bool=True):\n",
    "    \"\"\"\n",
    "    hg13L2\t2\t1\t0\t11\t13\t0.854544341564178466796875\t0.26362450824922234460245817899704\t\"λx.apply1(apply2(size-gt,x.o),x.o)\n",
    "    \"\"\"\n",
    "    df_dict = {k: [] for k in ['concept', 'is_bool', 'item_num', 'set_num', 'answer', 'hyes', 'hno', 'p(yes)', 'lambda_rule']}\n",
    "    with open('./data/PTG16_model.txt', 'r') as f:\n",
    "        for line in f.readlines():\n",
    "            concept, item_num, set_num, answer, hyes, hno, alpha, posterior, rule = line.split(\"\\t\")\n",
    "            df_dict['concept'].append(concept[:-2])\n",
    "            df_dict['is_bool'].append((concept[:-2] in SUBSETS['boolean']) == in_bool)\n",
    "            df_dict['item_num'].append(item_num)\n",
    "            df_dict['set_num'].append(set_num)\n",
    "            df_dict['answer'].append(answer)\n",
    "            df_dict['hyes'].append(hyes)\n",
    "            df_dict['hno'].append(hno)\n",
    "            df_dict['p(yes)'].append(float(posterior))\n",
    "            df_dict['lambda_rule'].append(rule)\n",
    "\n",
    "    ptg16_df = pd.DataFrame.from_dict(df_dict)\n",
    "    return ptg16_df"
   ]
  },
  {
   "cell_type": "code",
   "execution_count": 75,
   "metadata": {},
   "outputs": [],
   "source": [
    "from src.utils.preprocess import format_shape\n",
    "\n",
    "def fill_in_bayesian_model_df(df):\n",
    "    with open('./data/labels_to_data.json', 'r') as f:\n",
    "        data = json.load(f)\n",
    "    \n",
    "    object = []\n",
    "    data_answer = []\n",
    "    model_answer = []\n",
    "    df = df.sort_values(['concept', 'item_num'])\n",
    "    for group in df.groupby(['concept']):\n",
    "        concept = group[0][0]\n",
    "        object += [format_shape(i) for s in data[concept]['L2']['sets'][:25] for i in s]\n",
    "        data_answer += [i for s in data[concept]['L2']['answers'][:25] for i in s]\n",
    "\n",
    "    model_answer = df.apply(lambda x: x['p(yes)'] > 0.5, axis=1)\n",
    "    concept_names = df['concept'].apply(lambda x: READABLE[x])\n",
    "    df['object'] = object\n",
    "    df['concept_num'] = df['concept']\n",
    "    df['set'] = df['set_num']\n",
    "    df['concept'] = concept_names\n",
    "    df['data_answer'] = data_answer\n",
    "    df['model_answer'] = model_answer\n",
    "    return df\n",
    "\n",
    "df = fill_in_bayesian_model_df(convert_bayesian_model_file(in_bool=False))\n",
    "df.to_csv('./results/experiment_2/PTG16_model_fol_rules.csv')"
   ]
  },
  {
   "cell_type": "code",
   "execution_count": 34,
   "metadata": {},
   "outputs": [
    {
     "name": "stderr",
     "output_type": "stream",
     "text": [
      "100%|██████████| 2555/2555 [00:16<00:00, 156.10it/s]\n"
     ]
    }
   ],
   "source": [
    "manual_rule_coverage = check_rule_coverage(df).sort_values(['coverage_manual_code'])"
   ]
  },
  {
   "cell_type": "code",
   "execution_count": 45,
   "metadata": {},
   "outputs": [],
   "source": [
    "manual_rule_coverage.sort_values(by=['Unnamed: 0']).to_csv('./results/experiment_2/PTG16_model_bool_rules_annotated_stats.csv')"
   ]
  },
  {
   "cell_type": "code",
   "execution_count": 66,
   "metadata": {},
   "outputs": [
    {
     "name": "stdout",
     "output_type": "stream",
     "text": [
      "Consistency 0.875146771037182\n",
      "Coverage 0.8772671571166183\n",
      "Last object set rate 0.7352941176470589\n"
     ]
    },
    {
     "data": {
      "text/html": [
       "<div>\n",
       "<style scoped>\n",
       "    .dataframe tbody tr th:only-of-type {\n",
       "        vertical-align: middle;\n",
       "    }\n",
       "\n",
       "    .dataframe tbody tr th {\n",
       "        vertical-align: top;\n",
       "    }\n",
       "\n",
       "    .dataframe thead th {\n",
       "        text-align: right;\n",
       "    }\n",
       "</style>\n",
       "<table border=\"1\" class=\"dataframe\">\n",
       "  <thead>\n",
       "    <tr style=\"text-align: right;\">\n",
       "      <th></th>\n",
       "      <th>concept</th>\n",
       "      <th>rule_expression</th>\n",
       "      <th>full_coverage_manual_code</th>\n",
       "    </tr>\n",
       "  </thead>\n",
       "  <tbody>\n",
       "    <tr>\n",
       "      <th>2463</th>\n",
       "      <td>blue</td>\n",
       "      <td>yellow (and not) green</td>\n",
       "      <td>0.304878</td>\n",
       "    </tr>\n",
       "    <tr>\n",
       "      <th>500</th>\n",
       "      <td>(circle and blue) or (triangle and green)</td>\n",
       "      <td>not ((yellow or rectangle) and (green iff tria...</td>\n",
       "      <td>0.518519</td>\n",
       "    </tr>\n",
       "    <tr>\n",
       "      <th>1027</th>\n",
       "      <td>large or small</td>\n",
       "      <td>not medium</td>\n",
       "      <td>0.607595</td>\n",
       "    </tr>\n",
       "    <tr>\n",
       "      <th>1406</th>\n",
       "      <td>not (circle and blue)</td>\n",
       "      <td>not (blue or circle)</td>\n",
       "      <td>0.623377</td>\n",
       "    </tr>\n",
       "    <tr>\n",
       "      <th>1567</th>\n",
       "      <td>circle and blue</td>\n",
       "      <td>larger than itself</td>\n",
       "      <td>0.910256</td>\n",
       "    </tr>\n",
       "    <tr>\n",
       "      <th>2218</th>\n",
       "      <td>circle implies blue</td>\n",
       "      <td>not circle</td>\n",
       "      <td>0.929577</td>\n",
       "    </tr>\n",
       "    <tr>\n",
       "      <th>418</th>\n",
       "      <td>(circle or blue) or  (triangle and green)</td>\n",
       "      <td>not ((rectangle and green) or yellow)</td>\n",
       "      <td>0.929577</td>\n",
       "    </tr>\n",
       "    <tr>\n",
       "      <th>72</th>\n",
       "      <td>circle and not blue</td>\n",
       "      <td>circle and yellow</td>\n",
       "      <td>0.958904</td>\n",
       "    </tr>\n",
       "    <tr>\n",
       "      <th>1189</th>\n",
       "      <td>circle and (not blue)</td>\n",
       "      <td>circle and green</td>\n",
       "      <td>0.958904</td>\n",
       "    </tr>\n",
       "    <tr>\n",
       "      <th>809</th>\n",
       "      <td>small and blue</td>\n",
       "      <td>small and blue</td>\n",
       "      <td>1.000000</td>\n",
       "    </tr>\n",
       "    <tr>\n",
       "      <th>1850</th>\n",
       "      <td>blue or small</td>\n",
       "      <td>small or blue</td>\n",
       "      <td>1.000000</td>\n",
       "    </tr>\n",
       "    <tr>\n",
       "      <th>587</th>\n",
       "      <td>medium or small</td>\n",
       "      <td>not large</td>\n",
       "      <td>1.000000</td>\n",
       "    </tr>\n",
       "    <tr>\n",
       "      <th>1331</th>\n",
       "      <td>(circle or triangle) implies blue</td>\n",
       "      <td>blue or rectangle</td>\n",
       "      <td>1.000000</td>\n",
       "    </tr>\n",
       "    <tr>\n",
       "      <th>1782</th>\n",
       "      <td>blue implies size 1</td>\n",
       "      <td>(not blue) or small</td>\n",
       "      <td>1.000000</td>\n",
       "    </tr>\n",
       "    <tr>\n",
       "      <th>1268</th>\n",
       "      <td>circle or (triangle implies blue)</td>\n",
       "      <td>(not triangle) or blue</td>\n",
       "      <td>1.000000</td>\n",
       "    </tr>\n",
       "    <tr>\n",
       "      <th>878</th>\n",
       "      <td>circle or (blue and triangle)</td>\n",
       "      <td>(blue and triangle) or circle</td>\n",
       "      <td>1.000000</td>\n",
       "    </tr>\n",
       "    <tr>\n",
       "      <th>1717</th>\n",
       "      <td>(not blue) implies (not circle)</td>\n",
       "      <td>(not circle) or blue</td>\n",
       "      <td>1.000000</td>\n",
       "    </tr>\n",
       "    <tr>\n",
       "      <th>1117</th>\n",
       "      <td>blue implies circle</td>\n",
       "      <td>(circle or yellow) or green</td>\n",
       "      <td>1.000000</td>\n",
       "    </tr>\n",
       "    <tr>\n",
       "      <th>2383</th>\n",
       "      <td>(not blue) implies circle</td>\n",
       "      <td>circle or blue</td>\n",
       "      <td>1.000000</td>\n",
       "    </tr>\n",
       "    <tr>\n",
       "      <th>655</th>\n",
       "      <td>large</td>\n",
       "      <td>large</td>\n",
       "      <td>1.000000</td>\n",
       "    </tr>\n",
       "    <tr>\n",
       "      <th>734</th>\n",
       "      <td>circle or blue</td>\n",
       "      <td>circle or blue</td>\n",
       "      <td>1.000000</td>\n",
       "    </tr>\n",
       "    <tr>\n",
       "      <th>2553</th>\n",
       "      <td>not circle</td>\n",
       "      <td>not circle</td>\n",
       "      <td>1.000000</td>\n",
       "    </tr>\n",
       "    <tr>\n",
       "      <th>2295</th>\n",
       "      <td>blue or green</td>\n",
       "      <td>not yellow</td>\n",
       "      <td>1.000000</td>\n",
       "    </tr>\n",
       "    <tr>\n",
       "      <th>2001</th>\n",
       "      <td>circle or triangle</td>\n",
       "      <td>not rectangle</td>\n",
       "      <td>1.000000</td>\n",
       "    </tr>\n",
       "    <tr>\n",
       "      <th>349</th>\n",
       "      <td>true</td>\n",
       "      <td>same color as itself</td>\n",
       "      <td>1.000000</td>\n",
       "    </tr>\n",
       "    <tr>\n",
       "      <th>286</th>\n",
       "      <td>circle</td>\n",
       "      <td>circle</td>\n",
       "      <td>1.000000</td>\n",
       "    </tr>\n",
       "    <tr>\n",
       "      <th>150</th>\n",
       "      <td>false</td>\n",
       "      <td>larger than itself</td>\n",
       "      <td>1.000000</td>\n",
       "    </tr>\n",
       "    <tr>\n",
       "      <th>1922</th>\n",
       "      <td>medium</td>\n",
       "      <td>medium</td>\n",
       "      <td>1.000000</td>\n",
       "    </tr>\n",
       "    <tr>\n",
       "      <th>1643</th>\n",
       "      <td>large or medium</td>\n",
       "      <td>not small</td>\n",
       "      <td>1.000000</td>\n",
       "    </tr>\n",
       "    <tr>\n",
       "      <th>2074</th>\n",
       "      <td>small</td>\n",
       "      <td>small</td>\n",
       "      <td>1.000000</td>\n",
       "    </tr>\n",
       "    <tr>\n",
       "      <th>1493</th>\n",
       "      <td>not (circle or blue)</td>\n",
       "      <td>not (blue or circle)</td>\n",
       "      <td>1.000000</td>\n",
       "    </tr>\n",
       "    <tr>\n",
       "      <th>216</th>\n",
       "      <td>circle xor (not blue)</td>\n",
       "      <td>blue iff circle</td>\n",
       "      <td>1.000000</td>\n",
       "    </tr>\n",
       "    <tr>\n",
       "      <th>2151</th>\n",
       "      <td>not (circle xor blue)</td>\n",
       "      <td>blue iff circle</td>\n",
       "      <td>1.000000</td>\n",
       "    </tr>\n",
       "    <tr>\n",
       "      <th>948</th>\n",
       "      <td>circle xor blue</td>\n",
       "      <td>circle iff (yellow or green)</td>\n",
       "      <td>1.000000</td>\n",
       "    </tr>\n",
       "  </tbody>\n",
       "</table>\n",
       "</div>"
      ],
      "text/plain": [
       "                                        concept  \\\n",
       "2463                                       blue   \n",
       "500   (circle and blue) or (triangle and green)   \n",
       "1027                             large or small   \n",
       "1406                      not (circle and blue)   \n",
       "1567                            circle and blue   \n",
       "2218                        circle implies blue   \n",
       "418   (circle or blue) or  (triangle and green)   \n",
       "72                          circle and not blue   \n",
       "1189                      circle and (not blue)   \n",
       "809                              small and blue   \n",
       "1850                              blue or small   \n",
       "587                             medium or small   \n",
       "1331          (circle or triangle) implies blue   \n",
       "1782                        blue implies size 1   \n",
       "1268          circle or (triangle implies blue)   \n",
       "878               circle or (blue and triangle)   \n",
       "1717            (not blue) implies (not circle)   \n",
       "1117                        blue implies circle   \n",
       "2383                  (not blue) implies circle   \n",
       "655                                       large   \n",
       "734                              circle or blue   \n",
       "2553                                 not circle   \n",
       "2295                              blue or green   \n",
       "2001                         circle or triangle   \n",
       "349                                        true   \n",
       "286                                      circle   \n",
       "150                                       false   \n",
       "1922                                     medium   \n",
       "1643                            large or medium   \n",
       "2074                                      small   \n",
       "1493                       not (circle or blue)   \n",
       "216                       circle xor (not blue)   \n",
       "2151                      not (circle xor blue)   \n",
       "948                             circle xor blue   \n",
       "\n",
       "                                        rule_expression  \\\n",
       "2463                             yellow (and not) green   \n",
       "500   not ((yellow or rectangle) and (green iff tria...   \n",
       "1027                                         not medium   \n",
       "1406                               not (blue or circle)   \n",
       "1567                                 larger than itself   \n",
       "2218                                         not circle   \n",
       "418               not ((rectangle and green) or yellow)   \n",
       "72                                    circle and yellow   \n",
       "1189                                   circle and green   \n",
       "809                                      small and blue   \n",
       "1850                                      small or blue   \n",
       "587                                           not large   \n",
       "1331                                  blue or rectangle   \n",
       "1782                                (not blue) or small   \n",
       "1268                             (not triangle) or blue   \n",
       "878                       (blue and triangle) or circle   \n",
       "1717                               (not circle) or blue   \n",
       "1117                        (circle or yellow) or green   \n",
       "2383                                     circle or blue   \n",
       "655                                               large   \n",
       "734                                      circle or blue   \n",
       "2553                                         not circle   \n",
       "2295                                         not yellow   \n",
       "2001                                      not rectangle   \n",
       "349                                same color as itself   \n",
       "286                                              circle   \n",
       "150                                  larger than itself   \n",
       "1922                                             medium   \n",
       "1643                                          not small   \n",
       "2074                                              small   \n",
       "1493                               not (blue or circle)   \n",
       "216                                     blue iff circle   \n",
       "2151                                    blue iff circle   \n",
       "948                        circle iff (yellow or green)   \n",
       "\n",
       "      full_coverage_manual_code  \n",
       "2463                   0.304878  \n",
       "500                    0.518519  \n",
       "1027                   0.607595  \n",
       "1406                   0.623377  \n",
       "1567                   0.910256  \n",
       "2218                   0.929577  \n",
       "418                    0.929577  \n",
       "72                     0.958904  \n",
       "1189                   0.958904  \n",
       "809                    1.000000  \n",
       "1850                   1.000000  \n",
       "587                    1.000000  \n",
       "1331                   1.000000  \n",
       "1782                   1.000000  \n",
       "1268                   1.000000  \n",
       "878                    1.000000  \n",
       "1717                   1.000000  \n",
       "1117                   1.000000  \n",
       "2383                   1.000000  \n",
       "655                    1.000000  \n",
       "734                    1.000000  \n",
       "2553                   1.000000  \n",
       "2295                   1.000000  \n",
       "2001                   1.000000  \n",
       "349                    1.000000  \n",
       "286                    1.000000  \n",
       "150                    1.000000  \n",
       "1922                   1.000000  \n",
       "1643                   1.000000  \n",
       "2074                   1.000000  \n",
       "1493                   1.000000  \n",
       "216                    1.000000  \n",
       "2151                   1.000000  \n",
       "948                    1.000000  "
      ]
     },
     "execution_count": 66,
     "metadata": {},
     "output_type": "execute_result"
    }
   ],
   "source": [
    "print(\"Consistency\", manual_rule_coverage['consistency'].mean())\n",
    "print(\"Coverage\", manual_rule_coverage['coverage_manual_code'].mean())\n",
    "print(\"Last object set rate\", (manual_rule_coverage[manual_rule_coverage['set'] == 24].drop_duplicates('concept').loc[:, ['concept', 'rule_expression', 'full_coverage_manual_code']] == 1)['full_coverage_manual_code'].mean())\n",
    "manual_rule_coverage[manual_rule_coverage['set'] == 24].drop_duplicates('concept').loc[:, ['concept', 'rule_expression', 'full_coverage_manual_code']]"
   ]
  }
 ],
 "metadata": {
  "kernelspec": {
   "display_name": "interp-env",
   "language": "python",
   "name": "python3"
  },
  "language_info": {
   "codemirror_mode": {
    "name": "ipython",
    "version": 3
   },
   "file_extension": ".py",
   "mimetype": "text/x-python",
   "name": "python",
   "nbconvert_exporter": "python",
   "pygments_lexer": "ipython3",
   "version": "3.11.3"
  }
 },
 "nbformat": 4,
 "nbformat_minor": 2
}
