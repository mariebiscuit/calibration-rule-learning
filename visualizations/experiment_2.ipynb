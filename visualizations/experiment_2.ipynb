{
 "cells": [
  {
   "cell_type": "code",
   "execution_count": 2,
   "metadata": {},
   "outputs": [],
   "source": [
    "import pandas as pd\n",
    "import os, sys\n",
    "os.chdir(\"../\")\n",
    "sys.path.append('./src')\n",
    "from utils.get_concept_subsets import SUBSETS"
   ]
  },
  {
   "cell_type": "code",
   "execution_count": 3,
   "metadata": {},
   "outputs": [],
   "source": [
    "dfs = []\n",
    "directories = ['./results/experiment_2/raw_results/gpt4_boolean_translated', \n",
    "              './results/experiment_2/raw_results/gpt4_fol_translated']\n",
    "\n",
    "for directory in directories:\n",
    "    for file in os.listdir(directory):\n",
    "        if file.endswith('.csv'):\n",
    "            df = pd.read_csv(os.path.join(directory, file), index_col=0)\n",
    "            df['consistency'] = df['rule_evaluation'].astype(str) == df['model_answer'].astype(str)\n",
    "\n",
    "            current_set = 0\n",
    "            sets = []\n",
    "            for i, row in df.iterrows():\n",
    "                if df['model_reply'].iloc[i] != df['model_reply'].iloc[i-1]:\n",
    "                    current_set += 1\n",
    "                sets.append(current_set)\n",
    "            df['set'] = sets\n",
    "\n",
    "            df.to_csv(os.path.join(directory, file))\n",
    "            dfs.append(df)\n",
    "\n",
    "mdf = pd.concat(dfs)"
   ]
  },
  {
   "cell_type": "code",
   "execution_count": 3,
   "metadata": {},
   "outputs": [],
   "source": [
    "mdf.to_csv('/users/aloo1/thesis/calibration-rule-learning/results/experiment_2/compiled_all_rules.csv')"
   ]
  },
  {
   "cell_type": "code",
   "execution_count": 31,
   "metadata": {},
   "outputs": [
    {
     "data": {
      "text/plain": [
       "0.8917629792698587"
      ]
     },
     "execution_count": 31,
     "metadata": {},
     "output_type": "execute_result"
    }
   ],
   "source": [
    "mdf[(mdf['set'] >= 3) & (~mdf['concept_num'].isin(SUBSETS['boolean']))]['consistency'].mean()"
   ]
  },
  {
   "cell_type": "code",
   "execution_count": 4,
   "metadata": {},
   "outputs": [
    {
     "data": {
      "text/html": [
       "<div>\n",
       "<style scoped>\n",
       "    .dataframe tbody tr th:only-of-type {\n",
       "        vertical-align: middle;\n",
       "    }\n",
       "\n",
       "    .dataframe tbody tr th {\n",
       "        vertical-align: top;\n",
       "    }\n",
       "\n",
       "    .dataframe thead th {\n",
       "        text-align: right;\n",
       "    }\n",
       "</style>\n",
       "<table border=\"1\" class=\"dataframe\">\n",
       "  <thead>\n",
       "    <tr style=\"text-align: right;\">\n",
       "      <th></th>\n",
       "      <th>rule_match</th>\n",
       "      <th>rule_coverage</th>\n",
       "      <th>concept_num</th>\n",
       "      <th>concept</th>\n",
       "      <th>rule_expression</th>\n",
       "      <th>model_reply</th>\n",
       "      <th>code</th>\n",
       "    </tr>\n",
       "  </thead>\n",
       "  <tbody>\n",
       "    <tr>\n",
       "      <th>66</th>\n",
       "      <td>False</td>\n",
       "      <td>0.818182</td>\n",
       "      <td>hg18</td>\n",
       "      <td>large</td>\n",
       "      <td>large and not circle</td>\n",
       "      <td>Based on your examples, I've learned that the ...</td>\n",
       "      <td>def is_rule(obj):\\n    return obj.large and no...</td>\n",
       "    </tr>\n",
       "    <tr>\n",
       "      <th>68</th>\n",
       "      <td>False</td>\n",
       "      <td>0.779412</td>\n",
       "      <td>hg84</td>\n",
       "      <td>(circle or blue) or  (triangle and green)</td>\n",
       "      <td>blue or green</td>\n",
       "      <td>Based on your examples, I've learned that the ...</td>\n",
       "      <td>def is_rule(obj):\\n    return obj.blue or obj....</td>\n",
       "    </tr>\n",
       "    <tr>\n",
       "      <th>76</th>\n",
       "      <td>False</td>\n",
       "      <td>0.763158</td>\n",
       "      <td>hg83</td>\n",
       "      <td>(circle and blue) or (triangle and green)</td>\n",
       "      <td>(circle or triangle) and (blue or green) and n...</td>\n",
       "      <td>Based on your examples, I've learned that the ...</td>\n",
       "      <td>def is_rule(obj):\\n    return (obj.circle or o...</td>\n",
       "    </tr>\n",
       "    <tr>\n",
       "      <th>60</th>\n",
       "      <td>False</td>\n",
       "      <td>0.483333</td>\n",
       "      <td>hg82</td>\n",
       "      <td>(circle or triangle) implies blue</td>\n",
       "      <td>False</td>\n",
       "      <td>Based on your examples, I've learned that the ...</td>\n",
       "      <td>def is_rule(obj):\\n    return False</td>\n",
       "    </tr>\n",
       "    <tr>\n",
       "      <th>61</th>\n",
       "      <td>False</td>\n",
       "      <td>0.819672</td>\n",
       "      <td>hg81</td>\n",
       "      <td>blue implies size 1</td>\n",
       "      <td>or ( )</td>\n",
       "      <td>Based on your examples, I've learned that the ...</td>\n",
       "      <td>def is_rule(obj):\\n    return obj.color or (ob...</td>\n",
       "    </tr>\n",
       "    <tr>\n",
       "      <th>73</th>\n",
       "      <td>False</td>\n",
       "      <td>1.000000</td>\n",
       "      <td>hg80</td>\n",
       "      <td>(not blue) implies (not circle)</td>\n",
       "      <td>(not circle) or (circle and blue) or triangle ...</td>\n",
       "      <td>Based on your examples, I've learned that the ...</td>\n",
       "      <td>def is_rule(obj):\\n    return (not obj.circle)...</td>\n",
       "    </tr>\n",
       "    <tr>\n",
       "      <th>83</th>\n",
       "      <td>False</td>\n",
       "      <td>0.710843</td>\n",
       "      <td>hg79</td>\n",
       "      <td>(not blue) implies circle</td>\n",
       "      <td>(blue or green) and (circle)</td>\n",
       "      <td>Based on your examples, I've learned that the ...</td>\n",
       "      <td>def is_rule(obj):\\n    return (obj.blue or obj...</td>\n",
       "    </tr>\n",
       "    <tr>\n",
       "      <th>89</th>\n",
       "      <td>False</td>\n",
       "      <td>0.932584</td>\n",
       "      <td>hg78</td>\n",
       "      <td>blue implies circle</td>\n",
       "      <td>not(blue) and not(triangle and blue)</td>\n",
       "      <td>Based on your examples, I've learned that the ...</td>\n",
       "      <td>def is_rule(obj):\\n    return not(obj.blue) an...</td>\n",
       "    </tr>\n",
       "    <tr>\n",
       "      <th>66</th>\n",
       "      <td>False</td>\n",
       "      <td>0.939394</td>\n",
       "      <td>hg77</td>\n",
       "      <td>circle implies blue</td>\n",
       "      <td>rectangle or triangle</td>\n",
       "      <td>Based on your examples, I've learned that the ...</td>\n",
       "      <td>def is_rule(obj):\\n    return obj.rectangle or...</td>\n",
       "    </tr>\n",
       "    <tr>\n",
       "      <th>67</th>\n",
       "      <td>False</td>\n",
       "      <td>0.701493</td>\n",
       "      <td>hg25</td>\n",
       "      <td>blue or small</td>\n",
       "      <td>small and (triangle or rectangle)</td>\n",
       "      <td>Based on your examples, I've learned that the ...</td>\n",
       "      <td>def is_rule(obj):\\n    return obj.small and (o...</td>\n",
       "    </tr>\n",
       "    <tr>\n",
       "      <th>71</th>\n",
       "      <td>False</td>\n",
       "      <td>1.000000</td>\n",
       "      <td>hg24</td>\n",
       "      <td>small and blue</td>\n",
       "      <td>small and blue and (circle or rectangle or tri...</td>\n",
       "      <td>Based on your examples, I've learned that the ...</td>\n",
       "      <td>def is_rule(obj):\\n    return obj.small and ob...</td>\n",
       "    </tr>\n",
       "    <tr>\n",
       "      <th>68</th>\n",
       "      <td>False</td>\n",
       "      <td>1.000000</td>\n",
       "      <td>hg22</td>\n",
       "      <td>large or medium</td>\n",
       "      <td>large or medium and not small</td>\n",
       "      <td>Based on your examples, I've learned that the ...</td>\n",
       "      <td>def is_rule(obj):\\n    return obj.large or obj...</td>\n",
       "    </tr>\n",
       "    <tr>\n",
       "      <th>78</th>\n",
       "      <td>False</td>\n",
       "      <td>0.846154</td>\n",
       "      <td>hg21</td>\n",
       "      <td>large or small</td>\n",
       "      <td>large or (blue or green) and not (medium and b...</td>\n",
       "      <td>Based on your examples, I've learned that the ...</td>\n",
       "      <td>def is_rule(obj):\\n    return obj.large or (ob...</td>\n",
       "    </tr>\n",
       "    <tr>\n",
       "      <th>68</th>\n",
       "      <td>False</td>\n",
       "      <td>1.000000</td>\n",
       "      <td>hg20</td>\n",
       "      <td>small</td>\n",
       "      <td>small and (blue or green or yellow)</td>\n",
       "      <td>Based on your examples, I've learned that the ...</td>\n",
       "      <td>def is_rule(obj):\\n    return obj.small and (o...</td>\n",
       "    </tr>\n",
       "    <tr>\n",
       "      <th>70</th>\n",
       "      <td>False</td>\n",
       "      <td>0.971429</td>\n",
       "      <td>hg19</td>\n",
       "      <td>medium</td>\n",
       "      <td>(medium and (green or blue)) or (yellow and ((...</td>\n",
       "      <td>Based on your examples, I've learned that the ...</td>\n",
       "      <td>def is_rule(obj):\\n    return (obj.medium and ...</td>\n",
       "    </tr>\n",
       "    <tr>\n",
       "      <th>66</th>\n",
       "      <td>False</td>\n",
       "      <td>0.924242</td>\n",
       "      <td>hg85</td>\n",
       "      <td>circle or (blue and triangle)</td>\n",
       "      <td>circle and (blue or yellow) or (triangle and b...</td>\n",
       "      <td>Based on your examples, I've learned that the ...</td>\n",
       "      <td>def is_rule(obj):\\n    return obj.circle and (...</td>\n",
       "    </tr>\n",
       "    <tr>\n",
       "      <th>75</th>\n",
       "      <td>False</td>\n",
       "      <td>1.000000</td>\n",
       "      <td>hg86</td>\n",
       "      <td>circle or (triangle implies blue)</td>\n",
       "      <td>rectangle or (circle) or (triangle and blue)</td>\n",
       "      <td>Based on your examples, I've learned that the ...</td>\n",
       "      <td>def is_rule(obj):\\n    return obj.rectangle or...</td>\n",
       "    </tr>\n",
       "    <tr>\n",
       "      <th>73</th>\n",
       "      <td>False</td>\n",
       "      <td>0.520548</td>\n",
       "      <td>hg15</td>\n",
       "      <td>not (circle xor blue)</td>\n",
       "      <td>green or (triangle)</td>\n",
       "      <td>Based on your examples, I've learned that the ...</td>\n",
       "      <td>def is_rule(obj):\\n    return obj.green or (ob...</td>\n",
       "    </tr>\n",
       "    <tr>\n",
       "      <th>86</th>\n",
       "      <td>False</td>\n",
       "      <td>1.000000</td>\n",
       "      <td>hg05</td>\n",
       "      <td>not circle</td>\n",
       "      <td>triangle or rectangle</td>\n",
       "      <td>Based on your examples, I've learned that the ...</td>\n",
       "      <td>def is_rule(obj):\\n    return obj.triangle or ...</td>\n",
       "    </tr>\n",
       "    <tr>\n",
       "      <th>74</th>\n",
       "      <td>False</td>\n",
       "      <td>1.000000</td>\n",
       "      <td>hg06</td>\n",
       "      <td>circle or blue</td>\n",
       "      <td>(blue or circle) or (yellow or green) and circle</td>\n",
       "      <td>Based on your examples, I've learned that the ...</td>\n",
       "      <td>def is_rule(obj):\\n    return (obj.blue or obj...</td>\n",
       "    </tr>\n",
       "    <tr>\n",
       "      <th>65</th>\n",
       "      <td>False</td>\n",
       "      <td>0.738462</td>\n",
       "      <td>hg16</td>\n",
       "      <td>circle xor (not blue)</td>\n",
       "      <td>not (medium and blue) and not (large and blue)</td>\n",
       "      <td>Based on your examples, I've learned that the ...</td>\n",
       "      <td>def is_rule(obj):\\n    return not (obj.medium ...</td>\n",
       "    </tr>\n",
       "    <tr>\n",
       "      <th>73</th>\n",
       "      <td>False</td>\n",
       "      <td>0.835616</td>\n",
       "      <td>hg09</td>\n",
       "      <td>circle and blue</td>\n",
       "      <td>large and blue</td>\n",
       "      <td>Based on your examples, I've learned that the ...</td>\n",
       "      <td>def is_rule(obj):\\n    return obj.large and ob...</td>\n",
       "    </tr>\n",
       "    <tr>\n",
       "      <th>69</th>\n",
       "      <td>False</td>\n",
       "      <td>1.000000</td>\n",
       "      <td>hg10</td>\n",
       "      <td>circle and (not blue)</td>\n",
       "      <td>circle and (green or yellow)</td>\n",
       "      <td>Based on your examples, I've learned that the ...</td>\n",
       "      <td>def is_rule(obj):\\n    return obj.circle and (...</td>\n",
       "    </tr>\n",
       "    <tr>\n",
       "      <th>72</th>\n",
       "      <td>False</td>\n",
       "      <td>0.944444</td>\n",
       "      <td>hg08</td>\n",
       "      <td>blue or green</td>\n",
       "      <td>green or ((blue and triangle) or (blue and rec...</td>\n",
       "      <td>Based on your examples, I've learned that the ...</td>\n",
       "      <td>def is_rule(obj):\\n    return obj.green or ((o...</td>\n",
       "    </tr>\n",
       "    <tr>\n",
       "      <th>82</th>\n",
       "      <td>False</td>\n",
       "      <td>0.939024</td>\n",
       "      <td>hg12</td>\n",
       "      <td>not (circle or blue)</td>\n",
       "      <td>triangle or (rectangle and (green or yellow))</td>\n",
       "      <td>Based on your examples, I've learned that the ...</td>\n",
       "      <td>def is_rule(obj):\\n    return obj.triangle or ...</td>\n",
       "    </tr>\n",
       "    <tr>\n",
       "      <th>68</th>\n",
       "      <td>False</td>\n",
       "      <td>1.000000</td>\n",
       "      <td>hg13</td>\n",
       "      <td>circle and not blue</td>\n",
       "      <td>(circle and (green or yellow)) or (small and c...</td>\n",
       "      <td>Based on your examples, I've learned that the ...</td>\n",
       "      <td>def is_rule(obj):\\n    return (obj.circle and ...</td>\n",
       "    </tr>\n",
       "    <tr>\n",
       "      <th>69</th>\n",
       "      <td>False</td>\n",
       "      <td>0.565217</td>\n",
       "      <td>hg14</td>\n",
       "      <td>circle xor blue</td>\n",
       "      <td>(circle and ((large and green) or (medium and ...</td>\n",
       "      <td>Based on your examples, I've learned that the ...</td>\n",
       "      <td>def is_rule(obj):\\n    return (obj.circle and ...</td>\n",
       "    </tr>\n",
       "    <tr>\n",
       "      <th>73</th>\n",
       "      <td>False</td>\n",
       "      <td>0.904110</td>\n",
       "      <td>hg11</td>\n",
       "      <td>not (circle and blue)</td>\n",
       "      <td>not (medium and blue)</td>\n",
       "      <td>Based on your examples, I've learned that the ...</td>\n",
       "      <td>def is_rule(obj):\\n    return not (obj.medium ...</td>\n",
       "    </tr>\n",
       "    <tr>\n",
       "      <th>82</th>\n",
       "      <td>True</td>\n",
       "      <td>1.000000</td>\n",
       "      <td>hg23</td>\n",
       "      <td>medium or small</td>\n",
       "      <td>small or medium</td>\n",
       "      <td>Based on your examples, I've learned that the ...</td>\n",
       "      <td>def is_rule(obj):\\n    return obj.small or obj...</td>\n",
       "    </tr>\n",
       "    <tr>\n",
       "      <th>76</th>\n",
       "      <td>True</td>\n",
       "      <td>1.000000</td>\n",
       "      <td>hg07</td>\n",
       "      <td>circle or triangle</td>\n",
       "      <td>triangle or circle</td>\n",
       "      <td>Based on your examples, I've learned that the ...</td>\n",
       "      <td>def is_rule(obj):\\n    return obj.triangle or ...</td>\n",
       "    </tr>\n",
       "    <tr>\n",
       "      <th>66</th>\n",
       "      <td>True</td>\n",
       "      <td>1.000000</td>\n",
       "      <td>hg04</td>\n",
       "      <td>circle</td>\n",
       "      <td>circle</td>\n",
       "      <td>Based on your examples, I've learned that the ...</td>\n",
       "      <td>def is_rule(obj):\\n    return obj.circle</td>\n",
       "    </tr>\n",
       "    <tr>\n",
       "      <th>79</th>\n",
       "      <td>True</td>\n",
       "      <td>1.000000</td>\n",
       "      <td>hg03</td>\n",
       "      <td>blue</td>\n",
       "      <td>blue</td>\n",
       "      <td>Based on your examples, I've learned that the ...</td>\n",
       "      <td>def is_rule(obj):\\n    return obj.blue</td>\n",
       "    </tr>\n",
       "    <tr>\n",
       "      <th>76</th>\n",
       "      <td>True</td>\n",
       "      <td>1.000000</td>\n",
       "      <td>hg02</td>\n",
       "      <td>False</td>\n",
       "      <td>False</td>\n",
       "      <td>Based on your examples, I've learned that the ...</td>\n",
       "      <td>def is_rule(obj):\\n    return False</td>\n",
       "    </tr>\n",
       "    <tr>\n",
       "      <th>61</th>\n",
       "      <td>True</td>\n",
       "      <td>1.000000</td>\n",
       "      <td>hg01</td>\n",
       "      <td>True</td>\n",
       "      <td>True</td>\n",
       "      <td>Based on your examples, I've learned that the ...</td>\n",
       "      <td>def is_rule(obj):\\n    return True</td>\n",
       "    </tr>\n",
       "  </tbody>\n",
       "</table>\n",
       "</div>"
      ],
      "text/plain": [
       "    rule_match  rule_coverage concept_num  \\\n",
       "66       False       0.818182        hg18   \n",
       "68       False       0.779412        hg84   \n",
       "76       False       0.763158        hg83   \n",
       "60       False       0.483333        hg82   \n",
       "61       False       0.819672        hg81   \n",
       "73       False       1.000000        hg80   \n",
       "83       False       0.710843        hg79   \n",
       "89       False       0.932584        hg78   \n",
       "66       False       0.939394        hg77   \n",
       "67       False       0.701493        hg25   \n",
       "71       False       1.000000        hg24   \n",
       "68       False       1.000000        hg22   \n",
       "78       False       0.846154        hg21   \n",
       "68       False       1.000000        hg20   \n",
       "70       False       0.971429        hg19   \n",
       "66       False       0.924242        hg85   \n",
       "75       False       1.000000        hg86   \n",
       "73       False       0.520548        hg15   \n",
       "86       False       1.000000        hg05   \n",
       "74       False       1.000000        hg06   \n",
       "65       False       0.738462        hg16   \n",
       "73       False       0.835616        hg09   \n",
       "69       False       1.000000        hg10   \n",
       "72       False       0.944444        hg08   \n",
       "82       False       0.939024        hg12   \n",
       "68       False       1.000000        hg13   \n",
       "69       False       0.565217        hg14   \n",
       "73       False       0.904110        hg11   \n",
       "82        True       1.000000        hg23   \n",
       "76        True       1.000000        hg07   \n",
       "66        True       1.000000        hg04   \n",
       "79        True       1.000000        hg03   \n",
       "76        True       1.000000        hg02   \n",
       "61        True       1.000000        hg01   \n",
       "\n",
       "                                      concept  \\\n",
       "66                                      large   \n",
       "68  (circle or blue) or  (triangle and green)   \n",
       "76  (circle and blue) or (triangle and green)   \n",
       "60          (circle or triangle) implies blue   \n",
       "61                        blue implies size 1   \n",
       "73            (not blue) implies (not circle)   \n",
       "83                  (not blue) implies circle   \n",
       "89                        blue implies circle   \n",
       "66                        circle implies blue   \n",
       "67                              blue or small   \n",
       "71                             small and blue   \n",
       "68                            large or medium   \n",
       "78                             large or small   \n",
       "68                                      small   \n",
       "70                                     medium   \n",
       "66              circle or (blue and triangle)   \n",
       "75          circle or (triangle implies blue)   \n",
       "73                      not (circle xor blue)   \n",
       "86                                 not circle   \n",
       "74                             circle or blue   \n",
       "65                      circle xor (not blue)   \n",
       "73                            circle and blue   \n",
       "69                      circle and (not blue)   \n",
       "72                              blue or green   \n",
       "82                       not (circle or blue)   \n",
       "68                        circle and not blue   \n",
       "69                            circle xor blue   \n",
       "73                      not (circle and blue)   \n",
       "82                            medium or small   \n",
       "76                         circle or triangle   \n",
       "66                                     circle   \n",
       "79                                       blue   \n",
       "76                                      False   \n",
       "61                                       True   \n",
       "\n",
       "                                      rule_expression  \\\n",
       "66                               large and not circle   \n",
       "68                                      blue or green   \n",
       "76  (circle or triangle) and (blue or green) and n...   \n",
       "60                                              False   \n",
       "61                                             or ( )   \n",
       "73  (not circle) or (circle and blue) or triangle ...   \n",
       "83                       (blue or green) and (circle)   \n",
       "89               not(blue) and not(triangle and blue)   \n",
       "66                              rectangle or triangle   \n",
       "67                  small and (triangle or rectangle)   \n",
       "71  small and blue and (circle or rectangle or tri...   \n",
       "68                      large or medium and not small   \n",
       "78  large or (blue or green) and not (medium and b...   \n",
       "68                small and (blue or green or yellow)   \n",
       "70  (medium and (green or blue)) or (yellow and ((...   \n",
       "66  circle and (blue or yellow) or (triangle and b...   \n",
       "75       rectangle or (circle) or (triangle and blue)   \n",
       "73                                green or (triangle)   \n",
       "86                              triangle or rectangle   \n",
       "74   (blue or circle) or (yellow or green) and circle   \n",
       "65     not (medium and blue) and not (large and blue)   \n",
       "73                                     large and blue   \n",
       "69                       circle and (green or yellow)   \n",
       "72  green or ((blue and triangle) or (blue and rec...   \n",
       "82      triangle or (rectangle and (green or yellow))   \n",
       "68  (circle and (green or yellow)) or (small and c...   \n",
       "69  (circle and ((large and green) or (medium and ...   \n",
       "73                              not (medium and blue)   \n",
       "82                                    small or medium   \n",
       "76                                 triangle or circle   \n",
       "66                                             circle   \n",
       "79                                               blue   \n",
       "76                                              False   \n",
       "61                                               True   \n",
       "\n",
       "                                          model_reply  \\\n",
       "66  Based on your examples, I've learned that the ...   \n",
       "68  Based on your examples, I've learned that the ...   \n",
       "76  Based on your examples, I've learned that the ...   \n",
       "60  Based on your examples, I've learned that the ...   \n",
       "61  Based on your examples, I've learned that the ...   \n",
       "73  Based on your examples, I've learned that the ...   \n",
       "83  Based on your examples, I've learned that the ...   \n",
       "89  Based on your examples, I've learned that the ...   \n",
       "66  Based on your examples, I've learned that the ...   \n",
       "67  Based on your examples, I've learned that the ...   \n",
       "71  Based on your examples, I've learned that the ...   \n",
       "68  Based on your examples, I've learned that the ...   \n",
       "78  Based on your examples, I've learned that the ...   \n",
       "68  Based on your examples, I've learned that the ...   \n",
       "70  Based on your examples, I've learned that the ...   \n",
       "66  Based on your examples, I've learned that the ...   \n",
       "75  Based on your examples, I've learned that the ...   \n",
       "73  Based on your examples, I've learned that the ...   \n",
       "86  Based on your examples, I've learned that the ...   \n",
       "74  Based on your examples, I've learned that the ...   \n",
       "65  Based on your examples, I've learned that the ...   \n",
       "73  Based on your examples, I've learned that the ...   \n",
       "69  Based on your examples, I've learned that the ...   \n",
       "72  Based on your examples, I've learned that the ...   \n",
       "82  Based on your examples, I've learned that the ...   \n",
       "68  Based on your examples, I've learned that the ...   \n",
       "69  Based on your examples, I've learned that the ...   \n",
       "73  Based on your examples, I've learned that the ...   \n",
       "82  Based on your examples, I've learned that the ...   \n",
       "76  Based on your examples, I've learned that the ...   \n",
       "66  Based on your examples, I've learned that the ...   \n",
       "79  Based on your examples, I've learned that the ...   \n",
       "76  Based on your examples, I've learned that the ...   \n",
       "61  Based on your examples, I've learned that the ...   \n",
       "\n",
       "                                                 code  \n",
       "66  def is_rule(obj):\\n    return obj.large and no...  \n",
       "68  def is_rule(obj):\\n    return obj.blue or obj....  \n",
       "76  def is_rule(obj):\\n    return (obj.circle or o...  \n",
       "60                def is_rule(obj):\\n    return False  \n",
       "61  def is_rule(obj):\\n    return obj.color or (ob...  \n",
       "73  def is_rule(obj):\\n    return (not obj.circle)...  \n",
       "83  def is_rule(obj):\\n    return (obj.blue or obj...  \n",
       "89  def is_rule(obj):\\n    return not(obj.blue) an...  \n",
       "66  def is_rule(obj):\\n    return obj.rectangle or...  \n",
       "67  def is_rule(obj):\\n    return obj.small and (o...  \n",
       "71  def is_rule(obj):\\n    return obj.small and ob...  \n",
       "68  def is_rule(obj):\\n    return obj.large or obj...  \n",
       "78  def is_rule(obj):\\n    return obj.large or (ob...  \n",
       "68  def is_rule(obj):\\n    return obj.small and (o...  \n",
       "70  def is_rule(obj):\\n    return (obj.medium and ...  \n",
       "66  def is_rule(obj):\\n    return obj.circle and (...  \n",
       "75  def is_rule(obj):\\n    return obj.rectangle or...  \n",
       "73  def is_rule(obj):\\n    return obj.green or (ob...  \n",
       "86  def is_rule(obj):\\n    return obj.triangle or ...  \n",
       "74  def is_rule(obj):\\n    return (obj.blue or obj...  \n",
       "65  def is_rule(obj):\\n    return not (obj.medium ...  \n",
       "73  def is_rule(obj):\\n    return obj.large and ob...  \n",
       "69  def is_rule(obj):\\n    return obj.circle and (...  \n",
       "72  def is_rule(obj):\\n    return obj.green or ((o...  \n",
       "82  def is_rule(obj):\\n    return obj.triangle or ...  \n",
       "68  def is_rule(obj):\\n    return (obj.circle and ...  \n",
       "69  def is_rule(obj):\\n    return (obj.circle and ...  \n",
       "73  def is_rule(obj):\\n    return not (obj.medium ...  \n",
       "82  def is_rule(obj):\\n    return obj.small or obj...  \n",
       "76  def is_rule(obj):\\n    return obj.triangle or ...  \n",
       "66           def is_rule(obj):\\n    return obj.circle  \n",
       "79             def is_rule(obj):\\n    return obj.blue  \n",
       "76                def is_rule(obj):\\n    return False  \n",
       "61                 def is_rule(obj):\\n    return True  "
      ]
     },
     "execution_count": 4,
     "metadata": {},
     "output_type": "execute_result"
    }
   ],
   "source": [
    "bconcepts = mdf[(mdf['set'] >= 3) & (mdf['concept_num'].isin(SUBSETS['boolean']))]\n",
    "\n",
    "bdf = bconcepts[bconcepts['set'] == 25].drop_duplicates(['model_reply']).loc[:, ['rule_match', 'rule_coverage', 'concept_num', 'concept', 'rule_expression', 'model_reply', 'code']].sort_values(['rule_match'])\n",
    "bdf.to_csv('./results/experiment_2/viewer_boolean_rules.csv')\n",
    "bdf"
   ]
  },
  {
   "cell_type": "code",
   "execution_count": 21,
   "metadata": {},
   "outputs": [],
   "source": [
    "from src.translate_explanations import evaluate_python_code, process_python_code\n",
    "import numpy as np\n",
    "import math\n",
    "def check_rule_coverage(annotated_df, object_df):\n",
    "    hdf = pd.read_csv('./results/experiment_1/human_concept_stats.csv')\n",
    "    coverage = []\n",
    "    chance = []\n",
    "    human_lq = []\n",
    "    expression = []\n",
    "    for i, row in annotated_df.iterrows():\n",
    "        objs = object_df[(object_df['concept_num'] == row['concept_num']) & (object_df['set'] < 25)]['object']\n",
    "        answers = object_df[(object_df['concept_num'] == row['concept_num']) & (object_df['set'] < 25)]['answer']\n",
    "        yesrate = object_df[(object_df['concept_num'] == row['concept_num']) & (object_df['set'] < 25)]['answer'].mean()\n",
    "        chance.append((yesrate * yesrate) + ((1-yesrate) * (1-yesrate)))\n",
    "        human_lq.append(hdf[hdf['concept'] == row['concept_num']]['last_quarter_mean'].iloc[0])\n",
    "\n",
    "        objs = objs[(math.floor(len(objs) * 3/4)):]\n",
    "        answers = answers[(math.floor(len(answers) * 3/4)):]\n",
    "        \n",
    "        coverage.append((np.array([evaluate_python_code(row['manual_code'], o) for o in objs]) == answers).mean())\n",
    "        expression.append(process_python_code(row['manual_code']))\n",
    "\n",
    "    annotated_df['rule_expression'] = expression\n",
    "    annotated_df['human_lq'] = human_lq\n",
    "    annotated_df['chance'] = chance\n",
    "    annotated_df['manual_rule_coverage'] = coverage\n",
    "    annotated_df['chance_difference'] = np.array(coverage) - np.array(chance)\n",
    "    annotated_df['human_lq_diff'] = np.array(coverage) - np.array(human_lq)\n",
    "\n",
    "    return annotated_df"
   ]
  },
  {
   "cell_type": "code",
   "execution_count": 22,
   "metadata": {},
   "outputs": [
    {
     "data": {
      "text/html": [
       "<div>\n",
       "<style scoped>\n",
       "    .dataframe tbody tr th:only-of-type {\n",
       "        vertical-align: middle;\n",
       "    }\n",
       "\n",
       "    .dataframe tbody tr th {\n",
       "        vertical-align: top;\n",
       "    }\n",
       "\n",
       "    .dataframe thead th {\n",
       "        text-align: right;\n",
       "    }\n",
       "</style>\n",
       "<table border=\"1\" class=\"dataframe\">\n",
       "  <thead>\n",
       "    <tr style=\"text-align: right;\">\n",
       "      <th></th>\n",
       "      <th>concept_num</th>\n",
       "      <th>manual_rule_coverage</th>\n",
       "      <th>human_lq</th>\n",
       "      <th>concept</th>\n",
       "      <th>rule_expression</th>\n",
       "    </tr>\n",
       "  </thead>\n",
       "  <tbody>\n",
       "    <tr>\n",
       "      <th>17</th>\n",
       "      <td>hg15</td>\n",
       "      <td>0.526316</td>\n",
       "      <td>0.730159</td>\n",
       "      <td>not (circle xor blue)</td>\n",
       "      <td>green or (triangle)</td>\n",
       "    </tr>\n",
       "    <tr>\n",
       "      <th>20</th>\n",
       "      <td>hg16</td>\n",
       "      <td>0.588235</td>\n",
       "      <td>0.745455</td>\n",
       "      <td>circle xor (not blue)</td>\n",
       "      <td>not (medium and blue) and not (large and blue)</td>\n",
       "    </tr>\n",
       "    <tr>\n",
       "      <th>21</th>\n",
       "      <td>hg09</td>\n",
       "      <td>0.684211</td>\n",
       "      <td>0.934783</td>\n",
       "      <td>circle and blue</td>\n",
       "      <td>large and blue</td>\n",
       "    </tr>\n",
       "    <tr>\n",
       "      <th>12</th>\n",
       "      <td>hg21</td>\n",
       "      <td>0.700000</td>\n",
       "      <td>0.855769</td>\n",
       "      <td>large or small</td>\n",
       "      <td>large or ((blue or green) and not (medium and ...</td>\n",
       "    </tr>\n",
       "    <tr>\n",
       "      <th>2</th>\n",
       "      <td>hg83</td>\n",
       "      <td>0.736842</td>\n",
       "      <td>0.851240</td>\n",
       "      <td>(circle and blue) or (triangle and green)</td>\n",
       "      <td>(circle or triangle) and (blue or green) and n...</td>\n",
       "    </tr>\n",
       "    <tr>\n",
       "      <th>9</th>\n",
       "      <td>hg25</td>\n",
       "      <td>0.764706</td>\n",
       "      <td>0.893939</td>\n",
       "      <td>blue or small</td>\n",
       "      <td>small and (triangle or rectangle)</td>\n",
       "    </tr>\n",
       "    <tr>\n",
       "      <th>1</th>\n",
       "      <td>hg84</td>\n",
       "      <td>0.764706</td>\n",
       "      <td>0.842857</td>\n",
       "      <td>(circle or blue) or  (triangle and green)</td>\n",
       "      <td>blue or green</td>\n",
       "    </tr>\n",
       "    <tr>\n",
       "      <th>0</th>\n",
       "      <td>hg18</td>\n",
       "      <td>0.764706</td>\n",
       "      <td>0.956667</td>\n",
       "      <td>large</td>\n",
       "      <td>large and not circle</td>\n",
       "    </tr>\n",
       "    <tr>\n",
       "      <th>26</th>\n",
       "      <td>hg14</td>\n",
       "      <td>0.777778</td>\n",
       "      <td>0.804348</td>\n",
       "      <td>circle xor blue</td>\n",
       "      <td>(circle and ((large and green) or (medium and ...</td>\n",
       "    </tr>\n",
       "    <tr>\n",
       "      <th>27</th>\n",
       "      <td>hg11</td>\n",
       "      <td>0.789474</td>\n",
       "      <td>0.952174</td>\n",
       "      <td>not (circle and blue)</td>\n",
       "      <td>not (medium and blue)</td>\n",
       "    </tr>\n",
       "    <tr>\n",
       "      <th>24</th>\n",
       "      <td>hg12</td>\n",
       "      <td>0.809524</td>\n",
       "      <td>0.880435</td>\n",
       "      <td>not (circle or blue)</td>\n",
       "      <td>triangle or (rectangle and (green or yellow))</td>\n",
       "    </tr>\n",
       "    <tr>\n",
       "      <th>3</th>\n",
       "      <td>hg82</td>\n",
       "      <td>0.866667</td>\n",
       "      <td>0.819444</td>\n",
       "      <td>(circle or triangle) implies blue</td>\n",
       "      <td>blue or (large and yellow) or ((medium or smal...</td>\n",
       "    </tr>\n",
       "    <tr>\n",
       "      <th>8</th>\n",
       "      <td>hg77</td>\n",
       "      <td>0.941176</td>\n",
       "      <td>0.946281</td>\n",
       "      <td>circle implies blue</td>\n",
       "      <td>rectangle or triangle</td>\n",
       "    </tr>\n",
       "    <tr>\n",
       "      <th>14</th>\n",
       "      <td>hg19</td>\n",
       "      <td>0.944444</td>\n",
       "      <td>0.927273</td>\n",
       "      <td>medium</td>\n",
       "      <td>(medium and (green or blue)) or (yellow and ((...</td>\n",
       "    </tr>\n",
       "    <tr>\n",
       "      <th>6</th>\n",
       "      <td>hg79</td>\n",
       "      <td>0.952381</td>\n",
       "      <td>0.909091</td>\n",
       "      <td>(not blue) implies circle</td>\n",
       "      <td>blue or (green and circle)</td>\n",
       "    </tr>\n",
       "    <tr>\n",
       "      <th>7</th>\n",
       "      <td>hg78</td>\n",
       "      <td>0.956522</td>\n",
       "      <td>0.872671</td>\n",
       "      <td>blue implies circle</td>\n",
       "      <td>not(blue) and not(triangle and blue)</td>\n",
       "    </tr>\n",
       "    <tr>\n",
       "      <th>15</th>\n",
       "      <td>hg85</td>\n",
       "      <td>1.000000</td>\n",
       "      <td>0.952569</td>\n",
       "      <td>circle or (blue and triangle)</td>\n",
       "      <td>(circle and (blue or yellow)) or (triangle and...</td>\n",
       "    </tr>\n",
       "    <tr>\n",
       "      <th>13</th>\n",
       "      <td>hg20</td>\n",
       "      <td>1.000000</td>\n",
       "      <td>0.966184</td>\n",
       "      <td>small</td>\n",
       "      <td>small and (blue or green or yellow)</td>\n",
       "    </tr>\n",
       "    <tr>\n",
       "      <th>10</th>\n",
       "      <td>hg24</td>\n",
       "      <td>1.000000</td>\n",
       "      <td>0.913223</td>\n",
       "      <td>small and blue</td>\n",
       "      <td>small and blue and (circle or rectangle or tri...</td>\n",
       "    </tr>\n",
       "    <tr>\n",
       "      <th>11</th>\n",
       "      <td>hg22</td>\n",
       "      <td>1.000000</td>\n",
       "      <td>0.904545</td>\n",
       "      <td>large or medium</td>\n",
       "      <td>large or medium and not small</td>\n",
       "    </tr>\n",
       "    <tr>\n",
       "      <th>5</th>\n",
       "      <td>hg80</td>\n",
       "      <td>1.000000</td>\n",
       "      <td>0.876984</td>\n",
       "      <td>(not blue) implies (not circle)</td>\n",
       "      <td>(not circle) or (circle and blue) or (triangle...</td>\n",
       "    </tr>\n",
       "    <tr>\n",
       "      <th>4</th>\n",
       "      <td>hg81</td>\n",
       "      <td>1.000000</td>\n",
       "      <td>0.857143</td>\n",
       "      <td>blue implies size 1</td>\n",
       "      <td>(green or (small and not green) or (triangle a...</td>\n",
       "    </tr>\n",
       "    <tr>\n",
       "      <th>19</th>\n",
       "      <td>hg06</td>\n",
       "      <td>1.000000</td>\n",
       "      <td>0.833333</td>\n",
       "      <td>circle or blue</td>\n",
       "      <td>(blue) or ((yellow or green) and circle)</td>\n",
       "    </tr>\n",
       "    <tr>\n",
       "      <th>16</th>\n",
       "      <td>hg86</td>\n",
       "      <td>1.000000</td>\n",
       "      <td>0.917391</td>\n",
       "      <td>circle or (triangle implies blue)</td>\n",
       "      <td>rectangle or (circle) or (triangle and blue)</td>\n",
       "    </tr>\n",
       "    <tr>\n",
       "      <th>23</th>\n",
       "      <td>hg08</td>\n",
       "      <td>1.000000</td>\n",
       "      <td>0.923077</td>\n",
       "      <td>blue or green</td>\n",
       "      <td>green or ((blue and triangle) or (blue and rec...</td>\n",
       "    </tr>\n",
       "    <tr>\n",
       "      <th>22</th>\n",
       "      <td>hg10</td>\n",
       "      <td>1.000000</td>\n",
       "      <td>0.956522</td>\n",
       "      <td>circle and (not blue)</td>\n",
       "      <td>circle and (green or yellow)</td>\n",
       "    </tr>\n",
       "    <tr>\n",
       "      <th>18</th>\n",
       "      <td>hg05</td>\n",
       "      <td>1.000000</td>\n",
       "      <td>0.958333</td>\n",
       "      <td>not circle</td>\n",
       "      <td>triangle or rectangle</td>\n",
       "    </tr>\n",
       "    <tr>\n",
       "      <th>25</th>\n",
       "      <td>hg13</td>\n",
       "      <td>1.000000</td>\n",
       "      <td>0.904348</td>\n",
       "      <td>circle and not blue</td>\n",
       "      <td>(circle and (green or yellow)) or (small and c...</td>\n",
       "    </tr>\n",
       "    <tr>\n",
       "      <th>28</th>\n",
       "      <td>hg23</td>\n",
       "      <td>1.000000</td>\n",
       "      <td>0.958678</td>\n",
       "      <td>medium or small</td>\n",
       "      <td>small or medium</td>\n",
       "    </tr>\n",
       "    <tr>\n",
       "      <th>29</th>\n",
       "      <td>hg07</td>\n",
       "      <td>1.000000</td>\n",
       "      <td>0.909091</td>\n",
       "      <td>circle or triangle</td>\n",
       "      <td>triangle or circle</td>\n",
       "    </tr>\n",
       "    <tr>\n",
       "      <th>30</th>\n",
       "      <td>hg04</td>\n",
       "      <td>1.000000</td>\n",
       "      <td>0.931159</td>\n",
       "      <td>circle</td>\n",
       "      <td>circle</td>\n",
       "    </tr>\n",
       "    <tr>\n",
       "      <th>31</th>\n",
       "      <td>hg03</td>\n",
       "      <td>1.000000</td>\n",
       "      <td>0.993333</td>\n",
       "      <td>blue</td>\n",
       "      <td>blue</td>\n",
       "    </tr>\n",
       "    <tr>\n",
       "      <th>32</th>\n",
       "      <td>hg02</td>\n",
       "      <td>1.000000</td>\n",
       "      <td>0.922727</td>\n",
       "      <td>False</td>\n",
       "      <td>False</td>\n",
       "    </tr>\n",
       "    <tr>\n",
       "      <th>33</th>\n",
       "      <td>hg01</td>\n",
       "      <td>1.000000</td>\n",
       "      <td>1.000000</td>\n",
       "      <td>True</td>\n",
       "      <td>True</td>\n",
       "    </tr>\n",
       "  </tbody>\n",
       "</table>\n",
       "</div>"
      ],
      "text/plain": [
       "   concept_num  manual_rule_coverage  human_lq  \\\n",
       "17        hg15              0.526316  0.730159   \n",
       "20        hg16              0.588235  0.745455   \n",
       "21        hg09              0.684211  0.934783   \n",
       "12        hg21              0.700000  0.855769   \n",
       "2         hg83              0.736842  0.851240   \n",
       "9         hg25              0.764706  0.893939   \n",
       "1         hg84              0.764706  0.842857   \n",
       "0         hg18              0.764706  0.956667   \n",
       "26        hg14              0.777778  0.804348   \n",
       "27        hg11              0.789474  0.952174   \n",
       "24        hg12              0.809524  0.880435   \n",
       "3         hg82              0.866667  0.819444   \n",
       "8         hg77              0.941176  0.946281   \n",
       "14        hg19              0.944444  0.927273   \n",
       "6         hg79              0.952381  0.909091   \n",
       "7         hg78              0.956522  0.872671   \n",
       "15        hg85              1.000000  0.952569   \n",
       "13        hg20              1.000000  0.966184   \n",
       "10        hg24              1.000000  0.913223   \n",
       "11        hg22              1.000000  0.904545   \n",
       "5         hg80              1.000000  0.876984   \n",
       "4         hg81              1.000000  0.857143   \n",
       "19        hg06              1.000000  0.833333   \n",
       "16        hg86              1.000000  0.917391   \n",
       "23        hg08              1.000000  0.923077   \n",
       "22        hg10              1.000000  0.956522   \n",
       "18        hg05              1.000000  0.958333   \n",
       "25        hg13              1.000000  0.904348   \n",
       "28        hg23              1.000000  0.958678   \n",
       "29        hg07              1.000000  0.909091   \n",
       "30        hg04              1.000000  0.931159   \n",
       "31        hg03              1.000000  0.993333   \n",
       "32        hg02              1.000000  0.922727   \n",
       "33        hg01              1.000000  1.000000   \n",
       "\n",
       "                                      concept  \\\n",
       "17                      not (circle xor blue)   \n",
       "20                      circle xor (not blue)   \n",
       "21                            circle and blue   \n",
       "12                             large or small   \n",
       "2   (circle and blue) or (triangle and green)   \n",
       "9                               blue or small   \n",
       "1   (circle or blue) or  (triangle and green)   \n",
       "0                                       large   \n",
       "26                            circle xor blue   \n",
       "27                      not (circle and blue)   \n",
       "24                       not (circle or blue)   \n",
       "3           (circle or triangle) implies blue   \n",
       "8                         circle implies blue   \n",
       "14                                     medium   \n",
       "6                   (not blue) implies circle   \n",
       "7                         blue implies circle   \n",
       "15              circle or (blue and triangle)   \n",
       "13                                      small   \n",
       "10                             small and blue   \n",
       "11                            large or medium   \n",
       "5             (not blue) implies (not circle)   \n",
       "4                         blue implies size 1   \n",
       "19                             circle or blue   \n",
       "16          circle or (triangle implies blue)   \n",
       "23                              blue or green   \n",
       "22                      circle and (not blue)   \n",
       "18                                 not circle   \n",
       "25                        circle and not blue   \n",
       "28                            medium or small   \n",
       "29                         circle or triangle   \n",
       "30                                     circle   \n",
       "31                                       blue   \n",
       "32                                      False   \n",
       "33                                       True   \n",
       "\n",
       "                                      rule_expression  \n",
       "17                                green or (triangle)  \n",
       "20     not (medium and blue) and not (large and blue)  \n",
       "21                                     large and blue  \n",
       "12  large or ((blue or green) and not (medium and ...  \n",
       "2   (circle or triangle) and (blue or green) and n...  \n",
       "9                   small and (triangle or rectangle)  \n",
       "1                                       blue or green  \n",
       "0                                large and not circle  \n",
       "26  (circle and ((large and green) or (medium and ...  \n",
       "27                              not (medium and blue)  \n",
       "24      triangle or (rectangle and (green or yellow))  \n",
       "3   blue or (large and yellow) or ((medium or smal...  \n",
       "8                               rectangle or triangle  \n",
       "14  (medium and (green or blue)) or (yellow and ((...  \n",
       "6                          blue or (green and circle)  \n",
       "7                not(blue) and not(triangle and blue)  \n",
       "15  (circle and (blue or yellow)) or (triangle and...  \n",
       "13                small and (blue or green or yellow)  \n",
       "10  small and blue and (circle or rectangle or tri...  \n",
       "11                      large or medium and not small  \n",
       "5   (not circle) or (circle and blue) or (triangle...  \n",
       "4   (green or (small and not green) or (triangle a...  \n",
       "19           (blue) or ((yellow or green) and circle)  \n",
       "16       rectangle or (circle) or (triangle and blue)  \n",
       "23  green or ((blue and triangle) or (blue and rec...  \n",
       "22                       circle and (green or yellow)  \n",
       "18                              triangle or rectangle  \n",
       "25  (circle and (green or yellow)) or (small and c...  \n",
       "28                                    small or medium  \n",
       "29                                 triangle or circle  \n",
       "30                                             circle  \n",
       "31                                               blue  \n",
       "32                                              False  \n",
       "33                                               True  "
      ]
     },
     "execution_count": 22,
     "metadata": {},
     "output_type": "execute_result"
    }
   ],
   "source": [
    "manual_rule_coverage = check_rule_coverage(pd.read_csv('./results/experiment_2/viewer_boolean_rules_manualcoded.csv'), mdf).sort_values(['manual_rule_coverage'])\n",
    "manual_rule_coverage.loc[:, ['concept_num', 'manual_rule_coverage', 'human_lq', 'concept', 'rule_expression']]"
   ]
  },
  {
   "cell_type": "code",
   "execution_count": 32,
   "metadata": {},
   "outputs": [
    {
     "data": {
      "text/html": [
       "<div>\n",
       "<style scoped>\n",
       "    .dataframe tbody tr th:only-of-type {\n",
       "        vertical-align: middle;\n",
       "    }\n",
       "\n",
       "    .dataframe tbody tr th {\n",
       "        vertical-align: top;\n",
       "    }\n",
       "\n",
       "    .dataframe thead th {\n",
       "        text-align: right;\n",
       "    }\n",
       "</style>\n",
       "<table border=\"1\" class=\"dataframe\">\n",
       "  <thead>\n",
       "    <tr style=\"text-align: right;\">\n",
       "      <th></th>\n",
       "      <th>concept_num</th>\n",
       "      <th>manual_rule_coverage</th>\n",
       "      <th>human_lq</th>\n",
       "      <th>chance</th>\n",
       "      <th>concept</th>\n",
       "      <th>rule_expression</th>\n",
       "    </tr>\n",
       "  </thead>\n",
       "  <tbody>\n",
       "    <tr>\n",
       "      <th>75</th>\n",
       "      <td>hg91</td>\n",
       "      <td>0.318182</td>\n",
       "      <td>0.867424</td>\n",
       "      <td>0.796539</td>\n",
       "      <td>same shape as an object that is blue or green</td>\n",
       "      <td>not (large and yellow and circle) and not (med...</td>\n",
       "    </tr>\n",
       "    <tr>\n",
       "      <th>58</th>\n",
       "      <td>hg111</td>\n",
       "      <td>0.363636</td>\n",
       "      <td>0.577640</td>\n",
       "      <td>0.500623</td>\n",
       "      <td>at least one other object of the same shape is...</td>\n",
       "      <td>circle or rectangle</td>\n",
       "    </tr>\n",
       "    <tr>\n",
       "      <th>57</th>\n",
       "      <td>hg104</td>\n",
       "      <td>0.388889</td>\n",
       "      <td>0.676364</td>\n",
       "      <td>0.508034</td>\n",
       "      <td>exactly one other object   is the same color</td>\n",
       "      <td>yellow or blue and (rectangle or circle or tri...</td>\n",
       "    </tr>\n",
       "    <tr>\n",
       "      <th>66</th>\n",
       "      <td>hg112</td>\n",
       "      <td>0.388889</td>\n",
       "      <td>0.764000</td>\n",
       "      <td>0.517748</td>\n",
       "      <td>at least one other object of the same shape is...</td>\n",
       "      <td>(blue and (triangle or rectangle)) or (yellow ...</td>\n",
       "    </tr>\n",
       "    <tr>\n",
       "      <th>68</th>\n",
       "      <td>hg75</td>\n",
       "      <td>0.388889</td>\n",
       "      <td>0.652000</td>\n",
       "      <td>0.503673</td>\n",
       "      <td>there is another object of the same shape&lt;br&gt;t...</td>\n",
       "      <td>((small or medium) and (yellow or blue) and (c...</td>\n",
       "    </tr>\n",
       "    <tr>\n",
       "      <th>65</th>\n",
       "      <td>hg74</td>\n",
       "      <td>0.409091</td>\n",
       "      <td>0.590062</td>\n",
       "      <td>0.507993</td>\n",
       "      <td>there is another object of the same shape&lt;br&gt;a...</td>\n",
       "      <td>small or (triangle and (medium or large) and n...</td>\n",
       "    </tr>\n",
       "    <tr>\n",
       "      <th>71</th>\n",
       "      <td>hg26</td>\n",
       "      <td>0.421053</td>\n",
       "      <td>0.831169</td>\n",
       "      <td>0.791205</td>\n",
       "      <td>one of the largest or smallest</td>\n",
       "      <td>(large and green) or (large and circle) or (gr...</td>\n",
       "    </tr>\n",
       "    <tr>\n",
       "      <th>64</th>\n",
       "      <td>hg63</td>\n",
       "      <td>0.473684</td>\n",
       "      <td>0.823333</td>\n",
       "      <td>0.505540</td>\n",
       "      <td>same color as another object</td>\n",
       "      <td>(triangle or rectangle) and (medium or large)</td>\n",
       "    </tr>\n",
       "    <tr>\n",
       "      <th>61</th>\n",
       "      <td>hg45</td>\n",
       "      <td>0.500000</td>\n",
       "      <td>0.663043</td>\n",
       "      <td>0.553002</td>\n",
       "      <td>same shape as one of the largest</td>\n",
       "      <td>(triangle or circle) and (green or yellow or b...</td>\n",
       "    </tr>\n",
       "    <tr>\n",
       "      <th>60</th>\n",
       "      <td>hg90</td>\n",
       "      <td>0.500000</td>\n",
       "      <td>0.614719</td>\n",
       "      <td>0.514694</td>\n",
       "      <td>same shape as another object that is blue or g...</td>\n",
       "      <td>(large and rectangle) or (small and (blue or y...</td>\n",
       "    </tr>\n",
       "    <tr>\n",
       "      <th>62</th>\n",
       "      <td>hg103</td>\n",
       "      <td>0.555556</td>\n",
       "      <td>0.500000</td>\n",
       "      <td>0.568980</td>\n",
       "      <td>exactly one blue object in the set</td>\n",
       "      <td>(triangle or rectangle) and (small or medium)</td>\n",
       "    </tr>\n",
       "    <tr>\n",
       "      <th>59</th>\n",
       "      <td>hg59</td>\n",
       "      <td>0.555556</td>\n",
       "      <td>0.797521</td>\n",
       "      <td>0.520000</td>\n",
       "      <td>same shape as another object</td>\n",
       "      <td>(medium and (rectangle or circle)) or (triangl...</td>\n",
       "    </tr>\n",
       "    <tr>\n",
       "      <th>52</th>\n",
       "      <td>hg101</td>\n",
       "      <td>0.555556</td>\n",
       "      <td>0.752174</td>\n",
       "      <td>0.546314</td>\n",
       "      <td>same shape as a uniquely smallest object</td>\n",
       "      <td>small or ((medium and yellow and not rectangle...</td>\n",
       "    </tr>\n",
       "    <tr>\n",
       "      <th>69</th>\n",
       "      <td>hg76</td>\n",
       "      <td>0.588235</td>\n",
       "      <td>0.659420</td>\n",
       "      <td>0.527682</td>\n",
       "      <td>every other object   shares at least one featu...</td>\n",
       "      <td>(yellow) or (blue and large) or (blue and tria...</td>\n",
       "    </tr>\n",
       "    <tr>\n",
       "      <th>53</th>\n",
       "      <td>hg66</td>\n",
       "      <td>0.600000</td>\n",
       "      <td>0.734300</td>\n",
       "      <td>0.508889</td>\n",
       "      <td>same color as all other objects of the same shape</td>\n",
       "      <td>(blue or yellow) and (large or triangle or rec...</td>\n",
       "    </tr>\n",
       "    <tr>\n",
       "      <th>48</th>\n",
       "      <td>hg73</td>\n",
       "      <td>0.611111</td>\n",
       "      <td>0.584416</td>\n",
       "      <td>0.533061</td>\n",
       "      <td>there is another object of the same shape and ...</td>\n",
       "      <td>(large and yellow) or (blue and rectangle)</td>\n",
       "    </tr>\n",
       "    <tr>\n",
       "      <th>39</th>\n",
       "      <td>hg98</td>\n",
       "      <td>0.625000</td>\n",
       "      <td>0.765217</td>\n",
       "      <td>0.658203</td>\n",
       "      <td>the unique smallest object</td>\n",
       "      <td>large and blue</td>\n",
       "    </tr>\n",
       "    <tr>\n",
       "      <th>63</th>\n",
       "      <td>hg102</td>\n",
       "      <td>0.631579</td>\n",
       "      <td>0.532051</td>\n",
       "      <td>0.503116</td>\n",
       "      <td>exactly one object in the set is blue excludin...</td>\n",
       "      <td>False elif medium:</td>\n",
       "    </tr>\n",
       "    <tr>\n",
       "      <th>49</th>\n",
       "      <td>hg106</td>\n",
       "      <td>0.631579</td>\n",
       "      <td>0.772308</td>\n",
       "      <td>0.667590</td>\n",
       "      <td>exactly one blue object that is the same shape...</td>\n",
       "      <td>large and ((triangle ) or (rectangle ))</td>\n",
       "    </tr>\n",
       "    <tr>\n",
       "      <th>55</th>\n",
       "      <td>hg68</td>\n",
       "      <td>0.631579</td>\n",
       "      <td>0.652000</td>\n",
       "      <td>0.523375</td>\n",
       "      <td>(circle) or (same color as all other objects o...</td>\n",
       "      <td>circle or small</td>\n",
       "    </tr>\n",
       "    <tr>\n",
       "      <th>43</th>\n",
       "      <td>hg17</td>\n",
       "      <td>0.650000</td>\n",
       "      <td>0.765873</td>\n",
       "      <td>0.591837</td>\n",
       "      <td>there is a triangle in the set</td>\n",
       "      <td>not(small or blue) or ((small and yellow and t...</td>\n",
       "    </tr>\n",
       "    <tr>\n",
       "      <th>40</th>\n",
       "      <td>hg38</td>\n",
       "      <td>0.650000</td>\n",
       "      <td>0.586420</td>\n",
       "      <td>0.525313</td>\n",
       "      <td>same shape as a (circle or blue) object</td>\n",
       "      <td>(circle or triangle or blue or yellow) and not...</td>\n",
       "    </tr>\n",
       "    <tr>\n",
       "      <th>36</th>\n",
       "      <td>hg105</td>\n",
       "      <td>0.666667</td>\n",
       "      <td>0.720280</td>\n",
       "      <td>0.500408</td>\n",
       "      <td>exactly one blue object that is the same shape</td>\n",
       "      <td>blue or rectangle</td>\n",
       "    </tr>\n",
       "    <tr>\n",
       "      <th>72</th>\n",
       "      <td>hg70</td>\n",
       "      <td>0.666667</td>\n",
       "      <td>0.632231</td>\n",
       "      <td>0.546314</td>\n",
       "      <td>same color as all other objects of the same shape</td>\n",
       "      <td>(triangle and (blue or yellow)) or (circle and...</td>\n",
       "    </tr>\n",
       "    <tr>\n",
       "      <th>44</th>\n",
       "      <td>hg67</td>\n",
       "      <td>0.684211</td>\n",
       "      <td>0.683794</td>\n",
       "      <td>0.547022</td>\n",
       "      <td>blue or (same color as all other objects of th...</td>\n",
       "      <td>blue or (triangle) or (green and circle) or (y...</td>\n",
       "    </tr>\n",
       "    <tr>\n",
       "      <th>51</th>\n",
       "      <td>hg97</td>\n",
       "      <td>0.684211</td>\n",
       "      <td>0.661157</td>\n",
       "      <td>0.744042</td>\n",
       "      <td>same shape as a uniquely blue object</td>\n",
       "      <td>triangle or (small and blue and rectangle)</td>\n",
       "    </tr>\n",
       "    <tr>\n",
       "      <th>47</th>\n",
       "      <td>hg89</td>\n",
       "      <td>0.700000</td>\n",
       "      <td>0.860870</td>\n",
       "      <td>0.641761</td>\n",
       "      <td>exists another object of the same shape that i...</td>\n",
       "      <td>((triangle or circle) and (yellow or green) an...</td>\n",
       "    </tr>\n",
       "    <tr>\n",
       "      <th>45</th>\n",
       "      <td>hg28</td>\n",
       "      <td>0.700000</td>\n",
       "      <td>0.722222</td>\n",
       "      <td>0.532873</td>\n",
       "      <td>one of the largest of its shape</td>\n",
       "      <td>(medium or large) and not (yellow and circle) ...</td>\n",
       "    </tr>\n",
       "    <tr>\n",
       "      <th>73</th>\n",
       "      <td>hg64</td>\n",
       "      <td>0.700000</td>\n",
       "      <td>0.772894</td>\n",
       "      <td>0.524372</td>\n",
       "      <td>no other object has the same shape</td>\n",
       "      <td>(large and circle) or (medium and triangle) or...</td>\n",
       "    </tr>\n",
       "    <tr>\n",
       "      <th>33</th>\n",
       "      <td>hg100</td>\n",
       "      <td>0.722222</td>\n",
       "      <td>0.721739</td>\n",
       "      <td>0.643772</td>\n",
       "      <td>one of the smallest of objects who share a sha...</td>\n",
       "      <td>(not large) or (yellow and triangle)</td>\n",
       "    </tr>\n",
       "  </tbody>\n",
       "</table>\n",
       "</div>"
      ],
      "text/plain": [
       "   concept_num  manual_rule_coverage  human_lq    chance  \\\n",
       "75        hg91              0.318182  0.867424  0.796539   \n",
       "58       hg111              0.363636  0.577640  0.500623   \n",
       "57       hg104              0.388889  0.676364  0.508034   \n",
       "66       hg112              0.388889  0.764000  0.517748   \n",
       "68        hg75              0.388889  0.652000  0.503673   \n",
       "65        hg74              0.409091  0.590062  0.507993   \n",
       "71        hg26              0.421053  0.831169  0.791205   \n",
       "64        hg63              0.473684  0.823333  0.505540   \n",
       "61        hg45              0.500000  0.663043  0.553002   \n",
       "60        hg90              0.500000  0.614719  0.514694   \n",
       "62       hg103              0.555556  0.500000  0.568980   \n",
       "59        hg59              0.555556  0.797521  0.520000   \n",
       "52       hg101              0.555556  0.752174  0.546314   \n",
       "69        hg76              0.588235  0.659420  0.527682   \n",
       "53        hg66              0.600000  0.734300  0.508889   \n",
       "48        hg73              0.611111  0.584416  0.533061   \n",
       "39        hg98              0.625000  0.765217  0.658203   \n",
       "63       hg102              0.631579  0.532051  0.503116   \n",
       "49       hg106              0.631579  0.772308  0.667590   \n",
       "55        hg68              0.631579  0.652000  0.523375   \n",
       "43        hg17              0.650000  0.765873  0.591837   \n",
       "40        hg38              0.650000  0.586420  0.525313   \n",
       "36       hg105              0.666667  0.720280  0.500408   \n",
       "72        hg70              0.666667  0.632231  0.546314   \n",
       "44        hg67              0.684211  0.683794  0.547022   \n",
       "51        hg97              0.684211  0.661157  0.744042   \n",
       "47        hg89              0.700000  0.860870  0.641761   \n",
       "45        hg28              0.700000  0.722222  0.532873   \n",
       "73        hg64              0.700000  0.772894  0.524372   \n",
       "33       hg100              0.722222  0.721739  0.643772   \n",
       "\n",
       "                                              concept  \\\n",
       "75      same shape as an object that is blue or green   \n",
       "58  at least one other object of the same shape is...   \n",
       "57       exactly one other object   is the same color   \n",
       "66  at least one other object of the same shape is...   \n",
       "68  there is another object of the same shape<br>t...   \n",
       "65  there is another object of the same shape<br>a...   \n",
       "71                     one of the largest or smallest   \n",
       "64                       same color as another object   \n",
       "61                   same shape as one of the largest   \n",
       "60  same shape as another object that is blue or g...   \n",
       "62                 exactly one blue object in the set   \n",
       "59                       same shape as another object   \n",
       "52           same shape as a uniquely smallest object   \n",
       "69  every other object   shares at least one featu...   \n",
       "53  same color as all other objects of the same shape   \n",
       "48  there is another object of the same shape and ...   \n",
       "39                         the unique smallest object   \n",
       "63  exactly one object in the set is blue excludin...   \n",
       "49  exactly one blue object that is the same shape...   \n",
       "55  (circle) or (same color as all other objects o...   \n",
       "43                     there is a triangle in the set   \n",
       "40            same shape as a (circle or blue) object   \n",
       "36     exactly one blue object that is the same shape   \n",
       "72  same color as all other objects of the same shape   \n",
       "44  blue or (same color as all other objects of th...   \n",
       "51               same shape as a uniquely blue object   \n",
       "47  exists another object of the same shape that i...   \n",
       "45                    one of the largest of its shape   \n",
       "73                 no other object has the same shape   \n",
       "33  one of the smallest of objects who share a sha...   \n",
       "\n",
       "                                      rule_expression  \n",
       "75  not (large and yellow and circle) and not (med...  \n",
       "58                                circle or rectangle  \n",
       "57  yellow or blue and (rectangle or circle or tri...  \n",
       "66  (blue and (triangle or rectangle)) or (yellow ...  \n",
       "68  ((small or medium) and (yellow or blue) and (c...  \n",
       "65  small or (triangle and (medium or large) and n...  \n",
       "71  (large and green) or (large and circle) or (gr...  \n",
       "64      (triangle or rectangle) and (medium or large)  \n",
       "61  (triangle or circle) and (green or yellow or b...  \n",
       "60  (large and rectangle) or (small and (blue or y...  \n",
       "62      (triangle or rectangle) and (small or medium)  \n",
       "59  (medium and (rectangle or circle)) or (triangl...  \n",
       "52  small or ((medium and yellow and not rectangle...  \n",
       "69  (yellow) or (blue and large) or (blue and tria...  \n",
       "53  (blue or yellow) and (large or triangle or rec...  \n",
       "48         (large and yellow) or (blue and rectangle)  \n",
       "39                                     large and blue  \n",
       "63                                False elif medium:   \n",
       "49            large and ((triangle ) or (rectangle ))  \n",
       "55                                    circle or small  \n",
       "43  not(small or blue) or ((small and yellow and t...  \n",
       "40  (circle or triangle or blue or yellow) and not...  \n",
       "36                                  blue or rectangle  \n",
       "72  (triangle and (blue or yellow)) or (circle and...  \n",
       "44  blue or (triangle) or (green and circle) or (y...  \n",
       "51         triangle or (small and blue and rectangle)  \n",
       "47  ((triangle or circle) and (yellow or green) an...  \n",
       "45  (medium or large) and not (yellow and circle) ...  \n",
       "73  (large and circle) or (medium and triangle) or...  \n",
       "33               (not large) or (yellow and triangle)  "
      ]
     },
     "execution_count": 32,
     "metadata": {},
     "output_type": "execute_result"
    }
   ],
   "source": [
    "fmanual_rule_coverage = check_rule_coverage(pd.read_csv('./results/experiment_2/viewer_fol_rules_manualcoded.csv'), mdf).sort_values(['manual_rule_coverage'])\n",
    "fmanual_rule_coverage.loc[:, ['concept_num', 'manual_rule_coverage', 'human_lq', 'chance', 'concept', 'rule_expression']].iloc[:30]"
   ]
  },
  {
   "cell_type": "code",
   "execution_count": 40,
   "metadata": {},
   "outputs": [
    {
     "data": {
      "application/vnd.plotly.v1+json": {
       "config": {
        "plotlyServerURL": "https://plot.ly"
       },
       "data": [
        {
         "alignmentgroup": "True",
         "boxpoints": "all",
         "customdata": [
          [
           "not (circle xor blue)"
          ],
          [
           "circle xor blue"
          ],
          [
           "blue or small"
          ],
          [
           "circle xor (not blue)"
          ],
          [
           "(circle and blue) or (triangle and green)"
          ],
          [
           "(circle or blue) or  (triangle and green)"
          ],
          [
           "large"
          ],
          [
           "circle and blue"
          ],
          [
           "large or small"
          ],
          [
           "(circle or triangle) implies blue"
          ],
          [
           "not (circle and blue)"
          ],
          [
           "circle or (blue and triangle)"
          ],
          [
           "blue implies circle"
          ],
          [
           "not (circle or blue)"
          ],
          [
           "circle implies blue"
          ],
          [
           "(not blue) implies circle"
          ],
          [
           "blue or green"
          ],
          [
           "blue implies size 1"
          ],
          [
           "medium"
          ],
          [
           "(not blue) implies (not circle)"
          ],
          [
           "small"
          ],
          [
           "large or medium"
          ],
          [
           "small and blue"
          ],
          [
           "circle or blue"
          ],
          [
           "circle and (not blue)"
          ],
          [
           "circle or (triangle implies blue)"
          ],
          [
           "not circle"
          ],
          [
           "circle and not blue"
          ],
          [
           "medium or small"
          ],
          [
           "circle or triangle"
          ],
          [
           "circle"
          ],
          [
           "blue"
          ],
          [
           "False"
          ],
          [
           "True"
          ],
          [
           "not (circle xor blue)"
          ],
          [
           "circle xor blue"
          ],
          [
           "blue or small"
          ],
          [
           "circle xor (not blue)"
          ],
          [
           "(circle and blue) or (triangle and green)"
          ],
          [
           "(circle or blue) or  (triangle and green)"
          ],
          [
           "large"
          ],
          [
           "circle and blue"
          ],
          [
           "large or small"
          ],
          [
           "(circle or triangle) implies blue"
          ],
          [
           "not (circle and blue)"
          ],
          [
           "circle or (blue and triangle)"
          ],
          [
           "blue implies circle"
          ],
          [
           "not (circle or blue)"
          ],
          [
           "circle implies blue"
          ],
          [
           "(not blue) implies circle"
          ],
          [
           "blue or green"
          ],
          [
           "blue implies size 1"
          ],
          [
           "medium"
          ],
          [
           "(not blue) implies (not circle)"
          ],
          [
           "small"
          ],
          [
           "large or medium"
          ],
          [
           "small and blue"
          ],
          [
           "circle or blue"
          ],
          [
           "circle and (not blue)"
          ],
          [
           "circle or (triangle implies blue)"
          ],
          [
           "not circle"
          ],
          [
           "circle and not blue"
          ],
          [
           "medium or small"
          ],
          [
           "circle or triangle"
          ],
          [
           "circle"
          ],
          [
           "blue"
          ],
          [
           "False"
          ],
          [
           "True"
          ]
         ],
         "hovertemplate": "variable=%{x}<br>value=%{y}<br>concept=%{customdata[0]}<extra></extra>",
         "legendgroup": "",
         "marker": {
          "color": "#636efa"
         },
         "name": "",
         "notched": false,
         "offsetgroup": "",
         "orientation": "v",
         "showlegend": false,
         "type": "box",
         "x": [
          "human_lq_diff",
          "human_lq_diff",
          "human_lq_diff",
          "human_lq_diff",
          "human_lq_diff",
          "human_lq_diff",
          "human_lq_diff",
          "human_lq_diff",
          "human_lq_diff",
          "human_lq_diff",
          "human_lq_diff",
          "human_lq_diff",
          "human_lq_diff",
          "human_lq_diff",
          "human_lq_diff",
          "human_lq_diff",
          "human_lq_diff",
          "human_lq_diff",
          "human_lq_diff",
          "human_lq_diff",
          "human_lq_diff",
          "human_lq_diff",
          "human_lq_diff",
          "human_lq_diff",
          "human_lq_diff",
          "human_lq_diff",
          "human_lq_diff",
          "human_lq_diff",
          "human_lq_diff",
          "human_lq_diff",
          "human_lq_diff",
          "human_lq_diff",
          "human_lq_diff",
          "human_lq_diff",
          "chance_difference",
          "chance_difference",
          "chance_difference",
          "chance_difference",
          "chance_difference",
          "chance_difference",
          "chance_difference",
          "chance_difference",
          "chance_difference",
          "chance_difference",
          "chance_difference",
          "chance_difference",
          "chance_difference",
          "chance_difference",
          "chance_difference",
          "chance_difference",
          "chance_difference",
          "chance_difference",
          "chance_difference",
          "chance_difference",
          "chance_difference",
          "chance_difference",
          "chance_difference",
          "chance_difference",
          "chance_difference",
          "chance_difference",
          "chance_difference",
          "chance_difference",
          "chance_difference",
          "chance_difference",
          "chance_difference",
          "chance_difference",
          "chance_difference",
          "chance_difference"
         ],
         "x0": " ",
         "xaxis": "x",
         "y": [
          -0.20961078495325058,
          -0.23913043478260887,
          -0.19244685662596095,
          -0.006993006993006867,
          -0.0880817746846454,
          -0.0634453781512605,
          -0.13848484848484854,
          -0.09916617033948782,
          -0.009615384615384581,
          0.03055555555555567,
          -0.048064324002382586,
          -0.02832674571805016,
          0.05991346220950511,
          0.0585896076352066,
          -0.006887052341597699,
          0.030668127053669503,
          0.02136752136752118,
          0.09367681498829039,
          0.04415584415584406,
          0.12301587301587313,
          0.033816425120772986,
          0.09545454545454557,
          0.08677685950413216,
          0.16666666666666663,
          0.04347826086956519,
          0.08260869565217399,
          0.04166666666666663,
          0.09565217391304359,
          0.04132231404958675,
          0.09090909090909083,
          0.06884057971014479,
          0.006666666666666821,
          0.07727272727272716,
          0,
          0.020454118971664492,
          0.056710775047258855,
          0.196034751615059,
          0.23550295857988168,
          0.1745152354570637,
          0.263840830449827,
          0.3016528925619836,
          0.009007318446237478,
          0.2146614069690992,
          0.34944444444444445,
          0.07750046913116904,
          0.423783287419651,
          0.30475950006312325,
          0.4387269482450922,
          0.2736455463728191,
          0.4274931049499202,
          0.33294753086419737,
          0.24643912926632616,
          0.43061224489795924,
          0.385062863576656,
          0.45674740484429077,
          0.42690311418685123,
          0.22138464590359064,
          0.4967129291453616,
          0.32346145767695855,
          0.3356444444444444,
          0.46106003244997296,
          0.25086505190311414,
          0.45716835217132656,
          0.41135734072022156,
          0.3673094582185492,
          0.43262297708700526,
          0,
          0
         ],
         "y0": " ",
         "yaxis": "y"
        }
       ],
       "layout": {
        "boxmode": "group",
        "legend": {
         "tracegroupgap": 0
        },
        "margin": {
         "t": 60
        },
        "template": {
         "data": {
          "bar": [
           {
            "error_x": {
             "color": "#2a3f5f"
            },
            "error_y": {
             "color": "#2a3f5f"
            },
            "marker": {
             "line": {
              "color": "#E5ECF6",
              "width": 0.5
             },
             "pattern": {
              "fillmode": "overlay",
              "size": 10,
              "solidity": 0.2
             }
            },
            "type": "bar"
           }
          ],
          "barpolar": [
           {
            "marker": {
             "line": {
              "color": "#E5ECF6",
              "width": 0.5
             },
             "pattern": {
              "fillmode": "overlay",
              "size": 10,
              "solidity": 0.2
             }
            },
            "type": "barpolar"
           }
          ],
          "carpet": [
           {
            "aaxis": {
             "endlinecolor": "#2a3f5f",
             "gridcolor": "white",
             "linecolor": "white",
             "minorgridcolor": "white",
             "startlinecolor": "#2a3f5f"
            },
            "baxis": {
             "endlinecolor": "#2a3f5f",
             "gridcolor": "white",
             "linecolor": "white",
             "minorgridcolor": "white",
             "startlinecolor": "#2a3f5f"
            },
            "type": "carpet"
           }
          ],
          "choropleth": [
           {
            "colorbar": {
             "outlinewidth": 0,
             "ticks": ""
            },
            "type": "choropleth"
           }
          ],
          "contour": [
           {
            "colorbar": {
             "outlinewidth": 0,
             "ticks": ""
            },
            "colorscale": [
             [
              0,
              "#0d0887"
             ],
             [
              0.1111111111111111,
              "#46039f"
             ],
             [
              0.2222222222222222,
              "#7201a8"
             ],
             [
              0.3333333333333333,
              "#9c179e"
             ],
             [
              0.4444444444444444,
              "#bd3786"
             ],
             [
              0.5555555555555556,
              "#d8576b"
             ],
             [
              0.6666666666666666,
              "#ed7953"
             ],
             [
              0.7777777777777778,
              "#fb9f3a"
             ],
             [
              0.8888888888888888,
              "#fdca26"
             ],
             [
              1,
              "#f0f921"
             ]
            ],
            "type": "contour"
           }
          ],
          "contourcarpet": [
           {
            "colorbar": {
             "outlinewidth": 0,
             "ticks": ""
            },
            "type": "contourcarpet"
           }
          ],
          "heatmap": [
           {
            "colorbar": {
             "outlinewidth": 0,
             "ticks": ""
            },
            "colorscale": [
             [
              0,
              "#0d0887"
             ],
             [
              0.1111111111111111,
              "#46039f"
             ],
             [
              0.2222222222222222,
              "#7201a8"
             ],
             [
              0.3333333333333333,
              "#9c179e"
             ],
             [
              0.4444444444444444,
              "#bd3786"
             ],
             [
              0.5555555555555556,
              "#d8576b"
             ],
             [
              0.6666666666666666,
              "#ed7953"
             ],
             [
              0.7777777777777778,
              "#fb9f3a"
             ],
             [
              0.8888888888888888,
              "#fdca26"
             ],
             [
              1,
              "#f0f921"
             ]
            ],
            "type": "heatmap"
           }
          ],
          "heatmapgl": [
           {
            "colorbar": {
             "outlinewidth": 0,
             "ticks": ""
            },
            "colorscale": [
             [
              0,
              "#0d0887"
             ],
             [
              0.1111111111111111,
              "#46039f"
             ],
             [
              0.2222222222222222,
              "#7201a8"
             ],
             [
              0.3333333333333333,
              "#9c179e"
             ],
             [
              0.4444444444444444,
              "#bd3786"
             ],
             [
              0.5555555555555556,
              "#d8576b"
             ],
             [
              0.6666666666666666,
              "#ed7953"
             ],
             [
              0.7777777777777778,
              "#fb9f3a"
             ],
             [
              0.8888888888888888,
              "#fdca26"
             ],
             [
              1,
              "#f0f921"
             ]
            ],
            "type": "heatmapgl"
           }
          ],
          "histogram": [
           {
            "marker": {
             "pattern": {
              "fillmode": "overlay",
              "size": 10,
              "solidity": 0.2
             }
            },
            "type": "histogram"
           }
          ],
          "histogram2d": [
           {
            "colorbar": {
             "outlinewidth": 0,
             "ticks": ""
            },
            "colorscale": [
             [
              0,
              "#0d0887"
             ],
             [
              0.1111111111111111,
              "#46039f"
             ],
             [
              0.2222222222222222,
              "#7201a8"
             ],
             [
              0.3333333333333333,
              "#9c179e"
             ],
             [
              0.4444444444444444,
              "#bd3786"
             ],
             [
              0.5555555555555556,
              "#d8576b"
             ],
             [
              0.6666666666666666,
              "#ed7953"
             ],
             [
              0.7777777777777778,
              "#fb9f3a"
             ],
             [
              0.8888888888888888,
              "#fdca26"
             ],
             [
              1,
              "#f0f921"
             ]
            ],
            "type": "histogram2d"
           }
          ],
          "histogram2dcontour": [
           {
            "colorbar": {
             "outlinewidth": 0,
             "ticks": ""
            },
            "colorscale": [
             [
              0,
              "#0d0887"
             ],
             [
              0.1111111111111111,
              "#46039f"
             ],
             [
              0.2222222222222222,
              "#7201a8"
             ],
             [
              0.3333333333333333,
              "#9c179e"
             ],
             [
              0.4444444444444444,
              "#bd3786"
             ],
             [
              0.5555555555555556,
              "#d8576b"
             ],
             [
              0.6666666666666666,
              "#ed7953"
             ],
             [
              0.7777777777777778,
              "#fb9f3a"
             ],
             [
              0.8888888888888888,
              "#fdca26"
             ],
             [
              1,
              "#f0f921"
             ]
            ],
            "type": "histogram2dcontour"
           }
          ],
          "mesh3d": [
           {
            "colorbar": {
             "outlinewidth": 0,
             "ticks": ""
            },
            "type": "mesh3d"
           }
          ],
          "parcoords": [
           {
            "line": {
             "colorbar": {
              "outlinewidth": 0,
              "ticks": ""
             }
            },
            "type": "parcoords"
           }
          ],
          "pie": [
           {
            "automargin": true,
            "type": "pie"
           }
          ],
          "scatter": [
           {
            "fillpattern": {
             "fillmode": "overlay",
             "size": 10,
             "solidity": 0.2
            },
            "type": "scatter"
           }
          ],
          "scatter3d": [
           {
            "line": {
             "colorbar": {
              "outlinewidth": 0,
              "ticks": ""
             }
            },
            "marker": {
             "colorbar": {
              "outlinewidth": 0,
              "ticks": ""
             }
            },
            "type": "scatter3d"
           }
          ],
          "scattercarpet": [
           {
            "marker": {
             "colorbar": {
              "outlinewidth": 0,
              "ticks": ""
             }
            },
            "type": "scattercarpet"
           }
          ],
          "scattergeo": [
           {
            "marker": {
             "colorbar": {
              "outlinewidth": 0,
              "ticks": ""
             }
            },
            "type": "scattergeo"
           }
          ],
          "scattergl": [
           {
            "marker": {
             "colorbar": {
              "outlinewidth": 0,
              "ticks": ""
             }
            },
            "type": "scattergl"
           }
          ],
          "scattermapbox": [
           {
            "marker": {
             "colorbar": {
              "outlinewidth": 0,
              "ticks": ""
             }
            },
            "type": "scattermapbox"
           }
          ],
          "scatterpolar": [
           {
            "marker": {
             "colorbar": {
              "outlinewidth": 0,
              "ticks": ""
             }
            },
            "type": "scatterpolar"
           }
          ],
          "scatterpolargl": [
           {
            "marker": {
             "colorbar": {
              "outlinewidth": 0,
              "ticks": ""
             }
            },
            "type": "scatterpolargl"
           }
          ],
          "scatterternary": [
           {
            "marker": {
             "colorbar": {
              "outlinewidth": 0,
              "ticks": ""
             }
            },
            "type": "scatterternary"
           }
          ],
          "surface": [
           {
            "colorbar": {
             "outlinewidth": 0,
             "ticks": ""
            },
            "colorscale": [
             [
              0,
              "#0d0887"
             ],
             [
              0.1111111111111111,
              "#46039f"
             ],
             [
              0.2222222222222222,
              "#7201a8"
             ],
             [
              0.3333333333333333,
              "#9c179e"
             ],
             [
              0.4444444444444444,
              "#bd3786"
             ],
             [
              0.5555555555555556,
              "#d8576b"
             ],
             [
              0.6666666666666666,
              "#ed7953"
             ],
             [
              0.7777777777777778,
              "#fb9f3a"
             ],
             [
              0.8888888888888888,
              "#fdca26"
             ],
             [
              1,
              "#f0f921"
             ]
            ],
            "type": "surface"
           }
          ],
          "table": [
           {
            "cells": {
             "fill": {
              "color": "#EBF0F8"
             },
             "line": {
              "color": "white"
             }
            },
            "header": {
             "fill": {
              "color": "#C8D4E3"
             },
             "line": {
              "color": "white"
             }
            },
            "type": "table"
           }
          ]
         },
         "layout": {
          "annotationdefaults": {
           "arrowcolor": "#2a3f5f",
           "arrowhead": 0,
           "arrowwidth": 1
          },
          "autotypenumbers": "strict",
          "coloraxis": {
           "colorbar": {
            "outlinewidth": 0,
            "ticks": ""
           }
          },
          "colorscale": {
           "diverging": [
            [
             0,
             "#8e0152"
            ],
            [
             0.1,
             "#c51b7d"
            ],
            [
             0.2,
             "#de77ae"
            ],
            [
             0.3,
             "#f1b6da"
            ],
            [
             0.4,
             "#fde0ef"
            ],
            [
             0.5,
             "#f7f7f7"
            ],
            [
             0.6,
             "#e6f5d0"
            ],
            [
             0.7,
             "#b8e186"
            ],
            [
             0.8,
             "#7fbc41"
            ],
            [
             0.9,
             "#4d9221"
            ],
            [
             1,
             "#276419"
            ]
           ],
           "sequential": [
            [
             0,
             "#0d0887"
            ],
            [
             0.1111111111111111,
             "#46039f"
            ],
            [
             0.2222222222222222,
             "#7201a8"
            ],
            [
             0.3333333333333333,
             "#9c179e"
            ],
            [
             0.4444444444444444,
             "#bd3786"
            ],
            [
             0.5555555555555556,
             "#d8576b"
            ],
            [
             0.6666666666666666,
             "#ed7953"
            ],
            [
             0.7777777777777778,
             "#fb9f3a"
            ],
            [
             0.8888888888888888,
             "#fdca26"
            ],
            [
             1,
             "#f0f921"
            ]
           ],
           "sequentialminus": [
            [
             0,
             "#0d0887"
            ],
            [
             0.1111111111111111,
             "#46039f"
            ],
            [
             0.2222222222222222,
             "#7201a8"
            ],
            [
             0.3333333333333333,
             "#9c179e"
            ],
            [
             0.4444444444444444,
             "#bd3786"
            ],
            [
             0.5555555555555556,
             "#d8576b"
            ],
            [
             0.6666666666666666,
             "#ed7953"
            ],
            [
             0.7777777777777778,
             "#fb9f3a"
            ],
            [
             0.8888888888888888,
             "#fdca26"
            ],
            [
             1,
             "#f0f921"
            ]
           ]
          },
          "colorway": [
           "#636efa",
           "#EF553B",
           "#00cc96",
           "#ab63fa",
           "#FFA15A",
           "#19d3f3",
           "#FF6692",
           "#B6E880",
           "#FF97FF",
           "#FECB52"
          ],
          "font": {
           "color": "#2a3f5f"
          },
          "geo": {
           "bgcolor": "white",
           "lakecolor": "white",
           "landcolor": "#E5ECF6",
           "showlakes": true,
           "showland": true,
           "subunitcolor": "white"
          },
          "hoverlabel": {
           "align": "left"
          },
          "hovermode": "closest",
          "mapbox": {
           "style": "light"
          },
          "paper_bgcolor": "white",
          "plot_bgcolor": "#E5ECF6",
          "polar": {
           "angularaxis": {
            "gridcolor": "white",
            "linecolor": "white",
            "ticks": ""
           },
           "bgcolor": "#E5ECF6",
           "radialaxis": {
            "gridcolor": "white",
            "linecolor": "white",
            "ticks": ""
           }
          },
          "scene": {
           "xaxis": {
            "backgroundcolor": "#E5ECF6",
            "gridcolor": "white",
            "gridwidth": 2,
            "linecolor": "white",
            "showbackground": true,
            "ticks": "",
            "zerolinecolor": "white"
           },
           "yaxis": {
            "backgroundcolor": "#E5ECF6",
            "gridcolor": "white",
            "gridwidth": 2,
            "linecolor": "white",
            "showbackground": true,
            "ticks": "",
            "zerolinecolor": "white"
           },
           "zaxis": {
            "backgroundcolor": "#E5ECF6",
            "gridcolor": "white",
            "gridwidth": 2,
            "linecolor": "white",
            "showbackground": true,
            "ticks": "",
            "zerolinecolor": "white"
           }
          },
          "shapedefaults": {
           "line": {
            "color": "#2a3f5f"
           }
          },
          "ternary": {
           "aaxis": {
            "gridcolor": "white",
            "linecolor": "white",
            "ticks": ""
           },
           "baxis": {
            "gridcolor": "white",
            "linecolor": "white",
            "ticks": ""
           },
           "bgcolor": "#E5ECF6",
           "caxis": {
            "gridcolor": "white",
            "linecolor": "white",
            "ticks": ""
           }
          },
          "title": {
           "x": 0.05
          },
          "xaxis": {
           "automargin": true,
           "gridcolor": "white",
           "linecolor": "white",
           "ticks": "",
           "title": {
            "standoff": 15
           },
           "zerolinecolor": "white",
           "zerolinewidth": 2
          },
          "yaxis": {
           "automargin": true,
           "gridcolor": "white",
           "linecolor": "white",
           "ticks": "",
           "title": {
            "standoff": 15
           },
           "zerolinecolor": "white",
           "zerolinewidth": 2
          }
         }
        },
        "width": 500,
        "xaxis": {
         "anchor": "y",
         "domain": [
          0,
          1
         ],
         "title": {
          "text": "variable"
         }
        },
        "yaxis": {
         "anchor": "x",
         "domain": [
          0,
          1
         ],
         "title": {
          "text": "value"
         }
        }
       }
      },
      "text/html": [
       "<div>                            <div id=\"45b975e9-9c94-4f76-ae7d-252e9b2374fb\" class=\"plotly-graph-div\" style=\"height:525px; width:500px;\"></div>            <script type=\"text/javascript\">                require([\"plotly\"], function(Plotly) {                    window.PLOTLYENV=window.PLOTLYENV || {};                                    if (document.getElementById(\"45b975e9-9c94-4f76-ae7d-252e9b2374fb\")) {                    Plotly.newPlot(                        \"45b975e9-9c94-4f76-ae7d-252e9b2374fb\",                        [{\"alignmentgroup\":\"True\",\"boxpoints\":\"all\",\"customdata\":[[\"not (circle xor blue)\"],[\"circle xor blue\"],[\"blue or small\"],[\"circle xor (not blue)\"],[\"(circle and blue) or (triangle and green)\"],[\"(circle or blue) or  (triangle and green)\"],[\"large\"],[\"circle and blue\"],[\"large or small\"],[\"(circle or triangle) implies blue\"],[\"not (circle and blue)\"],[\"circle or (blue and triangle)\"],[\"blue implies circle\"],[\"not (circle or blue)\"],[\"circle implies blue\"],[\"(not blue) implies circle\"],[\"blue or green\"],[\"blue implies size 1\"],[\"medium\"],[\"(not blue) implies (not circle)\"],[\"small\"],[\"large or medium\"],[\"small and blue\"],[\"circle or blue\"],[\"circle and (not blue)\"],[\"circle or (triangle implies blue)\"],[\"not circle\"],[\"circle and not blue\"],[\"medium or small\"],[\"circle or triangle\"],[\"circle\"],[\"blue\"],[\"False\"],[\"True\"],[\"not (circle xor blue)\"],[\"circle xor blue\"],[\"blue or small\"],[\"circle xor (not blue)\"],[\"(circle and blue) or (triangle and green)\"],[\"(circle or blue) or  (triangle and green)\"],[\"large\"],[\"circle and blue\"],[\"large or small\"],[\"(circle or triangle) implies blue\"],[\"not (circle and blue)\"],[\"circle or (blue and triangle)\"],[\"blue implies circle\"],[\"not (circle or blue)\"],[\"circle implies blue\"],[\"(not blue) implies circle\"],[\"blue or green\"],[\"blue implies size 1\"],[\"medium\"],[\"(not blue) implies (not circle)\"],[\"small\"],[\"large or medium\"],[\"small and blue\"],[\"circle or blue\"],[\"circle and (not blue)\"],[\"circle or (triangle implies blue)\"],[\"not circle\"],[\"circle and not blue\"],[\"medium or small\"],[\"circle or triangle\"],[\"circle\"],[\"blue\"],[\"False\"],[\"True\"]],\"hovertemplate\":\"variable=%{x}\\u003cbr\\u003evalue=%{y}\\u003cbr\\u003econcept=%{customdata[0]}\\u003cextra\\u003e\\u003c\\u002fextra\\u003e\",\"legendgroup\":\"\",\"marker\":{\"color\":\"#636efa\"},\"name\":\"\",\"notched\":false,\"offsetgroup\":\"\",\"orientation\":\"v\",\"showlegend\":false,\"x\":[\"human_lq_diff\",\"human_lq_diff\",\"human_lq_diff\",\"human_lq_diff\",\"human_lq_diff\",\"human_lq_diff\",\"human_lq_diff\",\"human_lq_diff\",\"human_lq_diff\",\"human_lq_diff\",\"human_lq_diff\",\"human_lq_diff\",\"human_lq_diff\",\"human_lq_diff\",\"human_lq_diff\",\"human_lq_diff\",\"human_lq_diff\",\"human_lq_diff\",\"human_lq_diff\",\"human_lq_diff\",\"human_lq_diff\",\"human_lq_diff\",\"human_lq_diff\",\"human_lq_diff\",\"human_lq_diff\",\"human_lq_diff\",\"human_lq_diff\",\"human_lq_diff\",\"human_lq_diff\",\"human_lq_diff\",\"human_lq_diff\",\"human_lq_diff\",\"human_lq_diff\",\"human_lq_diff\",\"chance_difference\",\"chance_difference\",\"chance_difference\",\"chance_difference\",\"chance_difference\",\"chance_difference\",\"chance_difference\",\"chance_difference\",\"chance_difference\",\"chance_difference\",\"chance_difference\",\"chance_difference\",\"chance_difference\",\"chance_difference\",\"chance_difference\",\"chance_difference\",\"chance_difference\",\"chance_difference\",\"chance_difference\",\"chance_difference\",\"chance_difference\",\"chance_difference\",\"chance_difference\",\"chance_difference\",\"chance_difference\",\"chance_difference\",\"chance_difference\",\"chance_difference\",\"chance_difference\",\"chance_difference\",\"chance_difference\",\"chance_difference\",\"chance_difference\",\"chance_difference\"],\"x0\":\" \",\"xaxis\":\"x\",\"y\":[-0.20961078495325058,-0.23913043478260887,-0.19244685662596095,-0.006993006993006867,-0.0880817746846454,-0.0634453781512605,-0.13848484848484854,-0.09916617033948782,-0.009615384615384581,0.03055555555555567,-0.048064324002382586,-0.02832674571805016,0.05991346220950511,0.0585896076352066,-0.006887052341597699,0.030668127053669503,0.02136752136752118,0.09367681498829039,0.04415584415584406,0.12301587301587313,0.033816425120772986,0.09545454545454557,0.08677685950413216,0.16666666666666663,0.04347826086956519,0.08260869565217399,0.04166666666666663,0.09565217391304359,0.04132231404958675,0.09090909090909083,0.06884057971014479,0.006666666666666821,0.07727272727272716,0.0,0.020454118971664492,0.056710775047258855,0.196034751615059,0.23550295857988168,0.1745152354570637,0.263840830449827,0.3016528925619836,0.009007318446237478,0.2146614069690992,0.34944444444444445,0.07750046913116904,0.423783287419651,0.30475950006312325,0.4387269482450922,0.2736455463728191,0.4274931049499202,0.33294753086419737,0.24643912926632616,0.43061224489795924,0.385062863576656,0.45674740484429077,0.42690311418685123,0.22138464590359064,0.4967129291453616,0.32346145767695855,0.3356444444444444,0.46106003244997296,0.25086505190311414,0.45716835217132656,0.41135734072022156,0.3673094582185492,0.43262297708700526,0.0,0.0],\"y0\":\" \",\"yaxis\":\"y\",\"type\":\"box\"}],                        {\"template\":{\"data\":{\"histogram2dcontour\":[{\"type\":\"histogram2dcontour\",\"colorbar\":{\"outlinewidth\":0,\"ticks\":\"\"},\"colorscale\":[[0.0,\"#0d0887\"],[0.1111111111111111,\"#46039f\"],[0.2222222222222222,\"#7201a8\"],[0.3333333333333333,\"#9c179e\"],[0.4444444444444444,\"#bd3786\"],[0.5555555555555556,\"#d8576b\"],[0.6666666666666666,\"#ed7953\"],[0.7777777777777778,\"#fb9f3a\"],[0.8888888888888888,\"#fdca26\"],[1.0,\"#f0f921\"]]}],\"choropleth\":[{\"type\":\"choropleth\",\"colorbar\":{\"outlinewidth\":0,\"ticks\":\"\"}}],\"histogram2d\":[{\"type\":\"histogram2d\",\"colorbar\":{\"outlinewidth\":0,\"ticks\":\"\"},\"colorscale\":[[0.0,\"#0d0887\"],[0.1111111111111111,\"#46039f\"],[0.2222222222222222,\"#7201a8\"],[0.3333333333333333,\"#9c179e\"],[0.4444444444444444,\"#bd3786\"],[0.5555555555555556,\"#d8576b\"],[0.6666666666666666,\"#ed7953\"],[0.7777777777777778,\"#fb9f3a\"],[0.8888888888888888,\"#fdca26\"],[1.0,\"#f0f921\"]]}],\"heatmap\":[{\"type\":\"heatmap\",\"colorbar\":{\"outlinewidth\":0,\"ticks\":\"\"},\"colorscale\":[[0.0,\"#0d0887\"],[0.1111111111111111,\"#46039f\"],[0.2222222222222222,\"#7201a8\"],[0.3333333333333333,\"#9c179e\"],[0.4444444444444444,\"#bd3786\"],[0.5555555555555556,\"#d8576b\"],[0.6666666666666666,\"#ed7953\"],[0.7777777777777778,\"#fb9f3a\"],[0.8888888888888888,\"#fdca26\"],[1.0,\"#f0f921\"]]}],\"heatmapgl\":[{\"type\":\"heatmapgl\",\"colorbar\":{\"outlinewidth\":0,\"ticks\":\"\"},\"colorscale\":[[0.0,\"#0d0887\"],[0.1111111111111111,\"#46039f\"],[0.2222222222222222,\"#7201a8\"],[0.3333333333333333,\"#9c179e\"],[0.4444444444444444,\"#bd3786\"],[0.5555555555555556,\"#d8576b\"],[0.6666666666666666,\"#ed7953\"],[0.7777777777777778,\"#fb9f3a\"],[0.8888888888888888,\"#fdca26\"],[1.0,\"#f0f921\"]]}],\"contourcarpet\":[{\"type\":\"contourcarpet\",\"colorbar\":{\"outlinewidth\":0,\"ticks\":\"\"}}],\"contour\":[{\"type\":\"contour\",\"colorbar\":{\"outlinewidth\":0,\"ticks\":\"\"},\"colorscale\":[[0.0,\"#0d0887\"],[0.1111111111111111,\"#46039f\"],[0.2222222222222222,\"#7201a8\"],[0.3333333333333333,\"#9c179e\"],[0.4444444444444444,\"#bd3786\"],[0.5555555555555556,\"#d8576b\"],[0.6666666666666666,\"#ed7953\"],[0.7777777777777778,\"#fb9f3a\"],[0.8888888888888888,\"#fdca26\"],[1.0,\"#f0f921\"]]}],\"surface\":[{\"type\":\"surface\",\"colorbar\":{\"outlinewidth\":0,\"ticks\":\"\"},\"colorscale\":[[0.0,\"#0d0887\"],[0.1111111111111111,\"#46039f\"],[0.2222222222222222,\"#7201a8\"],[0.3333333333333333,\"#9c179e\"],[0.4444444444444444,\"#bd3786\"],[0.5555555555555556,\"#d8576b\"],[0.6666666666666666,\"#ed7953\"],[0.7777777777777778,\"#fb9f3a\"],[0.8888888888888888,\"#fdca26\"],[1.0,\"#f0f921\"]]}],\"mesh3d\":[{\"type\":\"mesh3d\",\"colorbar\":{\"outlinewidth\":0,\"ticks\":\"\"}}],\"scatter\":[{\"fillpattern\":{\"fillmode\":\"overlay\",\"size\":10,\"solidity\":0.2},\"type\":\"scatter\"}],\"parcoords\":[{\"type\":\"parcoords\",\"line\":{\"colorbar\":{\"outlinewidth\":0,\"ticks\":\"\"}}}],\"scatterpolargl\":[{\"type\":\"scatterpolargl\",\"marker\":{\"colorbar\":{\"outlinewidth\":0,\"ticks\":\"\"}}}],\"bar\":[{\"error_x\":{\"color\":\"#2a3f5f\"},\"error_y\":{\"color\":\"#2a3f5f\"},\"marker\":{\"line\":{\"color\":\"#E5ECF6\",\"width\":0.5},\"pattern\":{\"fillmode\":\"overlay\",\"size\":10,\"solidity\":0.2}},\"type\":\"bar\"}],\"scattergeo\":[{\"type\":\"scattergeo\",\"marker\":{\"colorbar\":{\"outlinewidth\":0,\"ticks\":\"\"}}}],\"scatterpolar\":[{\"type\":\"scatterpolar\",\"marker\":{\"colorbar\":{\"outlinewidth\":0,\"ticks\":\"\"}}}],\"histogram\":[{\"marker\":{\"pattern\":{\"fillmode\":\"overlay\",\"size\":10,\"solidity\":0.2}},\"type\":\"histogram\"}],\"scattergl\":[{\"type\":\"scattergl\",\"marker\":{\"colorbar\":{\"outlinewidth\":0,\"ticks\":\"\"}}}],\"scatter3d\":[{\"type\":\"scatter3d\",\"line\":{\"colorbar\":{\"outlinewidth\":0,\"ticks\":\"\"}},\"marker\":{\"colorbar\":{\"outlinewidth\":0,\"ticks\":\"\"}}}],\"scattermapbox\":[{\"type\":\"scattermapbox\",\"marker\":{\"colorbar\":{\"outlinewidth\":0,\"ticks\":\"\"}}}],\"scatterternary\":[{\"type\":\"scatterternary\",\"marker\":{\"colorbar\":{\"outlinewidth\":0,\"ticks\":\"\"}}}],\"scattercarpet\":[{\"type\":\"scattercarpet\",\"marker\":{\"colorbar\":{\"outlinewidth\":0,\"ticks\":\"\"}}}],\"carpet\":[{\"aaxis\":{\"endlinecolor\":\"#2a3f5f\",\"gridcolor\":\"white\",\"linecolor\":\"white\",\"minorgridcolor\":\"white\",\"startlinecolor\":\"#2a3f5f\"},\"baxis\":{\"endlinecolor\":\"#2a3f5f\",\"gridcolor\":\"white\",\"linecolor\":\"white\",\"minorgridcolor\":\"white\",\"startlinecolor\":\"#2a3f5f\"},\"type\":\"carpet\"}],\"table\":[{\"cells\":{\"fill\":{\"color\":\"#EBF0F8\"},\"line\":{\"color\":\"white\"}},\"header\":{\"fill\":{\"color\":\"#C8D4E3\"},\"line\":{\"color\":\"white\"}},\"type\":\"table\"}],\"barpolar\":[{\"marker\":{\"line\":{\"color\":\"#E5ECF6\",\"width\":0.5},\"pattern\":{\"fillmode\":\"overlay\",\"size\":10,\"solidity\":0.2}},\"type\":\"barpolar\"}],\"pie\":[{\"automargin\":true,\"type\":\"pie\"}]},\"layout\":{\"autotypenumbers\":\"strict\",\"colorway\":[\"#636efa\",\"#EF553B\",\"#00cc96\",\"#ab63fa\",\"#FFA15A\",\"#19d3f3\",\"#FF6692\",\"#B6E880\",\"#FF97FF\",\"#FECB52\"],\"font\":{\"color\":\"#2a3f5f\"},\"hovermode\":\"closest\",\"hoverlabel\":{\"align\":\"left\"},\"paper_bgcolor\":\"white\",\"plot_bgcolor\":\"#E5ECF6\",\"polar\":{\"bgcolor\":\"#E5ECF6\",\"angularaxis\":{\"gridcolor\":\"white\",\"linecolor\":\"white\",\"ticks\":\"\"},\"radialaxis\":{\"gridcolor\":\"white\",\"linecolor\":\"white\",\"ticks\":\"\"}},\"ternary\":{\"bgcolor\":\"#E5ECF6\",\"aaxis\":{\"gridcolor\":\"white\",\"linecolor\":\"white\",\"ticks\":\"\"},\"baxis\":{\"gridcolor\":\"white\",\"linecolor\":\"white\",\"ticks\":\"\"},\"caxis\":{\"gridcolor\":\"white\",\"linecolor\":\"white\",\"ticks\":\"\"}},\"coloraxis\":{\"colorbar\":{\"outlinewidth\":0,\"ticks\":\"\"}},\"colorscale\":{\"sequential\":[[0.0,\"#0d0887\"],[0.1111111111111111,\"#46039f\"],[0.2222222222222222,\"#7201a8\"],[0.3333333333333333,\"#9c179e\"],[0.4444444444444444,\"#bd3786\"],[0.5555555555555556,\"#d8576b\"],[0.6666666666666666,\"#ed7953\"],[0.7777777777777778,\"#fb9f3a\"],[0.8888888888888888,\"#fdca26\"],[1.0,\"#f0f921\"]],\"sequentialminus\":[[0.0,\"#0d0887\"],[0.1111111111111111,\"#46039f\"],[0.2222222222222222,\"#7201a8\"],[0.3333333333333333,\"#9c179e\"],[0.4444444444444444,\"#bd3786\"],[0.5555555555555556,\"#d8576b\"],[0.6666666666666666,\"#ed7953\"],[0.7777777777777778,\"#fb9f3a\"],[0.8888888888888888,\"#fdca26\"],[1.0,\"#f0f921\"]],\"diverging\":[[0,\"#8e0152\"],[0.1,\"#c51b7d\"],[0.2,\"#de77ae\"],[0.3,\"#f1b6da\"],[0.4,\"#fde0ef\"],[0.5,\"#f7f7f7\"],[0.6,\"#e6f5d0\"],[0.7,\"#b8e186\"],[0.8,\"#7fbc41\"],[0.9,\"#4d9221\"],[1,\"#276419\"]]},\"xaxis\":{\"gridcolor\":\"white\",\"linecolor\":\"white\",\"ticks\":\"\",\"title\":{\"standoff\":15},\"zerolinecolor\":\"white\",\"automargin\":true,\"zerolinewidth\":2},\"yaxis\":{\"gridcolor\":\"white\",\"linecolor\":\"white\",\"ticks\":\"\",\"title\":{\"standoff\":15},\"zerolinecolor\":\"white\",\"automargin\":true,\"zerolinewidth\":2},\"scene\":{\"xaxis\":{\"backgroundcolor\":\"#E5ECF6\",\"gridcolor\":\"white\",\"linecolor\":\"white\",\"showbackground\":true,\"ticks\":\"\",\"zerolinecolor\":\"white\",\"gridwidth\":2},\"yaxis\":{\"backgroundcolor\":\"#E5ECF6\",\"gridcolor\":\"white\",\"linecolor\":\"white\",\"showbackground\":true,\"ticks\":\"\",\"zerolinecolor\":\"white\",\"gridwidth\":2},\"zaxis\":{\"backgroundcolor\":\"#E5ECF6\",\"gridcolor\":\"white\",\"linecolor\":\"white\",\"showbackground\":true,\"ticks\":\"\",\"zerolinecolor\":\"white\",\"gridwidth\":2}},\"shapedefaults\":{\"line\":{\"color\":\"#2a3f5f\"}},\"annotationdefaults\":{\"arrowcolor\":\"#2a3f5f\",\"arrowhead\":0,\"arrowwidth\":1},\"geo\":{\"bgcolor\":\"white\",\"landcolor\":\"#E5ECF6\",\"subunitcolor\":\"white\",\"showland\":true,\"showlakes\":true,\"lakecolor\":\"white\"},\"title\":{\"x\":0.05},\"mapbox\":{\"style\":\"light\"}}},\"xaxis\":{\"anchor\":\"y\",\"domain\":[0.0,1.0],\"title\":{\"text\":\"variable\"}},\"yaxis\":{\"anchor\":\"x\",\"domain\":[0.0,1.0],\"title\":{\"text\":\"value\"}},\"legend\":{\"tracegroupgap\":0},\"margin\":{\"t\":60},\"boxmode\":\"group\",\"width\":500},                        {\"responsive\": true}                    ).then(function(){\n",
       "                            \n",
       "var gd = document.getElementById('45b975e9-9c94-4f76-ae7d-252e9b2374fb');\n",
       "var x = new MutationObserver(function (mutations, observer) {{\n",
       "        var display = window.getComputedStyle(gd).display;\n",
       "        if (!display || display === 'none') {{\n",
       "            console.log([gd, 'removed!']);\n",
       "            Plotly.purge(gd);\n",
       "            observer.disconnect();\n",
       "        }}\n",
       "}});\n",
       "\n",
       "// Listen for the removal of the full notebook cells\n",
       "var notebookContainer = gd.closest('#notebook-container');\n",
       "if (notebookContainer) {{\n",
       "    x.observe(notebookContainer, {childList: true});\n",
       "}}\n",
       "\n",
       "// Listen for the clearing of the current output cell\n",
       "var outputEl = gd.closest('.output');\n",
       "if (outputEl) {{\n",
       "    x.observe(outputEl, {childList: true});\n",
       "}}\n",
       "\n",
       "                        })                };                });            </script>        </div>"
      ]
     },
     "metadata": {},
     "output_type": "display_data"
    }
   ],
   "source": [
    "import plotly.express as px\n",
    "px.box(manual_rule_coverage, y=['human_lq_diff', 'chance_difference'], points='all', hover_data='concept', width=500)"
   ]
  },
  {
   "cell_type": "code",
   "execution_count": 18,
   "metadata": {},
   "outputs": [
    {
     "data": {
      "text/html": [
       "<div>\n",
       "<style scoped>\n",
       "    .dataframe tbody tr th:only-of-type {\n",
       "        vertical-align: middle;\n",
       "    }\n",
       "\n",
       "    .dataframe tbody tr th {\n",
       "        vertical-align: top;\n",
       "    }\n",
       "\n",
       "    .dataframe thead th {\n",
       "        text-align: right;\n",
       "    }\n",
       "</style>\n",
       "<table border=\"1\" class=\"dataframe\">\n",
       "  <thead>\n",
       "    <tr style=\"text-align: right;\">\n",
       "      <th></th>\n",
       "      <th>rule_match</th>\n",
       "      <th>rule_coverage</th>\n",
       "      <th>concept_num</th>\n",
       "      <th>concept</th>\n",
       "      <th>rule_expression</th>\n",
       "      <th>model_reply</th>\n",
       "      <th>code</th>\n",
       "    </tr>\n",
       "  </thead>\n",
       "  <tbody>\n",
       "    <tr>\n",
       "      <th>69</th>\n",
       "      <td>False</td>\n",
       "      <td>0.753623</td>\n",
       "      <td>hg100</td>\n",
       "      <td>one of the smallest of objects who share a sha...</td>\n",
       "      <td>(not large) or (yellow and triangle)</td>\n",
       "      <td>Based on your examples, I've learned that the ...</td>\n",
       "      <td>def is_rule(obj):\\n    return (not obj.large) ...</td>\n",
       "    </tr>\n",
       "    <tr>\n",
       "      <th>75</th>\n",
       "      <td>False</td>\n",
       "      <td>0.680000</td>\n",
       "      <td>hg67</td>\n",
       "      <td>blue or (same color as all other objects of th...</td>\n",
       "      <td>blue or (triangle) or (green and circle) or (y...</td>\n",
       "      <td>Based on your examples, I've learned that the ...</td>\n",
       "      <td>def is_rule(obj):\\n    return obj.blue or (obj...</td>\n",
       "    </tr>\n",
       "    <tr>\n",
       "      <th>60</th>\n",
       "      <td>False</td>\n",
       "      <td>0.650000</td>\n",
       "      <td>hg66</td>\n",
       "      <td>same color as all other objects of the same shape</td>\n",
       "      <td>(blue or yellow) and (large or triangle or rec...</td>\n",
       "      <td>Based on your examples, I've learned that the ...</td>\n",
       "      <td>def is_rule(obj):\\n    return (obj.blue or obj...</td>\n",
       "    </tr>\n",
       "    <tr>\n",
       "      <th>68</th>\n",
       "      <td>False</td>\n",
       "      <td>0.632353</td>\n",
       "      <td>hg65</td>\n",
       "      <td>same shape and color as another object</td>\n",
       "      <td>(medium and circle) or (rectangle and not yell...</td>\n",
       "      <td>Based on your examples, I've learned that the ...</td>\n",
       "      <td>def is_rule(obj):\\n    return (obj.medium and ...</td>\n",
       "    </tr>\n",
       "    <tr>\n",
       "      <th>77</th>\n",
       "      <td>False</td>\n",
       "      <td>0.389610</td>\n",
       "      <td>hg64</td>\n",
       "      <td>no other object has the same shape</td>\n",
       "      <td>and</td>\n",
       "      <td>Based on your examples, I've learned that the ...</td>\n",
       "      <td>def is_rule(obj):\\n    return obj.size and obj...</td>\n",
       "    </tr>\n",
       "    <tr>\n",
       "      <th>...</th>\n",
       "      <td>...</td>\n",
       "      <td>...</td>\n",
       "      <td>...</td>\n",
       "      <td>...</td>\n",
       "      <td>...</td>\n",
       "      <td>...</td>\n",
       "      <td>...</td>\n",
       "    </tr>\n",
       "    <tr>\n",
       "      <th>63</th>\n",
       "      <td>False</td>\n",
       "      <td>0.698413</td>\n",
       "      <td>hg35</td>\n",
       "      <td>larger than some other object</td>\n",
       "      <td>(large and blue) or (medium and yellow) or ((t...</td>\n",
       "      <td>Based on your examples, I've learned that the ...</td>\n",
       "      <td>def is_rule(obj):\\n    return (obj.large and o...</td>\n",
       "    </tr>\n",
       "    <tr>\n",
       "      <th>64</th>\n",
       "      <td>False</td>\n",
       "      <td>0.906250</td>\n",
       "      <td>hg34</td>\n",
       "      <td>blue or (larger or equal in size to all other ...</td>\n",
       "      <td>large or blue</td>\n",
       "      <td>Based on your examples, I've learned that the ...</td>\n",
       "      <td>def is_rule(obj):\\n    return obj.large or obj...</td>\n",
       "    </tr>\n",
       "    <tr>\n",
       "      <th>68</th>\n",
       "      <td>False</td>\n",
       "      <td>0.955882</td>\n",
       "      <td>hg33</td>\n",
       "      <td>one of the largest and blue</td>\n",
       "      <td>large and blue</td>\n",
       "      <td>Based on your examples, I've learned that the ...</td>\n",
       "      <td>def is_rule(obj):\\n    return obj.large and ob...</td>\n",
       "    </tr>\n",
       "    <tr>\n",
       "      <th>75</th>\n",
       "      <td>False</td>\n",
       "      <td>0.720000</td>\n",
       "      <td>hg40</td>\n",
       "      <td>(not blue) and same shape as a blue object</td>\n",
       "      <td>(small and circle) or (small and rectangle) an...</td>\n",
       "      <td>Based on your examples, I've learned that the ...</td>\n",
       "      <td>def is_rule(obj):\\n    return (obj.small and o...</td>\n",
       "    </tr>\n",
       "    <tr>\n",
       "      <th>64</th>\n",
       "      <td>False</td>\n",
       "      <td>0.750000</td>\n",
       "      <td>hg99</td>\n",
       "      <td>one of the smallest</td>\n",
       "      <td>small and not yellow</td>\n",
       "      <td>Based on your examples, I've learned that the ...</td>\n",
       "      <td>def is_rule(obj):\\n    return obj.small and no...</td>\n",
       "    </tr>\n",
       "  </tbody>\n",
       "</table>\n",
       "<p>78 rows × 7 columns</p>\n",
       "</div>"
      ],
      "text/plain": [
       "    rule_match  rule_coverage concept_num  \\\n",
       "69       False       0.753623       hg100   \n",
       "75       False       0.680000        hg67   \n",
       "60       False       0.650000        hg66   \n",
       "68       False       0.632353        hg65   \n",
       "77       False       0.389610        hg64   \n",
       "..         ...            ...         ...   \n",
       "63       False       0.698413        hg35   \n",
       "64       False       0.906250        hg34   \n",
       "68       False       0.955882        hg33   \n",
       "75       False       0.720000        hg40   \n",
       "64       False       0.750000        hg99   \n",
       "\n",
       "                                              concept  \\\n",
       "69  one of the smallest of objects who share a sha...   \n",
       "75  blue or (same color as all other objects of th...   \n",
       "60  same color as all other objects of the same shape   \n",
       "68             same shape and color as another object   \n",
       "77                 no other object has the same shape   \n",
       "..                                                ...   \n",
       "63                      larger than some other object   \n",
       "64  blue or (larger or equal in size to all other ...   \n",
       "68                        one of the largest and blue   \n",
       "75         (not blue) and same shape as a blue object   \n",
       "64                                one of the smallest   \n",
       "\n",
       "                                      rule_expression  \\\n",
       "69               (not large) or (yellow and triangle)   \n",
       "75  blue or (triangle) or (green and circle) or (y...   \n",
       "60  (blue or yellow) and (large or triangle or rec...   \n",
       "68  (medium and circle) or (rectangle and not yell...   \n",
       "77                                               and    \n",
       "..                                                ...   \n",
       "63  (large and blue) or (medium and yellow) or ((t...   \n",
       "64                                      large or blue   \n",
       "68                                     large and blue   \n",
       "75  (small and circle) or (small and rectangle) an...   \n",
       "64                               small and not yellow   \n",
       "\n",
       "                                          model_reply  \\\n",
       "69  Based on your examples, I've learned that the ...   \n",
       "75  Based on your examples, I've learned that the ...   \n",
       "60  Based on your examples, I've learned that the ...   \n",
       "68  Based on your examples, I've learned that the ...   \n",
       "77  Based on your examples, I've learned that the ...   \n",
       "..                                                ...   \n",
       "63  Based on your examples, I've learned that the ...   \n",
       "64  Based on your examples, I've learned that the ...   \n",
       "68  Based on your examples, I've learned that the ...   \n",
       "75  Based on your examples, I've learned that the ...   \n",
       "64  Based on your examples, I've learned that the ...   \n",
       "\n",
       "                                                 code  \n",
       "69  def is_rule(obj):\\n    return (not obj.large) ...  \n",
       "75  def is_rule(obj):\\n    return obj.blue or (obj...  \n",
       "60  def is_rule(obj):\\n    return (obj.blue or obj...  \n",
       "68  def is_rule(obj):\\n    return (obj.medium and ...  \n",
       "77  def is_rule(obj):\\n    return obj.size and obj...  \n",
       "..                                                ...  \n",
       "63  def is_rule(obj):\\n    return (obj.large and o...  \n",
       "64  def is_rule(obj):\\n    return obj.large or obj...  \n",
       "68  def is_rule(obj):\\n    return obj.large and ob...  \n",
       "75  def is_rule(obj):\\n    return (obj.small and o...  \n",
       "64  def is_rule(obj):\\n    return obj.small and no...  \n",
       "\n",
       "[78 rows x 7 columns]"
      ]
     },
     "execution_count": 18,
     "metadata": {},
     "output_type": "execute_result"
    }
   ],
   "source": [
    "fconcepts = mdf[(mdf['set'] >= 3) & (~mdf['concept_num'].isin(SUBSETS['boolean']))]\n",
    "\n",
    "fdf = fconcepts[fconcepts['set'] == 25].drop_duplicates(['model_reply']).loc[:, ['rule_match', 'rule_coverage', 'concept_num', 'concept', 'rule_expression', 'model_reply', 'code']].sort_values(['rule_match'])\n",
    "fdf.to_csv('./results/experiment_2/viewer_fol_rules.csv')\n",
    "fdf"
   ]
  }
 ],
 "metadata": {
  "kernelspec": {
   "display_name": "interp-env",
   "language": "python",
   "name": "python3"
  },
  "language_info": {
   "codemirror_mode": {
    "name": "ipython",
    "version": 3
   },
   "file_extension": ".py",
   "mimetype": "text/x-python",
   "name": "python",
   "nbconvert_exporter": "python",
   "pygments_lexer": "ipython3",
   "version": "3.11.0"
  }
 },
 "nbformat": 4,
 "nbformat_minor": 2
}
